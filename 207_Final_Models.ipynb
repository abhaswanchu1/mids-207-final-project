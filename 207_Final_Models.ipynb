{
 "cells": [
  {
   "cell_type": "code",
   "execution_count": 1,
   "metadata": {
    "colab": {
     "base_uri": "https://localhost:8080/"
    },
    "id": "bt0M3ccQXM0D",
    "outputId": "c47bc731-8e3c-4eb7-8ff0-6760c189a742"
   },
   "outputs": [],
   "source": [
    "import tensorflow as tf\n",
    "from tensorflow.keras import layers\n",
    "import matplotlib.pyplot as plt\n",
    "import numpy as np\n",
    "import pandas as pd\n",
    "from tensorflow.keras.models import Sequential\n",
    "from tensorflow.keras.layers import Dense, LSTM\n",
    "from tensorflow.keras.callbacks import EarlyStopping\n",
    "import gc\n",
    "from sklearn.metrics import accuracy_score, f1_score as f1, classification_report\n",
    "from tensorflow.keras.utils import to_categorical\n",
    "import random"
   ]
  },
  {
   "cell_type": "markdown",
   "metadata": {
    "id": "17XIv5r6Xg6j"
   },
   "source": [
    "# Load Data"
   ]
  },
  {
   "cell_type": "code",
   "execution_count": 2,
   "metadata": {
    "id": "i62MC9vgkOaa"
   },
   "outputs": [],
   "source": [
    "X_train = pd.read_csv('/Users/aimeewilliams/Downloads/drive-download-20241209T000309Z-001/X_train.csv')\n",
    "X_val = pd.read_csv('/Users/aimeewilliams/Downloads/drive-download-20241209T000309Z-001/X_val.csv')\n",
    "X_test = pd.read_csv('/Users/aimeewilliams/Downloads/drive-download-20241209T000309Z-001/X_test.csv')\n",
    "y_train = pd.read_csv('/Users/aimeewilliams/Downloads/drive-download-20241209T000309Z-001/y_train.csv')\n",
    "y_val = pd.read_csv('/Users/aimeewilliams/Downloads/drive-download-20241209T000309Z-001/y_val.csv')\n",
    "y_test = pd.read_csv('/Users/aimeewilliams/Downloads/drive-download-20241209T000309Z-001/y_test.csv')"
   ]
  },
  {
   "cell_type": "markdown",
   "metadata": {
    "id": "lBHxi5abWwZR"
   },
   "source": [
    "# Binary Models: Mental Health related vs. Normal"
   ]
  },
  {
   "cell_type": "markdown",
   "metadata": {
    "id": "9_ECJIDHcNl9"
   },
   "source": [
    "Baseline Model: majority class predictor"
   ]
  },
  {
   "cell_type": "code",
   "execution_count": 3,
   "metadata": {
    "colab": {
     "base_uri": "https://localhost:8080/"
    },
    "id": "ybheUUTscT4H",
    "outputId": "9eaca18e-c342-4d64-9b28-6e2802b7b021"
   },
   "outputs": [
    {
     "name": "stdout",
     "output_type": "stream",
     "text": [
      "Binary labels distribution:\n",
      "Training set - Normal: 9616, Abnormal: 21908\n",
      "Validation set - Normal: 3308, Abnormal: 7200\n",
      "Test set - Normal: 3281, Abnormal: 7228\n"
     ]
    }
   ],
   "source": [
    "#Convert labels to either 0 (normal) or 1 (abnormal) for binary model\n",
    "# Map the labels into two categories: 'normal' and 'abnormal'\n",
    "y_train_binary = np.where(y_train == 3, 0, 1)  # 0 for 'Normal', 1 for 'Abnormal'\n",
    "y_val_binary = np.where(y_val == 3, 0, 1)\n",
    "y_test_binary = np.where(y_test == 3, 0, 1)\n",
    "\n",
    "# Verify the transformation\n",
    "print(\"Binary labels distribution:\")\n",
    "print(f\"Training set - Normal: {np.sum(y_train_binary == 0)}, Abnormal: {np.sum(y_train_binary == 1)}\")\n",
    "print(f\"Validation set - Normal: {np.sum(y_val_binary == 0)}, Abnormal: {np.sum(y_val_binary == 1)}\")\n",
    "print(f\"Test set - Normal: {np.sum(y_test_binary == 0)}, Abnormal: {np.sum(y_test_binary == 1)}\")"
   ]
  },
  {
   "cell_type": "code",
   "execution_count": 4,
   "metadata": {
    "colab": {
     "base_uri": "https://localhost:8080/"
    },
    "id": "IaBcp_FycmMB",
    "outputId": "7cc19819-1a7f-424d-a2e4-a67fca03b404"
   },
   "outputs": [
    {
     "name": "stdout",
     "output_type": "stream",
     "text": [
      "Majority Class Accuracy: 0.6877914168807688\n"
     ]
    }
   ],
   "source": [
    "#predicting majority class, abnormal\n",
    "y_pred_majority = np.ones_like(y_test_binary)\n",
    "majority_accuracy = accuracy_score(y_test_binary, y_pred_majority)\n",
    "print(f\"Majority Class Accuracy: {majority_accuracy}\")"
   ]
  },
  {
   "cell_type": "markdown",
   "metadata": {},
   "source": [
    "The Majority Class Classifier has an accuracy of about 69% on the test data."
   ]
  },
  {
   "cell_type": "markdown",
   "metadata": {
    "id": "Nyq_NrGWdUrV"
   },
   "source": [
    "Preparing text for model: count vectorization"
   ]
  },
  {
   "cell_type": "code",
   "execution_count": 5,
   "metadata": {
    "colab": {
     "base_uri": "https://localhost:8080/"
    },
    "id": "OFZG6MLLOvHZ",
    "outputId": "01c9d2da-ef50-4d45-d00e-e72fc9c44bca"
   },
   "outputs": [
    {
     "name": "stdout",
     "output_type": "stream",
     "text": [
      "Training set shape: (31524, 48543)\n",
      "Validation set shape: (10508, 48543)\n",
      "Test set shape: (10509, 48543)\n"
     ]
    }
   ],
   "source": [
    "from sklearn.feature_extraction.text import CountVectorizer\n",
    "\n",
    "# Initialize CountVectorizer\n",
    "vectorizer = CountVectorizer()\n",
    "\n",
    "# Fit the vectorizer on the training data and transform it into a bag-of-words representation\n",
    "X_train_bow = vectorizer.fit_transform(X_train['0'])\n",
    "\n",
    "# Transform validation and test sets using the same vectorizer\n",
    "X_val_bow = vectorizer.transform(X_val['0'])\n",
    "X_test_bow = vectorizer.transform(X_test['0'])\n",
    "\n",
    "# Verify shapes\n",
    "print(\"Training set shape:\", X_train_bow.shape)\n",
    "print(\"Validation set shape:\", X_val_bow.shape)\n",
    "print(\"Test set shape:\", X_test_bow.shape)"
   ]
  },
  {
   "cell_type": "code",
   "execution_count": 6,
   "metadata": {
    "id": "yIfyrWLLsG0c"
   },
   "outputs": [],
   "source": [
    "X_train_bow = X_train_bow.astype(np.float32)\n",
    "X_val_bow = X_val_bow.astype(np.float32)\n",
    "X_test_bow = X_test_bow.astype(np.float32)\n",
    "\n",
    "def reshape_for_lstm(x): # for LSTM\n",
    "    dense = x.toarray()\n",
    "    # turn into float32\n",
    "    dense = dense.astype(np.float32)\n",
    "    return dense.reshape((dense.shape[0], 1, dense.shape[1]))"
   ]
  },
  {
   "cell_type": "code",
   "execution_count": 22,
   "metadata": {
    "colab": {
     "base_uri": "https://localhost:8080/"
    },
    "id": "Ssm24xPNsVJE",
    "outputId": "7df84693-acd4-4620-bd0d-f8e24bc7e6b6"
   },
   "outputs": [
    {
     "name": "stdout",
     "output_type": "stream",
     "text": [
      "(31524, 1)\n",
      "(10508, 1)\n",
      "(10509, 1)\n"
     ]
    }
   ],
   "source": [
    "X_train_lstm = reshape_for_lstm(X_train_bow)\n",
    "X_val_lstm = reshape_for_lstm(X_val_bow)\n",
    "X_test_lstm = reshape_for_lstm(X_test_bow)\n",
    "\n",
    "#Reshape arrays to work better with tf\n",
    "y_train_binary = y_train_binary.reshape(-1, 1)\n",
    "y_val_binary = y_val_binary.reshape(-1, 1)\n",
    "y_test_binary = y_test_binary.reshape(-1, 1)\n",
    "print(y_train_binary.shape)\n",
    "print(y_val_binary.shape)\n",
    "print(y_test_binary.shape)"
   ]
  },
  {
   "cell_type": "markdown",
   "metadata": {
    "id": "RTEuv0uBdcbh"
   },
   "source": [
    "Binary Model: LTSM Model"
   ]
  },
  {
   "cell_type": "code",
   "execution_count": 9,
   "metadata": {
    "id": "ziEtNNF2YqUA"
   },
   "outputs": [],
   "source": [
    "# random seed\n",
    "random.seed(42)\n",
    "np.random.seed(42)\n",
    "tf.random.set_seed(42)\n",
    "\n",
    "def build_lstm(X_train, y_train, X_val, y_val, truncate_to: int = 40000):\n",
    "\n",
    "  # Clear any TensorFlow session\n",
    "  tf.keras.backend.clear_session()\n",
    "\n",
    "  model = Sequential()\n",
    "\n",
    "  # Add an LSTM layer\n",
    "  model.add(LSTM(units=50, activation='relu', input_shape=(X_train.shape[1], X_train.shape[2])))\n",
    "\n",
    "  # Add a Dense output layer (e.g., for binary classification)\n",
    "  model.add(Dense(1, activation='sigmoid'))  # Use sigmoid for binary classification\n",
    "\n",
    "  # Compile the model\n",
    "  model.compile(optimizer='adam', loss='binary_crossentropy', metrics=['accuracy'])\n",
    "\n",
    "  # Step 6: Train the model\n",
    "  model.fit(\n",
    "      X_train,\n",
    "      y_train,\n",
    "      epochs=5, #number of cycles\n",
    "      batch_size=16, #number of samples processed at a time\n",
    "      validation_data=(X_val, y_val),\n",
    "      callbacks=[\n",
    "          EarlyStopping(monitor='val_loss', patience=2, restore_best_weights=True)\n",
    "        ]\n",
    "  )\n",
    "\n",
    "  # Step 6.5: Add Early Stopping\n",
    "\n",
    "\n",
    "  # Step 7: Evaluate the model\n",
    "  loss, accuracy = model.evaluate(X_val, y_val)\n",
    "  print(f'Validation loss: {loss}, Validation accuracy: {accuracy}')\n",
    "\n",
    "  # Step 8: Make predictions\n",
    "  predictions = model.predict(X_val)\n",
    "  print(predictions)\n",
    "\n",
    "  return {\n",
    "      'predictions': predictions,\n",
    "      'model': model,\n",
    "      'loss': loss,\n",
    "      'accuracy': accuracy\n",
    "  }"
   ]
  },
  {
   "cell_type": "code",
   "execution_count": 10,
   "metadata": {
    "colab": {
     "base_uri": "https://localhost:8080/"
    },
    "id": "z1f-YIMUey1M",
    "outputId": "c75bb3a4-6808-4bf9-80d7-774ca010da45"
   },
   "outputs": [
    {
     "name": "stderr",
     "output_type": "stream",
     "text": [
      "/Users/aimeewilliams/anaconda3/lib/python3.11/site-packages/keras/src/layers/rnn/rnn.py:204: UserWarning: Do not pass an `input_shape`/`input_dim` argument to a layer. When using Sequential models, prefer using an `Input(shape)` object as the first layer in the model instead.\n",
      "  super().__init__(**kwargs)\n"
     ]
    },
    {
     "name": "stdout",
     "output_type": "stream",
     "text": [
      "Epoch 1/5\n",
      "\u001b[1m1971/1971\u001b[0m \u001b[32m━━━━━━━━━━━━━━━━━━━━\u001b[0m\u001b[37m\u001b[0m \u001b[1m59s\u001b[0m 30ms/step - accuracy: 0.8849 - loss: 0.2669 - val_accuracy: 0.9488 - val_loss: 0.1438\n",
      "Epoch 2/5\n",
      "\u001b[1m1971/1971\u001b[0m \u001b[32m━━━━━━━━━━━━━━━━━━━━\u001b[0m\u001b[37m\u001b[0m \u001b[1m60s\u001b[0m 31ms/step - accuracy: 0.9652 - loss: 0.1005 - val_accuracy: 0.9482 - val_loss: 0.1569\n",
      "Epoch 3/5\n",
      "\u001b[1m1971/1971\u001b[0m \u001b[32m━━━━━━━━━━━━━━━━━━━━\u001b[0m\u001b[37m\u001b[0m \u001b[1m59s\u001b[0m 30ms/step - accuracy: 0.9781 - loss: 0.0608 - val_accuracy: 0.9455 - val_loss: 0.1963\n",
      "\u001b[1m329/329\u001b[0m \u001b[32m━━━━━━━━━━━━━━━━━━━━\u001b[0m\u001b[37m\u001b[0m \u001b[1m2s\u001b[0m 5ms/step - accuracy: 0.9488 - loss: 0.1392\n",
      "Validation loss: 0.14375494420528412, Validation accuracy: 0.9488009214401245\n",
      "\u001b[1m329/329\u001b[0m \u001b[32m━━━━━━━━━━━━━━━━━━━━\u001b[0m\u001b[37m\u001b[0m \u001b[1m2s\u001b[0m 5ms/step\n",
      "[[0.12124406]\n",
      " [1.        ]\n",
      " [0.9999977 ]\n",
      " ...\n",
      " [0.9999983 ]\n",
      " [0.9997361 ]\n",
      " [0.54196036]]\n"
     ]
    }
   ],
   "source": [
    "model = build_lstm(X_train_lstm, y_train_binary, X_val_lstm, y_val_binary)"
   ]
  },
  {
   "cell_type": "code",
   "execution_count": 13,
   "metadata": {},
   "outputs": [
    {
     "name": "stdout",
     "output_type": "stream",
     "text": [
      "\u001b[1m329/329\u001b[0m \u001b[32m━━━━━━━━━━━━━━━━━━━━\u001b[0m\u001b[37m\u001b[0m \u001b[1m2s\u001b[0m 5ms/step\n",
      "Accuracy: 0.9463317156722809\n",
      "F1 Score: 0.9610819762627656\n"
     ]
    }
   ],
   "source": [
    "# run model against test data and get accuracy and F1 score\n",
    "# get predictions\n",
    "predictions = model.predict(X_test_lstm)\n",
    "\n",
    "# get accuracy and f1 score from predictions\n",
    "accuracy = accuracy_score(y_test_binary, predictions.round())\n",
    "f1_score = f1(y_test_binary, predictions.round())\n",
    "\n",
    "print(f'Accuracy: {accuracy}')\n",
    "print(f'F1 Score: {f1_score}')"
   ]
  },
  {
   "cell_type": "markdown",
   "metadata": {},
   "source": [
    "Our model generalizes well to the testing data with an accuracy of ~95% and an F1 score of 96%."
   ]
  },
  {
   "cell_type": "markdown",
   "metadata": {
    "id": "XaLdKdyiX1Iu"
   },
   "source": [
    "# Multi Class Models:\n",
    "\n",
    "Baseline model: Logistic regression without embeddings, only one dense layer, multiclass output"
   ]
  },
  {
   "cell_type": "markdown",
   "metadata": {
    "id": "gUHj0ItUrWfo"
   },
   "source": [
    "Preparing text for model: vectorization"
   ]
  },
  {
   "cell_type": "code",
   "execution_count": 3,
   "metadata": {
    "id": "Z1nv1-LYrBOH"
   },
   "outputs": [],
   "source": [
    "#tokenize and vectorize text\n",
    "max_features = 10000\n",
    "sequence_length = 500 #will pad sequences to length 500\n",
    "\n",
    "vectorize_layer = layers.TextVectorization(max_tokens=max_features,\n",
    "    output_mode='int',\n",
    "    output_sequence_length=sequence_length)\n",
    "\n",
    "#adapting vectorize layer to X_train\n",
    "vectorize_layer.adapt(X_train)\n"
   ]
  },
  {
   "cell_type": "code",
   "execution_count": 24,
   "metadata": {
    "id": "1JKpBKPFrGAY"
   },
   "outputs": [
    {
     "name": "stdout",
     "output_type": "stream",
     "text": [
      "feel really weirdly almost always horny really depress normal\n",
      "tf.Tensor(\n",
      "[   2   18 3408  156   48 3580   18   97  173    0    0    0    0    0\n",
      "    0    0    0    0    0    0    0    0    0    0    0    0    0    0\n",
      "    0    0    0    0    0    0    0    0    0    0    0    0    0    0\n",
      "    0    0    0    0    0    0    0    0    0    0    0    0    0    0\n",
      "    0    0    0    0    0    0    0    0    0    0    0    0    0    0\n",
      "    0    0    0    0    0    0    0    0    0    0    0    0    0    0\n",
      "    0    0    0    0    0    0    0    0    0    0    0    0    0    0\n",
      "    0    0    0    0    0    0    0    0    0    0    0    0    0    0\n",
      "    0    0    0    0    0    0    0    0    0    0    0    0    0    0\n",
      "    0    0    0    0    0    0    0    0    0    0    0    0    0    0\n",
      "    0    0    0    0    0    0    0    0    0    0    0    0    0    0\n",
      "    0    0    0    0    0    0    0    0    0    0    0    0    0    0\n",
      "    0    0    0    0    0    0    0    0    0    0    0    0    0    0\n",
      "    0    0    0    0    0    0    0    0    0    0    0    0    0    0\n",
      "    0    0    0    0    0    0    0    0    0    0    0    0    0    0\n",
      "    0    0    0    0    0    0    0    0    0    0    0    0    0    0\n",
      "    0    0    0    0    0    0    0    0    0    0    0    0    0    0\n",
      "    0    0    0    0    0    0    0    0    0    0    0    0    0    0\n",
      "    0    0    0    0    0    0    0    0    0    0    0    0    0    0\n",
      "    0    0    0    0    0    0    0    0    0    0    0    0    0    0\n",
      "    0    0    0    0    0    0    0    0    0    0    0    0    0    0\n",
      "    0    0    0    0    0    0    0    0    0    0    0    0    0    0\n",
      "    0    0    0    0    0    0    0    0    0    0    0    0    0    0\n",
      "    0    0    0    0    0    0    0    0    0    0    0    0    0    0\n",
      "    0    0    0    0    0    0    0    0    0    0    0    0    0    0\n",
      "    0    0    0    0    0    0    0    0    0    0    0    0    0    0\n",
      "    0    0    0    0    0    0    0    0    0    0    0    0    0    0\n",
      "    0    0    0    0    0    0    0    0    0    0    0    0    0    0\n",
      "    0    0    0    0    0    0    0    0    0    0    0    0    0    0\n",
      "    0    0    0    0    0    0    0    0    0    0    0    0    0    0\n",
      "    0    0    0    0    0    0    0    0    0    0    0    0    0    0\n",
      "    0    0    0    0    0    0    0    0    0    0    0    0    0    0\n",
      "    0    0    0    0    0    0    0    0    0    0    0    0    0    0\n",
      "    0    0    0    0    0    0    0    0    0    0    0    0    0    0\n",
      "    0    0    0    0    0    0    0    0    0    0    0    0    0    0\n",
      "    0    0    0    0    0    0    0    0    0    0], shape=(500,), dtype=int64)\n",
      "get nothing leave family relationship friend dead end blade soon sit family plot ill lie soon\n",
      "tf.Tensor(\n",
      "[   4   58   66   62  141   24  308   49 2362  262  263   62 3554  146\n",
      "  328  262    0    0    0    0    0    0    0    0    0    0    0    0\n",
      "    0    0    0    0    0    0    0    0    0    0    0    0    0    0\n",
      "    0    0    0    0    0    0    0    0    0    0    0    0    0    0\n",
      "    0    0    0    0    0    0    0    0    0    0    0    0    0    0\n",
      "    0    0    0    0    0    0    0    0    0    0    0    0    0    0\n",
      "    0    0    0    0    0    0    0    0    0    0    0    0    0    0\n",
      "    0    0    0    0    0    0    0    0    0    0    0    0    0    0\n",
      "    0    0    0    0    0    0    0    0    0    0    0    0    0    0\n",
      "    0    0    0    0    0    0    0    0    0    0    0    0    0    0\n",
      "    0    0    0    0    0    0    0    0    0    0    0    0    0    0\n",
      "    0    0    0    0    0    0    0    0    0    0    0    0    0    0\n",
      "    0    0    0    0    0    0    0    0    0    0    0    0    0    0\n",
      "    0    0    0    0    0    0    0    0    0    0    0    0    0    0\n",
      "    0    0    0    0    0    0    0    0    0    0    0    0    0    0\n",
      "    0    0    0    0    0    0    0    0    0    0    0    0    0    0\n",
      "    0    0    0    0    0    0    0    0    0    0    0    0    0    0\n",
      "    0    0    0    0    0    0    0    0    0    0    0    0    0    0\n",
      "    0    0    0    0    0    0    0    0    0    0    0    0    0    0\n",
      "    0    0    0    0    0    0    0    0    0    0    0    0    0    0\n",
      "    0    0    0    0    0    0    0    0    0    0    0    0    0    0\n",
      "    0    0    0    0    0    0    0    0    0    0    0    0    0    0\n",
      "    0    0    0    0    0    0    0    0    0    0    0    0    0    0\n",
      "    0    0    0    0    0    0    0    0    0    0    0    0    0    0\n",
      "    0    0    0    0    0    0    0    0    0    0    0    0    0    0\n",
      "    0    0    0    0    0    0    0    0    0    0    0    0    0    0\n",
      "    0    0    0    0    0    0    0    0    0    0    0    0    0    0\n",
      "    0    0    0    0    0    0    0    0    0    0    0    0    0    0\n",
      "    0    0    0    0    0    0    0    0    0    0    0    0    0    0\n",
      "    0    0    0    0    0    0    0    0    0    0    0    0    0    0\n",
      "    0    0    0    0    0    0    0    0    0    0    0    0    0    0\n",
      "    0    0    0    0    0    0    0    0    0    0    0    0    0    0\n",
      "    0    0    0    0    0    0    0    0    0    0    0    0    0    0\n",
      "    0    0    0    0    0    0    0    0    0    0    0    0    0    0\n",
      "    0    0    0    0    0    0    0    0    0    0    0    0    0    0\n",
      "    0    0    0    0    0    0    0    0    0    0], shape=(500,), dtype=int64)\n",
      "pointless continue live life future already mid 30 basically middle age man break body mind go walk exhaust entire day 3miles weak physically mentally personal relationship anyone cannot deal loneliness long social person isolation yr deal physical mental issue suicidal depress nobody\n",
      "tf.Tensor(\n",
      "[ 873  364   32    9  253  167 1783  604  347  666  333  345  105  200\n",
      "  152    5  289  425  422   16    1  645  508  417  753  141   52   10\n",
      "  154  857   59  210   82 1549 1674  154  442  117  166  168   97  287\n",
      "    0    0    0    0    0    0    0    0    0    0    0    0    0    0\n",
      "    0    0    0    0    0    0    0    0    0    0    0    0    0    0\n",
      "    0    0    0    0    0    0    0    0    0    0    0    0    0    0\n",
      "    0    0    0    0    0    0    0    0    0    0    0    0    0    0\n",
      "    0    0    0    0    0    0    0    0    0    0    0    0    0    0\n",
      "    0    0    0    0    0    0    0    0    0    0    0    0    0    0\n",
      "    0    0    0    0    0    0    0    0    0    0    0    0    0    0\n",
      "    0    0    0    0    0    0    0    0    0    0    0    0    0    0\n",
      "    0    0    0    0    0    0    0    0    0    0    0    0    0    0\n",
      "    0    0    0    0    0    0    0    0    0    0    0    0    0    0\n",
      "    0    0    0    0    0    0    0    0    0    0    0    0    0    0\n",
      "    0    0    0    0    0    0    0    0    0    0    0    0    0    0\n",
      "    0    0    0    0    0    0    0    0    0    0    0    0    0    0\n",
      "    0    0    0    0    0    0    0    0    0    0    0    0    0    0\n",
      "    0    0    0    0    0    0    0    0    0    0    0    0    0    0\n",
      "    0    0    0    0    0    0    0    0    0    0    0    0    0    0\n",
      "    0    0    0    0    0    0    0    0    0    0    0    0    0    0\n",
      "    0    0    0    0    0    0    0    0    0    0    0    0    0    0\n",
      "    0    0    0    0    0    0    0    0    0    0    0    0    0    0\n",
      "    0    0    0    0    0    0    0    0    0    0    0    0    0    0\n",
      "    0    0    0    0    0    0    0    0    0    0    0    0    0    0\n",
      "    0    0    0    0    0    0    0    0    0    0    0    0    0    0\n",
      "    0    0    0    0    0    0    0    0    0    0    0    0    0    0\n",
      "    0    0    0    0    0    0    0    0    0    0    0    0    0    0\n",
      "    0    0    0    0    0    0    0    0    0    0    0    0    0    0\n",
      "    0    0    0    0    0    0    0    0    0    0    0    0    0    0\n",
      "    0    0    0    0    0    0    0    0    0    0    0    0    0    0\n",
      "    0    0    0    0    0    0    0    0    0    0    0    0    0    0\n",
      "    0    0    0    0    0    0    0    0    0    0    0    0    0    0\n",
      "    0    0    0    0    0    0    0    0    0    0    0    0    0    0\n",
      "    0    0    0    0    0    0    0    0    0    0    0    0    0    0\n",
      "    0    0    0    0    0    0    0    0    0    0    0    0    0    0\n",
      "    0    0    0    0    0    0    0    0    0    0], shape=(500,), dtype=int64)\n",
      "stand great wall look around\n",
      "tf.Tensor(\n",
      "[438 220 883  68  87   0   0   0   0   0   0   0   0   0   0   0   0   0\n",
      "   0   0   0   0   0   0   0   0   0   0   0   0   0   0   0   0   0   0\n",
      "   0   0   0   0   0   0   0   0   0   0   0   0   0   0   0   0   0   0\n",
      "   0   0   0   0   0   0   0   0   0   0   0   0   0   0   0   0   0   0\n",
      "   0   0   0   0   0   0   0   0   0   0   0   0   0   0   0   0   0   0\n",
      "   0   0   0   0   0   0   0   0   0   0   0   0   0   0   0   0   0   0\n",
      "   0   0   0   0   0   0   0   0   0   0   0   0   0   0   0   0   0   0\n",
      "   0   0   0   0   0   0   0   0   0   0   0   0   0   0   0   0   0   0\n",
      "   0   0   0   0   0   0   0   0   0   0   0   0   0   0   0   0   0   0\n",
      "   0   0   0   0   0   0   0   0   0   0   0   0   0   0   0   0   0   0\n",
      "   0   0   0   0   0   0   0   0   0   0   0   0   0   0   0   0   0   0\n",
      "   0   0   0   0   0   0   0   0   0   0   0   0   0   0   0   0   0   0\n",
      "   0   0   0   0   0   0   0   0   0   0   0   0   0   0   0   0   0   0\n",
      "   0   0   0   0   0   0   0   0   0   0   0   0   0   0   0   0   0   0\n",
      "   0   0   0   0   0   0   0   0   0   0   0   0   0   0   0   0   0   0\n",
      "   0   0   0   0   0   0   0   0   0   0   0   0   0   0   0   0   0   0\n",
      "   0   0   0   0   0   0   0   0   0   0   0   0   0   0   0   0   0   0\n",
      "   0   0   0   0   0   0   0   0   0   0   0   0   0   0   0   0   0   0\n",
      "   0   0   0   0   0   0   0   0   0   0   0   0   0   0   0   0   0   0\n",
      "   0   0   0   0   0   0   0   0   0   0   0   0   0   0   0   0   0   0\n",
      "   0   0   0   0   0   0   0   0   0   0   0   0   0   0   0   0   0   0\n",
      "   0   0   0   0   0   0   0   0   0   0   0   0   0   0   0   0   0   0\n",
      "   0   0   0   0   0   0   0   0   0   0   0   0   0   0   0   0   0   0\n",
      "   0   0   0   0   0   0   0   0   0   0   0   0   0   0   0   0   0   0\n",
      "   0   0   0   0   0   0   0   0   0   0   0   0   0   0   0   0   0   0\n",
      "   0   0   0   0   0   0   0   0   0   0   0   0   0   0   0   0   0   0\n",
      "   0   0   0   0   0   0   0   0   0   0   0   0   0   0   0   0   0   0\n",
      "   0   0   0   0   0   0   0   0   0   0   0   0   0   0], shape=(500,), dtype=int64)\n",
      "think useless try kill concoction take 22 1mg xanax well 150mg tramadol 25mg diphenhydramine 150mg seroquel lucky old brother find slump unresponsive call 911 tell breathe strangely take hospital find whole lotta drug take reason er doctor tell brother marijuana find system serious really man never touch weed assume anyway find benzos take whole script xanax recollection black take benedryl wake next morning bandage iv parent happy though live wake childhood bedrooom please mess benzos extremely dangerous brother find unconscious chock spit turn onto side grateful realize precious life always depress find point life change hope somebody find helpful near death thank god brother weird feel come check likely save life overdose today suddenly weird glimpse mother girlfriend cry miss\n",
      "tf.Tensor(\n",
      "[   8  566   23   73    1   21  969 5296 1675   93 3918 5804 3341    1\n",
      " 3918 1384  885  110  360   53 3000 8603  125 3165   31  558 5346   21\n",
      "  357   53  218    1  383   21  108 1168  169   31  360 2928   53  779\n",
      "  610   18  345   30  676  755  979  390   53 2313   21  218 3092 1675\n",
      " 7397  927   21    1  163  184  270 6354 2357   99   89  133   32  163\n",
      "  605    1  157  398 2313  353 1435  360   53 3765    1 3543  188 1095\n",
      "  244 1002  240 2780    9   48   97   53   86    9  140  136  893   53\n",
      " 1001  759  233  165  322  360  288    2   51  374  732  431    9  995\n",
      "  118  642  288 5231  266  370  122  231    0    0    0    0    0    0\n",
      "    0    0    0    0    0    0    0    0    0    0    0    0    0    0\n",
      "    0    0    0    0    0    0    0    0    0    0    0    0    0    0\n",
      "    0    0    0    0    0    0    0    0    0    0    0    0    0    0\n",
      "    0    0    0    0    0    0    0    0    0    0    0    0    0    0\n",
      "    0    0    0    0    0    0    0    0    0    0    0    0    0    0\n",
      "    0    0    0    0    0    0    0    0    0    0    0    0    0    0\n",
      "    0    0    0    0    0    0    0    0    0    0    0    0    0    0\n",
      "    0    0    0    0    0    0    0    0    0    0    0    0    0    0\n",
      "    0    0    0    0    0    0    0    0    0    0    0    0    0    0\n",
      "    0    0    0    0    0    0    0    0    0    0    0    0    0    0\n",
      "    0    0    0    0    0    0    0    0    0    0    0    0    0    0\n",
      "    0    0    0    0    0    0    0    0    0    0    0    0    0    0\n",
      "    0    0    0    0    0    0    0    0    0    0    0    0    0    0\n",
      "    0    0    0    0    0    0    0    0    0    0    0    0    0    0\n",
      "    0    0    0    0    0    0    0    0    0    0    0    0    0    0\n",
      "    0    0    0    0    0    0    0    0    0    0    0    0    0    0\n",
      "    0    0    0    0    0    0    0    0    0    0    0    0    0    0\n",
      "    0    0    0    0    0    0    0    0    0    0    0    0    0    0\n",
      "    0    0    0    0    0    0    0    0    0    0    0    0    0    0\n",
      "    0    0    0    0    0    0    0    0    0    0    0    0    0    0\n",
      "    0    0    0    0    0    0    0    0    0    0    0    0    0    0\n",
      "    0    0    0    0    0    0    0    0    0    0    0    0    0    0\n",
      "    0    0    0    0    0    0    0    0    0    0    0    0    0    0\n",
      "    0    0    0    0    0    0    0    0    0    0    0    0    0    0\n",
      "    0    0    0    0    0    0    0    0    0    0    0    0    0    0\n",
      "    0    0    0    0    0    0    0    0    0    0    0    0    0    0\n",
      "    0    0    0    0    0    0    0    0    0    0], shape=(500,), dtype=int64)\n"
     ]
    }
   ],
   "source": [
    "#sanity check: try vectorizing first five examples of X_train\n",
    "for text in X_train['0'][:5]:\n",
    "    print(text)\n",
    "    print(vectorize_layer(text))"
   ]
  },
  {
   "cell_type": "code",
   "execution_count": 25,
   "metadata": {
    "id": "QWrIqmwprODx"
   },
   "outputs": [
    {
     "name": "stdout",
     "output_type": "stream",
     "text": [
      "1287 --->  curious\n",
      " 313 --->  second\n",
      "Vocabulary size: 10000\n"
     ]
    }
   ],
   "source": [
    "#vocabulary examples\n",
    "print(\"1287 ---> \",vectorize_layer.get_vocabulary()[1287])\n",
    "print(\" 313 ---> \",vectorize_layer.get_vocabulary()[313])\n",
    "print('Vocabulary size: {}'.format(len(vectorize_layer.get_vocabulary())))"
   ]
  },
  {
   "cell_type": "code",
   "execution_count": 4,
   "metadata": {
    "id": "FLLaiXM-nyja"
   },
   "outputs": [],
   "source": [
    "#applying vectorization to train, test and val\n",
    "X_train_vectorized = vectorize_layer(X_train)\n",
    "X_test_vectorized = vectorize_layer(X_test)\n",
    "X_val_vectorized = vectorize_layer(X_val)\n",
    "\n",
    "#combining train, test and val into datasets\n",
    "train_ds = tf.data.Dataset.from_tensor_slices((X_train_vectorized, y_train))\n",
    "test_ds = tf.data.Dataset.from_tensor_slices((X_test_vectorized, y_test))\n",
    "val_ds = tf.data.Dataset.from_tensor_slices((X_val_vectorized, y_val))\n",
    "\n",
    "#configuring dataset for performance\n",
    "AUTOTUNE = tf.data.AUTOTUNE\n",
    "\n",
    "train_ds = train_ds.cache().prefetch(buffer_size=AUTOTUNE)\n",
    "val_ds = val_ds.cache().prefetch(buffer_size=AUTOTUNE)\n",
    "test_ds = test_ds.cache().prefetch(buffer_size=AUTOTUNE)\n",
    "\n",
    "train_ds = train_ds.map(lambda x, y: (tf.cast(x, tf.float32), y))\n",
    "train_ds = train_ds.batch(64)\n",
    "val_ds = val_ds.map(lambda x, y: (tf.cast(x, tf.float32), y))\n",
    "val_ds = val_ds.batch(64)\n",
    "test_ds = test_ds.map(lambda x, y: (tf.cast(x, tf.float32), y))\n",
    "test_ds = test_ds.batch(64)"
   ]
  },
  {
   "cell_type": "code",
   "execution_count": 5,
   "metadata": {
    "id": "oVFb3cxlX6n9"
   },
   "outputs": [
    {
     "name": "stderr",
     "output_type": "stream",
     "text": [
      "/Users/aimeewilliams/anaconda3/lib/python3.11/site-packages/keras/src/layers/core/input_layer.py:26: UserWarning: Argument `input_shape` is deprecated. Use `shape` instead.\n",
      "  warnings.warn(\n"
     ]
    }
   ],
   "source": [
    "tf.keras.backend.clear_session()\n",
    "tf.random.set_seed(42)\n",
    "\n",
    "model_baseline = tf.keras.Sequential()\n",
    "model_baseline.add(layers.InputLayer(input_shape=(500,)))\n",
    "model_baseline.add(layers.Dense(7, activation='softmax'))\n",
    "optimizer = tf.keras.optimizers.Adam(learning_rate=0.01)\n",
    "model_baseline.compile(loss='sparse_categorical_crossentropy', optimizer=optimizer, metrics=['accuracy'])"
   ]
  },
  {
   "cell_type": "code",
   "execution_count": 6,
   "metadata": {
    "id": "Gsp8D7XaYBvW"
   },
   "outputs": [
    {
     "name": "stdout",
     "output_type": "stream",
     "text": [
      "Epoch 1/10\n",
      "\u001b[1m493/493\u001b[0m \u001b[32m━━━━━━━━━━━━━━━━━━━━\u001b[0m\u001b[37m\u001b[0m \u001b[1m1s\u001b[0m 927us/step - accuracy: 0.3204 - loss: 316.8328 - val_accuracy: 0.3449 - val_loss: 259.0914\n",
      "Epoch 2/10\n",
      "\u001b[1m493/493\u001b[0m \u001b[32m━━━━━━━━━━━━━━━━━━━━\u001b[0m\u001b[37m\u001b[0m \u001b[1m0s\u001b[0m 808us/step - accuracy: 0.3268 - loss: 260.4908 - val_accuracy: 0.3111 - val_loss: 247.1133\n",
      "Epoch 3/10\n",
      "\u001b[1m493/493\u001b[0m \u001b[32m━━━━━━━━━━━━━━━━━━━━\u001b[0m\u001b[37m\u001b[0m \u001b[1m0s\u001b[0m 779us/step - accuracy: 0.3305 - loss: 238.4783 - val_accuracy: 0.2611 - val_loss: 271.5963\n",
      "Epoch 4/10\n",
      "\u001b[1m493/493\u001b[0m \u001b[32m━━━━━━━━━━━━━━━━━━━━\u001b[0m\u001b[37m\u001b[0m \u001b[1m0s\u001b[0m 752us/step - accuracy: 0.3309 - loss: 242.0873 - val_accuracy: 0.2953 - val_loss: 274.1454\n",
      "Epoch 5/10\n",
      "\u001b[1m493/493\u001b[0m \u001b[32m━━━━━━━━━━━━━━━━━━━━\u001b[0m\u001b[37m\u001b[0m \u001b[1m0s\u001b[0m 729us/step - accuracy: 0.3343 - loss: 241.2678 - val_accuracy: 0.3659 - val_loss: 295.3874\n",
      "Epoch 6/10\n",
      "\u001b[1m493/493\u001b[0m \u001b[32m━━━━━━━━━━━━━━━━━━━━\u001b[0m\u001b[37m\u001b[0m \u001b[1m0s\u001b[0m 776us/step - accuracy: 0.3313 - loss: 247.1499 - val_accuracy: 0.3678 - val_loss: 275.1512\n",
      "Epoch 7/10\n",
      "\u001b[1m493/493\u001b[0m \u001b[32m━━━━━━━━━━━━━━━━━━━━\u001b[0m\u001b[37m\u001b[0m \u001b[1m0s\u001b[0m 690us/step - accuracy: 0.3350 - loss: 243.1113 - val_accuracy: 0.3321 - val_loss: 303.4762\n",
      "Epoch 8/10\n",
      "\u001b[1m493/493\u001b[0m \u001b[32m━━━━━━━━━━━━━━━━━━━━\u001b[0m\u001b[37m\u001b[0m \u001b[1m0s\u001b[0m 797us/step - accuracy: 0.3366 - loss: 232.8778 - val_accuracy: 0.3398 - val_loss: 299.7333\n",
      "Epoch 9/10\n",
      "\u001b[1m493/493\u001b[0m \u001b[32m━━━━━━━━━━━━━━━━━━━━\u001b[0m\u001b[37m\u001b[0m \u001b[1m0s\u001b[0m 759us/step - accuracy: 0.3342 - loss: 238.2588 - val_accuracy: 0.3853 - val_loss: 302.7760\n",
      "Epoch 10/10\n",
      "\u001b[1m493/493\u001b[0m \u001b[32m━━━━━━━━━━━━━━━━━━━━\u001b[0m\u001b[37m\u001b[0m \u001b[1m0s\u001b[0m 754us/step - accuracy: 0.3360 - loss: 236.6943 - val_accuracy: 0.3907 - val_loss: 310.4017\n"
     ]
    },
    {
     "data": {
      "image/png": "[encoded data removed]",
      "text/plain": [
       "<Figure size 640x480 with 1 Axes>"
      ]
     },
     "metadata": {},
     "output_type": "display_data"
    }
   ],
   "source": [
    "history_baseline = model_baseline.fit(train_ds, validation_data=val_ds, epochs=10)\n",
    "\n",
    "history_dict = history_baseline.history\n",
    "acc = history_dict['accuracy']\n",
    "val_acc = history_dict['val_accuracy']\n",
    "loss = history_dict['loss']\n",
    "val_loss = history_dict['val_loss']\n",
    "\n",
    "epochs = range(1, len(acc) + 1)\n",
    "\n",
    "plt.plot(epochs, acc, label='Training Acc')\n",
    "plt.plot(epochs, val_acc, label='Validation Acc')\n",
    "plt.title('Training and Validation Accuracy')\n",
    "plt.xlabel('Epochs')\n",
    "plt.ylabel('Loss')\n",
    "plt.legend()\n",
    "\n",
    "plt.show()"
   ]
  },
  {
   "cell_type": "code",
   "execution_count": 25,
   "metadata": {},
   "outputs": [
    {
     "name": "stdout",
     "output_type": "stream",
     "text": [
      "\u001b[1m329/329\u001b[0m \u001b[32m━━━━━━━━━━━━━━━━━━━━\u001b[0m\u001b[37m\u001b[0m \u001b[1m0s\u001b[0m 258us/step\n",
      "Test F1 Score: 0.3647005060734933\n",
      "Test Classification Report:\n",
      "               precision    recall  f1-score   support\n",
      "\n",
      "           0       0.10      0.02      0.04       776\n",
      "           1       0.09      0.05      0.06       539\n",
      "           2       0.33      0.51      0.40      3069\n",
      "           3       0.68      0.61      0.64      3281\n",
      "           4       0.02      0.04      0.03       217\n",
      "           5       0.10      0.13      0.11       513\n",
      "           6       0.23      0.15      0.18      2114\n",
      "\n",
      "    accuracy                           0.38     10509\n",
      "   macro avg       0.22      0.21      0.21     10509\n",
      "weighted avg       0.37      0.38      0.36     10509\n",
      "\n"
     ]
    }
   ],
   "source": [
    "y_test_pred = model_baseline.predict(X_test_vectorized)\n",
    "y_test_pred = np.argmax(y_test_pred, axis=1)\n",
    "test_f1 = f1(y_test, y_test_pred, average='weighted')\n",
    "print(f\"Test F1 Score: {test_f1}\")\n",
    "print(\"Test Classification Report:\\n\", classification_report(y_test, y_test_pred))"
   ]
  },
  {
   "cell_type": "markdown",
   "metadata": {
    "id": "tLYQrtn4MoUr"
   },
   "source": [
    "Best Model: Feature Engineering - combining stress/anxiety and depression/suicidal classes"
   ]
  },
  {
   "cell_type": "code",
   "execution_count": 12,
   "metadata": {
    "id": "XobFH2FpMxsZ"
   },
   "outputs": [],
   "source": [
    "#change 5 to 0 and 6 to 2 in y_train\n",
    "y_train_condensed = y_train['0'].map(lambda x: 0 if x == 5 else x)\n",
    "y_train_condensed = y_train_condensed.map(lambda x: 2 if x == 6 else x)\n",
    "y_test_condensed = y_test['0'].map(lambda x: 0 if x == 5 else x)\n",
    "y_test_condensed = y_test_condensed.map(lambda x: 2 if x == 6 else x)\n",
    "y_val_condensed = y_val['0'].map(lambda x: 0 if x == 5 else x)\n",
    "y_val_condensed = y_val_condensed.map(lambda x: 2 if x == 6 else x)\n",
    "\n",
    "#combining train, test and val into datasets\n",
    "train_cond = tf.data.Dataset.from_tensor_slices((X_train_vectorized, y_train_condensed))\n",
    "test_cond = tf.data.Dataset.from_tensor_slices((X_test_vectorized, y_test_condensed))\n",
    "val_cond = tf.data.Dataset.from_tensor_slices((X_val_vectorized, y_val_condensed))\n",
    "\n",
    "#configuring dataset for performance\n",
    "AUTOTUNE = tf.data.AUTOTUNE\n",
    "\n",
    "train_cond = train_cond.cache().prefetch(buffer_size=AUTOTUNE)\n",
    "val_cond = val_cond.cache().prefetch(buffer_size=AUTOTUNE)\n",
    "test_cond = test_cond.cache().prefetch(buffer_size=AUTOTUNE)\n",
    "\n",
    "train_cond = train_cond.map(lambda x, y: (tf.cast(x, tf.float32), y))\n",
    "train_cond = train_cond.batch(64)\n",
    "val_cond = val_cond.map(lambda x, y: (tf.cast(x, tf.float32), y))\n",
    "val_cond = val_cond.batch(64)\n",
    "test_cond = test_cond.map(lambda x, y: (tf.cast(x, tf.float32), y))\n",
    "test_cond = test_cond.batch(64)"
   ]
  },
  {
   "cell_type": "code",
   "execution_count": 13,
   "metadata": {
    "id": "VHxUA_bfPVZM"
   },
   "outputs": [
    {
     "data": {
      "text/html": [
       "<pre style=\"white-space:pre;overflow-x:auto;line-height:normal;font-family:Menlo,'DejaVu Sans Mono',consolas,'Courier New',monospace\"><span style=\"font-weight: bold\">Model: \"sequential\"</span>\n",
       "</pre>\n"
      ],
      "text/plain": [
       "\u001b[1mModel: \"sequential\"\u001b[0m\n"
      ]
     },
     "metadata": {},
     "output_type": "display_data"
    },
    {
     "data": {
      "text/html": [
       "<pre style=\"white-space:pre;overflow-x:auto;line-height:normal;font-family:Menlo,'DejaVu Sans Mono',consolas,'Courier New',monospace\">┏━━━━━━━━━━━━━━━━━━━━━━━━━━━━━━━━━┳━━━━━━━━━━━━━━━━━━━━━━━━┳━━━━━━━━━━━━━━━┓\n",
       "┃<span style=\"font-weight: bold\"> Layer (type)                    </span>┃<span style=\"font-weight: bold\"> Output Shape           </span>┃<span style=\"font-weight: bold\">       Param # </span>┃\n",
       "┡━━━━━━━━━━━━━━━━━━━━━━━━━━━━━━━━━╇━━━━━━━━━━━━━━━━━━━━━━━━╇━━━━━━━━━━━━━━━┩\n",
       "│ embedding (<span style=\"color: #0087ff; text-decoration-color: #0087ff\">Embedding</span>)           │ ?                      │   <span style=\"color: #00af00; text-decoration-color: #00af00\">0</span> (unbuilt) │\n",
       "├─────────────────────────────────┼────────────────────────┼───────────────┤\n",
       "│ dropout (<span style=\"color: #0087ff; text-decoration-color: #0087ff\">Dropout</span>)               │ ?                      │   <span style=\"color: #00af00; text-decoration-color: #00af00\">0</span> (unbuilt) │\n",
       "├─────────────────────────────────┼────────────────────────┼───────────────┤\n",
       "│ global_average_pooling1d        │ ?                      │   <span style=\"color: #00af00; text-decoration-color: #00af00\">0</span> (unbuilt) │\n",
       "│ (<span style=\"color: #0087ff; text-decoration-color: #0087ff\">GlobalAveragePooling1D</span>)        │                        │               │\n",
       "├─────────────────────────────────┼────────────────────────┼───────────────┤\n",
       "│ dropout_1 (<span style=\"color: #0087ff; text-decoration-color: #0087ff\">Dropout</span>)             │ ?                      │   <span style=\"color: #00af00; text-decoration-color: #00af00\">0</span> (unbuilt) │\n",
       "├─────────────────────────────────┼────────────────────────┼───────────────┤\n",
       "│ dense (<span style=\"color: #0087ff; text-decoration-color: #0087ff\">Dense</span>)                   │ ?                      │   <span style=\"color: #00af00; text-decoration-color: #00af00\">0</span> (unbuilt) │\n",
       "└─────────────────────────────────┴────────────────────────┴───────────────┘\n",
       "</pre>\n"
      ],
      "text/plain": [
       "┏━━━━━━━━━━━━━━━━━━━━━━━━━━━━━━━━━┳━━━━━━━━━━━━━━━━━━━━━━━━┳━━━━━━━━━━━━━━━┓\n",
       "┃\u001b[1m \u001b[0m\u001b[1mLayer (type)                   \u001b[0m\u001b[1m \u001b[0m┃\u001b[1m \u001b[0m\u001b[1mOutput Shape          \u001b[0m\u001b[1m \u001b[0m┃\u001b[1m \u001b[0m\u001b[1m      Param #\u001b[0m\u001b[1m \u001b[0m┃\n",
       "┡━━━━━━━━━━━━━━━━━━━━━━━━━━━━━━━━━╇━━━━━━━━━━━━━━━━━━━━━━━━╇━━━━━━━━━━━━━━━┩\n",
       "│ embedding (\u001b[38;5;33mEmbedding\u001b[0m)           │ ?                      │   \u001b[38;5;34m0\u001b[0m (unbuilt) │\n",
       "├─────────────────────────────────┼────────────────────────┼───────────────┤\n",
       "│ dropout (\u001b[38;5;33mDropout\u001b[0m)               │ ?                      │   \u001b[38;5;34m0\u001b[0m (unbuilt) │\n",
       "├─────────────────────────────────┼────────────────────────┼───────────────┤\n",
       "│ global_average_pooling1d        │ ?                      │   \u001b[38;5;34m0\u001b[0m (unbuilt) │\n",
       "│ (\u001b[38;5;33mGlobalAveragePooling1D\u001b[0m)        │                        │               │\n",
       "├─────────────────────────────────┼────────────────────────┼───────────────┤\n",
       "│ dropout_1 (\u001b[38;5;33mDropout\u001b[0m)             │ ?                      │   \u001b[38;5;34m0\u001b[0m (unbuilt) │\n",
       "├─────────────────────────────────┼────────────────────────┼───────────────┤\n",
       "│ dense (\u001b[38;5;33mDense\u001b[0m)                   │ ?                      │   \u001b[38;5;34m0\u001b[0m (unbuilt) │\n",
       "└─────────────────────────────────┴────────────────────────┴───────────────┘\n"
      ]
     },
     "metadata": {},
     "output_type": "display_data"
    },
    {
     "data": {
      "text/html": [
       "<pre style=\"white-space:pre;overflow-x:auto;line-height:normal;font-family:Menlo,'DejaVu Sans Mono',consolas,'Courier New',monospace\"><span style=\"font-weight: bold\"> Total params: </span><span style=\"color: #00af00; text-decoration-color: #00af00\">0</span> (0.00 B)\n",
       "</pre>\n"
      ],
      "text/plain": [
       "\u001b[1m Total params: \u001b[0m\u001b[38;5;34m0\u001b[0m (0.00 B)\n"
      ]
     },
     "metadata": {},
     "output_type": "display_data"
    },
    {
     "data": {
      "text/html": [
       "<pre style=\"white-space:pre;overflow-x:auto;line-height:normal;font-family:Menlo,'DejaVu Sans Mono',consolas,'Courier New',monospace\"><span style=\"font-weight: bold\"> Trainable params: </span><span style=\"color: #00af00; text-decoration-color: #00af00\">0</span> (0.00 B)\n",
       "</pre>\n"
      ],
      "text/plain": [
       "\u001b[1m Trainable params: \u001b[0m\u001b[38;5;34m0\u001b[0m (0.00 B)\n"
      ]
     },
     "metadata": {},
     "output_type": "display_data"
    },
    {
     "data": {
      "text/html": [
       "<pre style=\"white-space:pre;overflow-x:auto;line-height:normal;font-family:Menlo,'DejaVu Sans Mono',consolas,'Courier New',monospace\"><span style=\"font-weight: bold\"> Non-trainable params: </span><span style=\"color: #00af00; text-decoration-color: #00af00\">0</span> (0.00 B)\n",
       "</pre>\n"
      ],
      "text/plain": [
       "\u001b[1m Non-trainable params: \u001b[0m\u001b[38;5;34m0\u001b[0m (0.00 B)\n"
      ]
     },
     "metadata": {},
     "output_type": "display_data"
    }
   ],
   "source": [
    "tf.keras.backend.clear_session()\n",
    "tf.random.set_seed(42)\n",
    "embedding_dim = 48\n",
    "\n",
    "model_cond = tf.keras.Sequential([\n",
    "    layers.Embedding(10000, embedding_dim),\n",
    "    layers.Dropout(0.2),\n",
    "    layers.GlobalAveragePooling1D(),\n",
    "    layers.Dropout(0.2),\n",
    "    layers.Dense(5, activation='softmax')\n",
    "])\n",
    "\n",
    "model_cond.summary()"
   ]
  },
  {
   "cell_type": "code",
   "execution_count": 14,
   "metadata": {
    "id": "SSD4DzIvSBxE"
   },
   "outputs": [
    {
     "name": "stdout",
     "output_type": "stream",
     "text": [
      "Epoch 1/50\n",
      "\u001b[1m493/493\u001b[0m \u001b[32m━━━━━━━━━━━━━━━━━━━━\u001b[0m\u001b[37m\u001b[0m \u001b[1m4s\u001b[0m 7ms/step - accuracy: 0.5528 - loss: 1.1465 - val_accuracy: 0.7367 - val_loss: 0.8228\n",
      "Epoch 2/50\n",
      "\u001b[1m493/493\u001b[0m \u001b[32m━━━━━━━━━━━━━━━━━━━━\u001b[0m\u001b[37m\u001b[0m \u001b[1m3s\u001b[0m 6ms/step - accuracy: 0.6810 - loss: 0.8843 - val_accuracy: 0.7701 - val_loss: 0.6509\n",
      "Epoch 3/50\n",
      "\u001b[1m493/493\u001b[0m \u001b[32m━━━━━━━━━━━━━━━━━━━━\u001b[0m\u001b[37m\u001b[0m \u001b[1m3s\u001b[0m 6ms/step - accuracy: 0.7221 - loss: 0.7709 - val_accuracy: 0.7809 - val_loss: 0.6212\n",
      "Epoch 4/50\n",
      "\u001b[1m493/493\u001b[0m \u001b[32m━━━━━━━━━━━━━━━━━━━━\u001b[0m\u001b[37m\u001b[0m \u001b[1m3s\u001b[0m 6ms/step - accuracy: 0.7617 - loss: 0.6725 - val_accuracy: 0.8034 - val_loss: 0.5609\n",
      "Epoch 5/50\n",
      "\u001b[1m493/493\u001b[0m \u001b[32m━━━━━━━━━━━━━━━━━━━━\u001b[0m\u001b[37m\u001b[0m \u001b[1m3s\u001b[0m 6ms/step - accuracy: 0.7781 - loss: 0.6299 - val_accuracy: 0.8123 - val_loss: 0.5180\n",
      "Epoch 6/50\n",
      "\u001b[1m493/493\u001b[0m \u001b[32m━━━━━━━━━━━━━━━━━━━━\u001b[0m\u001b[37m\u001b[0m \u001b[1m3s\u001b[0m 6ms/step - accuracy: 0.7877 - loss: 0.6047 - val_accuracy: 0.8131 - val_loss: 0.5164\n",
      "Epoch 7/50\n",
      "\u001b[1m493/493\u001b[0m \u001b[32m━━━━━━━━━━━━━━━━━━━━\u001b[0m\u001b[37m\u001b[0m \u001b[1m3s\u001b[0m 6ms/step - accuracy: 0.8058 - loss: 0.5645 - val_accuracy: 0.8330 - val_loss: 0.4958\n",
      "Epoch 8/50\n",
      "\u001b[1m493/493\u001b[0m \u001b[32m━━━━━━━━━━━━━━━━━━━━\u001b[0m\u001b[37m\u001b[0m \u001b[1m3s\u001b[0m 6ms/step - accuracy: 0.8107 - loss: 0.5446 - val_accuracy: 0.8313 - val_loss: 0.4919\n",
      "Epoch 9/50\n",
      "\u001b[1m493/493\u001b[0m \u001b[32m━━━━━━━━━━━━━━━━━━━━\u001b[0m\u001b[37m\u001b[0m \u001b[1m3s\u001b[0m 6ms/step - accuracy: 0.8160 - loss: 0.5312 - val_accuracy: 0.8334 - val_loss: 0.4761\n",
      "Epoch 10/50\n",
      "\u001b[1m493/493\u001b[0m \u001b[32m━━━━━━━━━━━━━━━━━━━━\u001b[0m\u001b[37m\u001b[0m \u001b[1m3s\u001b[0m 6ms/step - accuracy: 0.8318 - loss: 0.4964 - val_accuracy: 0.8402 - val_loss: 0.4681\n",
      "Epoch 11/50\n",
      "\u001b[1m493/493\u001b[0m \u001b[32m━━━━━━━━━━━━━━━━━━━━\u001b[0m\u001b[37m\u001b[0m \u001b[1m3s\u001b[0m 6ms/step - accuracy: 0.8360 - loss: 0.4885 - val_accuracy: 0.8349 - val_loss: 0.4533\n",
      "Epoch 12/50\n",
      "\u001b[1m493/493\u001b[0m \u001b[32m━━━━━━━━━━━━━━━━━━━━\u001b[0m\u001b[37m\u001b[0m \u001b[1m3s\u001b[0m 6ms/step - accuracy: 0.8349 - loss: 0.4872 - val_accuracy: 0.8436 - val_loss: 0.4513\n",
      "Epoch 13/50\n",
      "\u001b[1m493/493\u001b[0m \u001b[32m━━━━━━━━━━━━━━━━━━━━\u001b[0m\u001b[37m\u001b[0m \u001b[1m3s\u001b[0m 6ms/step - accuracy: 0.8348 - loss: 0.4739 - val_accuracy: 0.8434 - val_loss: 0.4419\n",
      "Epoch 14/50\n",
      "\u001b[1m493/493\u001b[0m \u001b[32m━━━━━━━━━━━━━━━━━━━━\u001b[0m\u001b[37m\u001b[0m \u001b[1m3s\u001b[0m 6ms/step - accuracy: 0.8467 - loss: 0.4458 - val_accuracy: 0.8450 - val_loss: 0.4579\n",
      "Epoch 15/50\n",
      "\u001b[1m493/493\u001b[0m \u001b[32m━━━━━━━━━━━━━━━━━━━━\u001b[0m\u001b[37m\u001b[0m \u001b[1m3s\u001b[0m 6ms/step - accuracy: 0.8465 - loss: 0.4467 - val_accuracy: 0.8429 - val_loss: 0.4651\n",
      "Epoch 16/50\n",
      "\u001b[1m493/493\u001b[0m \u001b[32m━━━━━━━━━━━━━━━━━━━━\u001b[0m\u001b[37m\u001b[0m \u001b[1m3s\u001b[0m 6ms/step - accuracy: 0.8553 - loss: 0.4285 - val_accuracy: 0.8502 - val_loss: 0.4359\n",
      "Epoch 17/50\n",
      "\u001b[1m493/493\u001b[0m \u001b[32m━━━━━━━━━━━━━━━━━━━━\u001b[0m\u001b[37m\u001b[0m \u001b[1m3s\u001b[0m 6ms/step - accuracy: 0.8513 - loss: 0.4356 - val_accuracy: 0.8529 - val_loss: 0.4477\n",
      "Epoch 18/50\n",
      "\u001b[1m493/493\u001b[0m \u001b[32m━━━━━━━━━━━━━━━━━━━━\u001b[0m\u001b[37m\u001b[0m \u001b[1m3s\u001b[0m 6ms/step - accuracy: 0.8623 - loss: 0.4132 - val_accuracy: 0.8457 - val_loss: 0.4798\n",
      "Epoch 19/50\n",
      "\u001b[1m493/493\u001b[0m \u001b[32m━━━━━━━━━━━━━━━━━━━━\u001b[0m\u001b[37m\u001b[0m \u001b[1m3s\u001b[0m 6ms/step - accuracy: 0.8577 - loss: 0.4176 - val_accuracy: 0.8555 - val_loss: 0.4443\n",
      "Epoch 20/50\n",
      "\u001b[1m493/493\u001b[0m \u001b[32m━━━━━━━━━━━━━━━━━━━━\u001b[0m\u001b[37m\u001b[0m \u001b[1m3s\u001b[0m 7ms/step - accuracy: 0.8598 - loss: 0.4082 - val_accuracy: 0.8548 - val_loss: 0.4593\n",
      "Epoch 21/50\n",
      "\u001b[1m493/493\u001b[0m \u001b[32m━━━━━━━━━━━━━━━━━━━━\u001b[0m\u001b[37m\u001b[0m \u001b[1m3s\u001b[0m 6ms/step - accuracy: 0.8645 - loss: 0.4040 - val_accuracy: 0.8617 - val_loss: 0.4342\n",
      "Epoch 22/50\n",
      "\u001b[1m493/493\u001b[0m \u001b[32m━━━━━━━━━━━━━━━━━━━━\u001b[0m\u001b[37m\u001b[0m \u001b[1m3s\u001b[0m 6ms/step - accuracy: 0.8730 - loss: 0.3850 - val_accuracy: 0.8588 - val_loss: 0.4542\n",
      "Epoch 23/50\n",
      "\u001b[1m493/493\u001b[0m \u001b[32m━━━━━━━━━━━━━━━━━━━━\u001b[0m\u001b[37m\u001b[0m \u001b[1m3s\u001b[0m 6ms/step - accuracy: 0.8730 - loss: 0.3817 - val_accuracy: 0.8525 - val_loss: 0.4699\n",
      "Epoch 24/50\n",
      "\u001b[1m493/493\u001b[0m \u001b[32m━━━━━━━━━━━━━━━━━━━━\u001b[0m\u001b[37m\u001b[0m \u001b[1m3s\u001b[0m 6ms/step - accuracy: 0.8717 - loss: 0.3831 - val_accuracy: 0.8494 - val_loss: 0.4472\n",
      "Epoch 25/50\n",
      "\u001b[1m493/493\u001b[0m \u001b[32m━━━━━━━━━━━━━━━━━━━━\u001b[0m\u001b[37m\u001b[0m \u001b[1m3s\u001b[0m 6ms/step - accuracy: 0.8753 - loss: 0.3763 - val_accuracy: 0.8446 - val_loss: 0.4943\n",
      "Epoch 26/50\n",
      "\u001b[1m493/493\u001b[0m \u001b[32m━━━━━━━━━━━━━━━━━━━━\u001b[0m\u001b[37m\u001b[0m \u001b[1m3s\u001b[0m 6ms/step - accuracy: 0.8698 - loss: 0.3849 - val_accuracy: 0.8347 - val_loss: 0.5348\n",
      "Epoch 26: early stopping\n",
      "Restoring model weights from the end of the best epoch: 21.\n"
     ]
    },
    {
     "data": {
      "image/png": "[encoded data removed]",
      "text/plain": [
       "<Figure size 640x480 with 1 Axes>"
      ]
     },
     "metadata": {},
     "output_type": "display_data"
    }
   ],
   "source": [
    "optimizer = tf.keras.optimizers.Adam(learning_rate=0.01)\n",
    "model_cond.compile(loss='sparse_categorical_crossentropy', optimizer=optimizer, metrics=['accuracy'])\n",
    "\n",
    "# define an instance of the early_stopping class\n",
    "early_stopping = tf.keras.callbacks.EarlyStopping(\n",
    "monitor='val_accuracy',\n",
    "verbose=1,\n",
    "patience=5,\n",
    "mode='max',\n",
    "restore_best_weights=True)\n",
    "\n",
    "history_cond = model_cond.fit(\n",
    "    train_cond,\n",
    "    validation_data=val_cond,\n",
    "    epochs=50,\n",
    "    callbacks=[early_stopping]\n",
    ")\n",
    "\n",
    "history_dict_3 = history_cond.history\n",
    "acc = history_dict_3['accuracy']\n",
    "val_acc = history_dict_3['val_accuracy']\n",
    "loss = history_dict_3['loss']\n",
    "val_loss = history_dict_3['val_loss']\n",
    "\n",
    "epochs = range(1, len(acc) + 1)\n",
    "\n",
    "plt.plot(epochs, acc, label='Training Acc')\n",
    "plt.plot(epochs, val_acc, label='Validation Acc')\n",
    "plt.title('Training and Validation Accuracy')\n",
    "plt.xlabel('Epochs')\n",
    "plt.ylabel('Loss')\n",
    "plt.legend()\n",
    "\n",
    "plt.show()\n"
   ]
  },
  {
   "cell_type": "code",
   "execution_count": 17,
   "metadata": {
    "id": "cBhdaIvKVeuc"
   },
   "outputs": [
    {
     "name": "stdout",
     "output_type": "stream",
     "text": [
      "\u001b[1m329/329\u001b[0m \u001b[32m━━━━━━━━━━━━━━━━━━━━\u001b[0m\u001b[37m\u001b[0m \u001b[1m0s\u001b[0m 641us/step\n",
      "Test F1 Score: 0.8525951783605576\n",
      "Test Classification Report:\n",
      "               precision    recall  f1-score   support\n",
      "\n",
      "           0       0.81      0.60      0.69      1289\n",
      "           1       0.92      0.57      0.70       539\n",
      "           2       0.88      0.92      0.90      5183\n",
      "           3       0.84      0.94      0.89      3281\n",
      "           4       0.88      0.44      0.59       217\n",
      "\n",
      "    accuracy                           0.86     10509\n",
      "   macro avg       0.87      0.69      0.75     10509\n",
      "weighted avg       0.86      0.86      0.85     10509\n",
      "\n"
     ]
    }
   ],
   "source": [
    "#testing model on test data\n",
    "y_test_pred = model_cond.predict(X_test_vectorized)\n",
    "y_test_pred = np.argmax(y_test_pred, axis=1)\n",
    "test_f1 = f1(y_test_condensed, y_test_pred, average='weighted')\n",
    "print(f\"Test F1 Score: {test_f1}\")\n",
    "print(\"Test Classification Report:\\n\", classification_report(y_test_condensed, y_test_pred))"
   ]
  },
  {
   "cell_type": "markdown",
   "metadata": {},
   "source": [
    "The model's F1 Score on the test data is ~85%."
   ]
  }
 ],
 "metadata": {
  "accelerator": "GPU",
  "colab": {
   "gpuType": "T4",
   "provenance": []
  },
  "kernelspec": {
   "display_name": "base",
   "language": "python",
   "name": "python3"
  },
  "language_info": {
   "codemirror_mode": {
    "name": "ipython",
    "version": 3
   },
   "file_extension": ".py",
   "mimetype": "text/x-python",
   "name": "python",
   "nbconvert_exporter": "python",
   "pygments_lexer": "ipython3",
   "version": "3.11.4"
  }
 },
 "nbformat": 4,
 "nbformat_minor": 0
}
