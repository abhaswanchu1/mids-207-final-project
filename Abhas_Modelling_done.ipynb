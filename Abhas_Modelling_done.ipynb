{
  "nbformat": 4,
  "nbformat_minor": 0,
  "metadata": {
    "colab": {
      "provenance": [],
      "gpuType": "L4",
      "include_colab_link": true
    },
    "kernelspec": {
      "name": "python3",
      "display_name": "Python 3"
    },
    "language_info": {
      "name": "python"
    },
    "accelerator": "GPU"
  },
  "cells": [
    {
      "cell_type": "markdown",
      "metadata": {
        "id": "view-in-github",
        "colab_type": "text"
      },
      "source": [
        "<a href=\"https://colab.research.google.com/github/abhaswanchu1/mids-207-final-project/blob/main/Abhas_Modelling_done.ipynb\" target=\"_parent\"><img src=\"https://colab.research.google.com/assets/colab-badge.svg\" alt=\"Open In Colab\"/></a>"
      ]
    },
    {
      "cell_type": "code",
      "execution_count": null,
      "metadata": {
        "colab": {
          "base_uri": "https://localhost:8080/"
        },
        "id": "uDeoBuSCpIwN",
        "outputId": "d38fe410-04ce-47bc-b160-cea601a494bc"
      },
      "outputs": [
        {
          "output_type": "stream",
          "name": "stdout",
          "text": [
            "Mounted at /content/drive\n"
          ]
        }
      ],
      "source": [
        "#Load in data from Google Drive\n",
        "from google.colab import drive\n",
        "drive.mount('/content/drive')\n"
      ]
    },
    {
      "cell_type": "markdown",
      "source": [
        "\n",
        "\n",
        "\n",
        "\n",
        "# Importing"
      ],
      "metadata": {
        "id": "QtxX24xscYAg"
      }
    },
    {
      "cell_type": "code",
      "source": [
        "import numpy as np\n",
        "from scipy.sparse import load_npz\n",
        "import tensorflow as tf\n",
        "import matplotlib.pyplot as plt\n",
        "\n",
        "path_dir = 'drive/MyDrive/'\n",
        "# Load the .npz files\n",
        "X_train_vectorized = np.load(path_dir+'X_train_vectorized.npy')\n",
        "X_val_vectorized = np.load(path_dir+'X_val_vectorized.npy')\n",
        "X_test_vectorized = np.load(path_dir+'X_test_vectorized.npy')\n",
        "\n",
        "# Load the .npy files\n",
        "y_train_binary = np.load(path_dir+'y_train_binary.npy')\n",
        "y_val_binary = np.load(path_dir+'y_val_binary.npy')\n",
        "y_test_binary = np.load(path_dir+'y_test_binary.npy')"
      ],
      "metadata": {
        "id": "8tN5-oDSpwhE"
      },
      "execution_count": null,
      "outputs": []
    },
    {
      "cell_type": "code",
      "source": [
        "X_train_vectorized.shape, X_val_vectorized.shape, X_test_vectorized.shape"
      ],
      "metadata": {
        "colab": {
          "base_uri": "https://localhost:8080/"
        },
        "id": "89vR_4uTvtTJ",
        "outputId": "0e5c12c6-4a72-40b8-bbc0-a6237a8c499e"
      },
      "execution_count": null,
      "outputs": [
        {
          "output_type": "execute_result",
          "data": {
            "text/plain": [
              "((31608, 500), (10536, 500), (10537, 500))"
            ]
          },
          "metadata": {},
          "execution_count": 3
        }
      ]
    },
    {
      "cell_type": "code",
      "source": [
        "y_train_binary.shape, y_val_binary.shape, y_test_binary.shape"
      ],
      "metadata": {
        "colab": {
          "base_uri": "https://localhost:8080/"
        },
        "id": "GQde_Yvzwxif",
        "outputId": "2c2f0390-ea93-4778-a3a5-99abc2aee47d"
      },
      "execution_count": null,
      "outputs": [
        {
          "output_type": "execute_result",
          "data": {
            "text/plain": [
              "((31608,), (10536,), (10537,))"
            ]
          },
          "metadata": {},
          "execution_count": 4
        }
      ]
    },
    {
      "cell_type": "code",
      "source": [
        "print(f\"\"\"Class Distributions\n",
        "Training set - Normal: {np.sum(y_train_binary == 0)}, Abnormal: {np.sum(y_train_binary == 1)}\n",
        "Validation set - Normal: {np.sum(y_val_binary == 0)}, Abnormal: {np.sum(y_val_binary == 1)}\n",
        "\"\"\")\n",
        "#0 is normal, 1 is abnormal"
      ],
      "metadata": {
        "colab": {
          "base_uri": "https://localhost:8080/"
        },
        "id": "Y5wJh6MVz8Jw",
        "outputId": "f403dd8c-56ad-4ac9-e09d-1224534f0694"
      },
      "execution_count": null,
      "outputs": [
        {
          "output_type": "stream",
          "name": "stdout",
          "text": [
            "Class Distributions\n",
            "Training set - Normal: 9697, Abnormal: 21911\n",
            "Validation set - Normal: 3297, Abnormal: 7239\n",
            "\n"
          ]
        }
      ]
    },
    {
      "cell_type": "markdown",
      "source": [
        "# Baseline Binary Model"
      ],
      "metadata": {
        "id": "Z-EJ1fbqceZ3"
      }
    },
    {
      "cell_type": "markdown",
      "source": [
        "Baseline Binary model with majority class as prediction"
      ],
      "metadata": {
        "id": "LKJUIT23_w6b"
      }
    },
    {
      "cell_type": "code",
      "source": [
        "#set baseline class = 1 to predict majority class\n",
        "from sklearn.metrics import accuracy_score, precision_score, recall_score, f1_score, classification_report\n",
        "training_baseline_accuracy = accuracy_score(y_train_binary, np.ones(y_train_binary.shape))\n",
        "validation_baseline_accuracy = accuracy_score(y_val_binary, np.ones(y_val_binary.shape))\n",
        "print(f\"\"\"Baseline Accuracy\n",
        "Training set: {training_baseline_accuracy}\n",
        "Validation set: {validation_baseline_accuracy}\n",
        "\"\"\")\n",
        "\n",
        "# Print the classification report with weighted average F1 score\n",
        "print(classification_report(y_test_binary, np.ones(y_test_binary.shape), target_names=['Normal', 'Abnormal'], zero_division=0))\n"
      ],
      "metadata": {
        "colab": {
          "base_uri": "https://localhost:8080/"
        },
        "id": "vLscUvPe0dEE",
        "outputId": "0fd728c4-9782-4d68-8375-5d0f339d2749"
      },
      "execution_count": null,
      "outputs": [
        {
          "output_type": "stream",
          "name": "stdout",
          "text": [
            "Baseline Accuracy\n",
            "Training set: 0.6932105796001012\n",
            "Validation set: 0.6870728929384966\n",
            "\n",
            "              precision    recall  f1-score   support\n",
            "\n",
            "      Normal       0.00      0.00      0.00      3349\n",
            "    Abnormal       0.68      1.00      0.81      7188\n",
            "\n",
            "    accuracy                           0.68     10537\n",
            "   macro avg       0.34      0.50      0.41     10537\n",
            "weighted avg       0.47      0.68      0.55     10537\n",
            "\n"
          ]
        }
      ]
    },
    {
      "cell_type": "markdown",
      "source": [
        "# Logistic Binary Classification"
      ],
      "metadata": {
        "id": "c0RCK_SHcifO"
      }
    },
    {
      "cell_type": "markdown",
      "source": [
        "Logistic Binary Classification Model (Bag of Words)"
      ],
      "metadata": {
        "id": "w0jxrnbb_pfx"
      }
    },
    {
      "cell_type": "code",
      "source": [
        "import tensorflow as tf\n",
        "import matplotlib.pyplot as plt\n",
        "#Create a better binary classification model\n",
        "def build_binary_classification_model(input_shape):\n",
        "  #housekeeping\n",
        "  tf.keras.backend.clear_session()\n",
        "  tf.random.set_seed(42)\n",
        "  np.random.seed(42)\n",
        "  #Build Model\n",
        "  model = tf.keras.Sequential([\n",
        "    tf.keras.layers.Dense(128, activation='relu', input_shape=input_shape),\n",
        "    tf.keras.layers.Dense(64, activation='relu'),\n",
        "    tf.keras.layers.Dense(32, activation='relu'),\n",
        "    tf.keras.layers.Dense(1, activation='sigmoid')\n",
        "  ])\n",
        "  #Compile Model\n",
        "  model.compile(loss='binary_crossentropy',\n",
        "                optimizer='adam',\n",
        "                metrics=[tf.keras.metrics.F1Score()])\n",
        "  return model"
      ],
      "metadata": {
        "id": "ryKXoN6d39dY"
      },
      "execution_count": null,
      "outputs": []
    },
    {
      "cell_type": "code",
      "source": [
        "def plot_history(history):\n",
        "  plt.ylabel('F1-score')\n",
        "  plt.xlabel('Epoch')\n",
        "  plt.xticks(range(0, len(history['f1_score'] + 1)))\n",
        "  plt.plot(history['f1_score'], label=\"training\", marker='o')\n",
        "  plt.plot(history['val_f1_score'], label=\"validation\", marker='o')\n",
        "  plt.ylim(0,1)\n",
        "  plt.legend()\n",
        "  plt.show()"
      ],
      "metadata": {
        "id": "5GcKPcKa3kYL"
      },
      "execution_count": null,
      "outputs": []
    },
    {
      "cell_type": "code",
      "source": [
        "binary_model = build_binary_classification_model(input_shape=(X_train_vectorized.shape[1],))\n",
        "y_train_binary = y_train_binary.reshape(-1, 1)\n",
        "y_val_binary = y_val_binary.reshape(-1, 1)\n",
        "y_train_binary = y_train_binary.astype('float32')  # Convert to float32\n",
        "y_val_binary = y_val_binary.astype('float32')\n",
        "history = binary_model.fit(X_train_vectorized, y_train_binary, epochs=5, validation_data=(X_val_vectorized, y_val_binary), verbose = 1)\n",
        "binary_model.summary()"
      ],
      "metadata": {
        "colab": {
          "base_uri": "https://localhost:8080/",
          "height": 503
        },
        "id": "9BVroidT4FzT",
        "outputId": "7edcf17c-f23f-4808-fd80-32128ada16cf"
      },
      "execution_count": null,
      "outputs": [
        {
          "output_type": "stream",
          "name": "stderr",
          "text": [
            "/usr/local/lib/python3.10/dist-packages/keras/src/layers/core/dense.py:87: UserWarning: Do not pass an `input_shape`/`input_dim` argument to a layer. When using Sequential models, prefer using an `Input(shape)` object as the first layer in the model instead.\n",
            "  super().__init__(activity_regularizer=activity_regularizer, **kwargs)\n"
          ]
        },
        {
          "output_type": "stream",
          "name": "stdout",
          "text": [
            "Epoch 1/5\n",
            "\u001b[1m988/988\u001b[0m \u001b[32m━━━━━━━━━━━━━━━━━━━━\u001b[0m\u001b[37m\u001b[0m \u001b[1m10s\u001b[0m 6ms/step - f1_score: 0.8172 - loss: 4.2284 - val_f1_score: 0.8145 - val_loss: 0.5047\n",
            "Epoch 2/5\n",
            "\u001b[1m988/988\u001b[0m \u001b[32m━━━━━━━━━━━━━━━━━━━━\u001b[0m\u001b[37m\u001b[0m \u001b[1m2s\u001b[0m 2ms/step - f1_score: 0.8188 - loss: 0.4918 - val_f1_score: 0.8145 - val_loss: 0.4198\n",
            "Epoch 3/5\n",
            "\u001b[1m988/988\u001b[0m \u001b[32m━━━━━━━━━━━━━━━━━━━━\u001b[0m\u001b[37m\u001b[0m \u001b[1m2s\u001b[0m 2ms/step - f1_score: 0.8188 - loss: 0.4485 - val_f1_score: 0.8145 - val_loss: 0.4163\n",
            "Epoch 4/5\n",
            "\u001b[1m988/988\u001b[0m \u001b[32m━━━━━━━━━━━━━━━━━━━━\u001b[0m\u001b[37m\u001b[0m \u001b[1m2s\u001b[0m 2ms/step - f1_score: 0.8188 - loss: 0.4190 - val_f1_score: 0.8144 - val_loss: 0.4315\n",
            "Epoch 5/5\n",
            "\u001b[1m988/988\u001b[0m \u001b[32m━━━━━━━━━━━━━━━━━━━━\u001b[0m\u001b[37m\u001b[0m \u001b[1m2s\u001b[0m 2ms/step - f1_score: 0.8189 - loss: 0.4057 - val_f1_score: 0.8145 - val_loss: 0.4057\n"
          ]
        },
        {
          "output_type": "display_data",
          "data": {
            "text/plain": [
              "\u001b[1mModel: \"sequential\"\u001b[0m\n"
            ],
            "text/html": [
              "<pre style=\"white-space:pre;overflow-x:auto;line-height:normal;font-family:Menlo,'DejaVu Sans Mono',consolas,'Courier New',monospace\"><span style=\"font-weight: bold\">Model: \"sequential\"</span>\n",
              "</pre>\n"
            ]
          },
          "metadata": {}
        },
        {
          "output_type": "display_data",
          "data": {
            "text/plain": [
              "┏━━━━━━━━━━━━━━━━━━━━━━━━━━━━━━━━━━━━━━┳━━━━━━━━━━━━━━━━━━━━━━━━━━━━━┳━━━━━━━━━━━━━━━━━┓\n",
              "┃\u001b[1m \u001b[0m\u001b[1mLayer (type)                        \u001b[0m\u001b[1m \u001b[0m┃\u001b[1m \u001b[0m\u001b[1mOutput Shape               \u001b[0m\u001b[1m \u001b[0m┃\u001b[1m \u001b[0m\u001b[1m        Param #\u001b[0m\u001b[1m \u001b[0m┃\n",
              "┡━━━━━━━━━━━━━━━━━━━━━━━━━━━━━━━━━━━━━━╇━━━━━━━━━━━━━━━━━━━━━━━━━━━━━╇━━━━━━━━━━━━━━━━━┩\n",
              "│ dense (\u001b[38;5;33mDense\u001b[0m)                        │ (\u001b[38;5;45mNone\u001b[0m, \u001b[38;5;34m128\u001b[0m)                 │          \u001b[38;5;34m64,128\u001b[0m │\n",
              "├──────────────────────────────────────┼─────────────────────────────┼─────────────────┤\n",
              "│ dense_1 (\u001b[38;5;33mDense\u001b[0m)                      │ (\u001b[38;5;45mNone\u001b[0m, \u001b[38;5;34m64\u001b[0m)                  │           \u001b[38;5;34m8,256\u001b[0m │\n",
              "├──────────────────────────────────────┼─────────────────────────────┼─────────────────┤\n",
              "│ dense_2 (\u001b[38;5;33mDense\u001b[0m)                      │ (\u001b[38;5;45mNone\u001b[0m, \u001b[38;5;34m32\u001b[0m)                  │           \u001b[38;5;34m2,080\u001b[0m │\n",
              "├──────────────────────────────────────┼─────────────────────────────┼─────────────────┤\n",
              "│ dense_3 (\u001b[38;5;33mDense\u001b[0m)                      │ (\u001b[38;5;45mNone\u001b[0m, \u001b[38;5;34m1\u001b[0m)                   │              \u001b[38;5;34m33\u001b[0m │\n",
              "└──────────────────────────────────────┴─────────────────────────────┴─────────────────┘\n"
            ],
            "text/html": [
              "<pre style=\"white-space:pre;overflow-x:auto;line-height:normal;font-family:Menlo,'DejaVu Sans Mono',consolas,'Courier New',monospace\">┏━━━━━━━━━━━━━━━━━━━━━━━━━━━━━━━━━━━━━━┳━━━━━━━━━━━━━━━━━━━━━━━━━━━━━┳━━━━━━━━━━━━━━━━━┓\n",
              "┃<span style=\"font-weight: bold\"> Layer (type)                         </span>┃<span style=\"font-weight: bold\"> Output Shape                </span>┃<span style=\"font-weight: bold\">         Param # </span>┃\n",
              "┡━━━━━━━━━━━━━━━━━━━━━━━━━━━━━━━━━━━━━━╇━━━━━━━━━━━━━━━━━━━━━━━━━━━━━╇━━━━━━━━━━━━━━━━━┩\n",
              "│ dense (<span style=\"color: #0087ff; text-decoration-color: #0087ff\">Dense</span>)                        │ (<span style=\"color: #00d7ff; text-decoration-color: #00d7ff\">None</span>, <span style=\"color: #00af00; text-decoration-color: #00af00\">128</span>)                 │          <span style=\"color: #00af00; text-decoration-color: #00af00\">64,128</span> │\n",
              "├──────────────────────────────────────┼─────────────────────────────┼─────────────────┤\n",
              "│ dense_1 (<span style=\"color: #0087ff; text-decoration-color: #0087ff\">Dense</span>)                      │ (<span style=\"color: #00d7ff; text-decoration-color: #00d7ff\">None</span>, <span style=\"color: #00af00; text-decoration-color: #00af00\">64</span>)                  │           <span style=\"color: #00af00; text-decoration-color: #00af00\">8,256</span> │\n",
              "├──────────────────────────────────────┼─────────────────────────────┼─────────────────┤\n",
              "│ dense_2 (<span style=\"color: #0087ff; text-decoration-color: #0087ff\">Dense</span>)                      │ (<span style=\"color: #00d7ff; text-decoration-color: #00d7ff\">None</span>, <span style=\"color: #00af00; text-decoration-color: #00af00\">32</span>)                  │           <span style=\"color: #00af00; text-decoration-color: #00af00\">2,080</span> │\n",
              "├──────────────────────────────────────┼─────────────────────────────┼─────────────────┤\n",
              "│ dense_3 (<span style=\"color: #0087ff; text-decoration-color: #0087ff\">Dense</span>)                      │ (<span style=\"color: #00d7ff; text-decoration-color: #00d7ff\">None</span>, <span style=\"color: #00af00; text-decoration-color: #00af00\">1</span>)                   │              <span style=\"color: #00af00; text-decoration-color: #00af00\">33</span> │\n",
              "└──────────────────────────────────────┴─────────────────────────────┴─────────────────┘\n",
              "</pre>\n"
            ]
          },
          "metadata": {}
        },
        {
          "output_type": "display_data",
          "data": {
            "text/plain": [
              "\u001b[1m Total params: \u001b[0m\u001b[38;5;34m223,493\u001b[0m (873.02 KB)\n"
            ],
            "text/html": [
              "<pre style=\"white-space:pre;overflow-x:auto;line-height:normal;font-family:Menlo,'DejaVu Sans Mono',consolas,'Courier New',monospace\"><span style=\"font-weight: bold\"> Total params: </span><span style=\"color: #00af00; text-decoration-color: #00af00\">223,493</span> (873.02 KB)\n",
              "</pre>\n"
            ]
          },
          "metadata": {}
        },
        {
          "output_type": "display_data",
          "data": {
            "text/plain": [
              "\u001b[1m Trainable params: \u001b[0m\u001b[38;5;34m74,497\u001b[0m (291.00 KB)\n"
            ],
            "text/html": [
              "<pre style=\"white-space:pre;overflow-x:auto;line-height:normal;font-family:Menlo,'DejaVu Sans Mono',consolas,'Courier New',monospace\"><span style=\"font-weight: bold\"> Trainable params: </span><span style=\"color: #00af00; text-decoration-color: #00af00\">74,497</span> (291.00 KB)\n",
              "</pre>\n"
            ]
          },
          "metadata": {}
        },
        {
          "output_type": "display_data",
          "data": {
            "text/plain": [
              "\u001b[1m Non-trainable params: \u001b[0m\u001b[38;5;34m0\u001b[0m (0.00 B)\n"
            ],
            "text/html": [
              "<pre style=\"white-space:pre;overflow-x:auto;line-height:normal;font-family:Menlo,'DejaVu Sans Mono',consolas,'Courier New',monospace\"><span style=\"font-weight: bold\"> Non-trainable params: </span><span style=\"color: #00af00; text-decoration-color: #00af00\">0</span> (0.00 B)\n",
              "</pre>\n"
            ]
          },
          "metadata": {}
        },
        {
          "output_type": "display_data",
          "data": {
            "text/plain": [
              "\u001b[1m Optimizer params: \u001b[0m\u001b[38;5;34m148,996\u001b[0m (582.02 KB)\n"
            ],
            "text/html": [
              "<pre style=\"white-space:pre;overflow-x:auto;line-height:normal;font-family:Menlo,'DejaVu Sans Mono',consolas,'Courier New',monospace\"><span style=\"font-weight: bold\"> Optimizer params: </span><span style=\"color: #00af00; text-decoration-color: #00af00\">148,996</span> (582.02 KB)\n",
              "</pre>\n"
            ]
          },
          "metadata": {}
        }
      ]
    },
    {
      "cell_type": "code",
      "source": [
        "import pandas as pd\n",
        "history = pd.DataFrame(history.history)\n",
        "plot_history(history)"
      ],
      "metadata": {
        "colab": {
          "base_uri": "https://localhost:8080/",
          "height": 455
        },
        "id": "qQQBREf94nbz",
        "outputId": "83759ebb-63e0-4c4e-ebe4-a654dd504f52"
      },
      "execution_count": null,
      "outputs": [
        {
          "output_type": "display_data",
          "data": {
            "text/plain": [
              "<Figure size 640x480 with 1 Axes>"
            ],
            "image/png": "[encoded data removed]"
          },
          "metadata": {}
        }
      ]
    },
    {
      "cell_type": "code",
      "source": [
        "y_preds_binary = binary_model.predict(X_test_vectorized)\n",
        "y_preds_binary = (y_preds_binary > 0.5).astype(int)\n",
        "print(classification_report(y_test_binary, y_preds_binary, target_names=['Normal', 'Abnormal'], zero_division=0))\n"
      ],
      "metadata": {
        "colab": {
          "base_uri": "https://localhost:8080/"
        },
        "id": "NgbP-msPUNQ-",
        "outputId": "08f9e040-fd8a-4da2-bc56-5e67b3c51c98"
      },
      "execution_count": null,
      "outputs": [
        {
          "output_type": "stream",
          "name": "stdout",
          "text": [
            "\u001b[1m330/330\u001b[0m \u001b[32m━━━━━━━━━━━━━━━━━━━━\u001b[0m\u001b[37m\u001b[0m \u001b[1m2s\u001b[0m 4ms/step\n",
            "              precision    recall  f1-score   support\n",
            "\n",
            "      Normal       0.78      0.73      0.75      3349\n",
            "    Abnormal       0.88      0.90      0.89      7188\n",
            "\n",
            "    accuracy                           0.85     10537\n",
            "   macro avg       0.83      0.82      0.82     10537\n",
            "weighted avg       0.85      0.85      0.85     10537\n",
            "\n"
          ]
        }
      ]
    },
    {
      "cell_type": "code",
      "source": [
        "!pip install keras-tuner\n",
        "!pip install tensorflow-addons\n"
      ],
      "metadata": {
        "colab": {
          "base_uri": "https://localhost:8080/"
        },
        "id": "kUhlMxu16kBb",
        "outputId": "e5b5e3c1-416d-4675-8de1-3773d3cb3b98"
      },
      "execution_count": null,
      "outputs": [
        {
          "output_type": "stream",
          "name": "stdout",
          "text": [
            "Collecting keras-tuner\n",
            "  Downloading keras_tuner-1.4.7-py3-none-any.whl.metadata (5.4 kB)\n",
            "Requirement already satisfied: keras in /usr/local/lib/python3.10/dist-packages (from keras-tuner) (3.5.0)\n",
            "Requirement already satisfied: packaging in /usr/local/lib/python3.10/dist-packages (from keras-tuner) (24.2)\n",
            "Requirement already satisfied: requests in /usr/local/lib/python3.10/dist-packages (from keras-tuner) (2.32.3)\n",
            "Collecting kt-legacy (from keras-tuner)\n",
            "  Downloading kt_legacy-1.0.5-py3-none-any.whl.metadata (221 bytes)\n",
            "Requirement already satisfied: absl-py in /usr/local/lib/python3.10/dist-packages (from keras->keras-tuner) (1.4.0)\n",
            "Requirement already satisfied: numpy in /usr/local/lib/python3.10/dist-packages (from keras->keras-tuner) (1.26.4)\n",
            "Requirement already satisfied: rich in /usr/local/lib/python3.10/dist-packages (from keras->keras-tuner) (13.9.4)\n",
            "Requirement already satisfied: namex in /usr/local/lib/python3.10/dist-packages (from keras->keras-tuner) (0.0.8)\n",
            "Requirement already satisfied: h5py in /usr/local/lib/python3.10/dist-packages (from keras->keras-tuner) (3.12.1)\n",
            "Requirement already satisfied: optree in /usr/local/lib/python3.10/dist-packages (from keras->keras-tuner) (0.13.1)\n",
            "Requirement already satisfied: ml-dtypes in /usr/local/lib/python3.10/dist-packages (from keras->keras-tuner) (0.4.1)\n",
            "Requirement already satisfied: charset-normalizer<4,>=2 in /usr/local/lib/python3.10/dist-packages (from requests->keras-tuner) (3.4.0)\n",
            "Requirement already satisfied: idna<4,>=2.5 in /usr/local/lib/python3.10/dist-packages (from requests->keras-tuner) (3.10)\n",
            "Requirement already satisfied: urllib3<3,>=1.21.1 in /usr/local/lib/python3.10/dist-packages (from requests->keras-tuner) (2.2.3)\n",
            "Requirement already satisfied: certifi>=2017.4.17 in /usr/local/lib/python3.10/dist-packages (from requests->keras-tuner) (2024.8.30)\n",
            "Requirement already satisfied: typing-extensions>=4.5.0 in /usr/local/lib/python3.10/dist-packages (from optree->keras->keras-tuner) (4.12.2)\n",
            "Requirement already satisfied: markdown-it-py>=2.2.0 in /usr/local/lib/python3.10/dist-packages (from rich->keras->keras-tuner) (3.0.0)\n",
            "Requirement already satisfied: pygments<3.0.0,>=2.13.0 in /usr/local/lib/python3.10/dist-packages (from rich->keras->keras-tuner) (2.18.0)\n",
            "Requirement already satisfied: mdurl~=0.1 in /usr/local/lib/python3.10/dist-packages (from markdown-it-py>=2.2.0->rich->keras->keras-tuner) (0.1.2)\n",
            "Downloading keras_tuner-1.4.7-py3-none-any.whl (129 kB)\n",
            "\u001b[2K   \u001b[90m━━━━━━━━━━━━━━━━━━━━━━━━━━━━━━━━━━━━━━━━\u001b[0m \u001b[32m129.1/129.1 kB\u001b[0m \u001b[31m4.0 MB/s\u001b[0m eta \u001b[36m0:00:00\u001b[0m\n",
            "\u001b[?25hDownloading kt_legacy-1.0.5-py3-none-any.whl (9.6 kB)\n",
            "Installing collected packages: kt-legacy, keras-tuner\n",
            "Successfully installed keras-tuner-1.4.7 kt-legacy-1.0.5\n",
            "Collecting tensorflow-addons\n",
            "  Downloading tensorflow_addons-0.23.0-cp310-cp310-manylinux_2_17_x86_64.manylinux2014_x86_64.whl.metadata (1.8 kB)\n",
            "Requirement already satisfied: packaging in /usr/local/lib/python3.10/dist-packages (from tensorflow-addons) (24.2)\n",
            "Collecting typeguard<3.0.0,>=2.7 (from tensorflow-addons)\n",
            "  Downloading typeguard-2.13.3-py3-none-any.whl.metadata (3.6 kB)\n",
            "Downloading tensorflow_addons-0.23.0-cp310-cp310-manylinux_2_17_x86_64.manylinux2014_x86_64.whl (611 kB)\n",
            "\u001b[2K   \u001b[90m━━━━━━━━━━━━━━━━━━━━━━━━━━━━━━━━━━━━━━━━\u001b[0m \u001b[32m611.8/611.8 kB\u001b[0m \u001b[31m12.4 MB/s\u001b[0m eta \u001b[36m0:00:00\u001b[0m\n",
            "\u001b[?25hDownloading typeguard-2.13.3-py3-none-any.whl (17 kB)\n",
            "Installing collected packages: typeguard, tensorflow-addons\n",
            "  Attempting uninstall: typeguard\n",
            "    Found existing installation: typeguard 4.4.1\n",
            "    Uninstalling typeguard-4.4.1:\n",
            "      Successfully uninstalled typeguard-4.4.1\n",
            "\u001b[31mERROR: pip's dependency resolver does not currently take into account all the packages that are installed. This behaviour is the source of the following dependency conflicts.\n",
            "inflect 7.4.0 requires typeguard>=4.0.1, but you have typeguard 2.13.3 which is incompatible.\u001b[0m\u001b[31m\n",
            "\u001b[0mSuccessfully installed tensorflow-addons-0.23.0 typeguard-2.13.3\n"
          ]
        }
      ]
    },
    {
      "cell_type": "markdown",
      "source": [
        "# Tuning Logistic Binay Model"
      ],
      "metadata": {
        "id": "hA-9-BNt_m8U"
      }
    },
    {
      "cell_type": "code",
      "source": [
        "import keras_tuner as kt"
      ],
      "metadata": {
        "id": "NHpglGMh6nh-"
      },
      "execution_count": null,
      "outputs": []
    },
    {
      "cell_type": "code",
      "source": [
        "def model_builder(hp):\n",
        "    tf.keras.backend.clear_session()\n",
        "    tf.random.set_seed(42)\n",
        "    np.random.seed(42)\n",
        "\n",
        "    model = tf.keras.Sequential()\n",
        "    model.add(tf.keras.layers.Dense(\n",
        "        units=hp.Int('units_1', min_value=32, max_value=512, step=32),\n",
        "        activation='relu', input_shape=(X_train_vectorized.shape[1],)))\n",
        "\n",
        "    # Add a variable number of hidden layers\n",
        "    for i in range(hp.Int('num_layers', 1, 5)): # 1 to 5 hidden layers\n",
        "        model.add(tf.keras.layers.Dense(\n",
        "            units=hp.Int(f'units_{i+2}', min_value=32, max_value=512, step=32),\n",
        "            activation='relu'))\n",
        "\n",
        "    model.add(tf.keras.layers.Dense(1, activation='sigmoid'))\n",
        "\n",
        "    # Tune the learning rate for the optimizer\n",
        "    hp_learning_rate = hp.Choice('learning_rate', values=[1e-2, 1e-3, 1e-4])\n",
        "    model.compile(loss='binary_crossentropy',\n",
        "                  optimizer=tf.keras.optimizers.Adam(learning_rate=hp_learning_rate),\n",
        "                  metrics=['f1_score'])\n",
        "    return model\n",
        "\n",
        "# Create a Keras Tuner instance (e.g., RandomSearch)\n",
        "tuner = kt.RandomSearch(\n",
        "    model_builder,\n",
        "    objective=kt.Objective(\"val_f1_score\", direction=\"max\"), # Objective to optimize\n",
        "    max_trials=5, # Number of different model configurations to try\n",
        "    executions_per_trial=3, # Number of times to train each model\n",
        "    directory='my_dir', # Directory to save results\n",
        "    project_name='binary_classification',\n",
        "    overwrite = True)\n",
        "\n",
        "# Reshape target variables\n",
        "#y_train_binary = y_train_binary.reshape(-1, 1)\n",
        "#y_val_binary = y_val_binary.reshape(-1, 1)\n",
        "\n",
        "# Search for the best hyperparameters\n",
        "tuner.search(X_train_vectorized, y_train_binary, epochs=3, validation_data=(X_val_vectorized, y_val_binary))\n",
        "\n",
        "# Get the best model\n",
        "best_binary_model = tuner.get_best_models(num_models=1)[0]\n",
        "\n",
        "history = best_binary_model.fit(X_train_vectorized, y_train_binary, epochs=2, validation_data=(X_val_vectorized, y_val_binary))\n"
      ],
      "metadata": {
        "colab": {
          "base_uri": "https://localhost:8080/"
        },
        "id": "7LJXdMIB6nwh",
        "outputId": "0ff9c007-04cc-4609-9eb4-9133edf381e4"
      },
      "execution_count": null,
      "outputs": [
        {
          "output_type": "stream",
          "name": "stdout",
          "text": [
            "Trial 5 Complete [00h 00m 55s]\n",
            "val_f1_score: 0.814514696598053\n",
            "\n",
            "Best val_f1_score So Far: 0.8184042374293009\n",
            "Total elapsed time: 00h 04m 28s\n",
            "Epoch 1/2\n"
          ]
        },
        {
          "output_type": "stream",
          "name": "stderr",
          "text": [
            "/usr/local/lib/python3.10/dist-packages/keras/src/saving/saving_lib.py:713: UserWarning: Skipping variable loading for optimizer 'adam', because it has 2 variables whereas the saved optimizer has 18 variables. \n",
            "  saveable.load_own_variables(weights_store.get(inner_path))\n"
          ]
        },
        {
          "output_type": "stream",
          "name": "stdout",
          "text": [
            "\u001b[1m988/988\u001b[0m \u001b[32m━━━━━━━━━━━━━━━━━━━━\u001b[0m\u001b[37m\u001b[0m \u001b[1m8s\u001b[0m 5ms/step - f1_score: 0.8317 - loss: 1.4274 - val_f1_score: 0.8186 - val_loss: 2.1720\n",
            "Epoch 2/2\n",
            "\u001b[1m988/988\u001b[0m \u001b[32m━━━━━━━━━━━━━━━━━━━━\u001b[0m\u001b[37m\u001b[0m \u001b[1m2s\u001b[0m 2ms/step - f1_score: 0.8293 - loss: 1.0403 - val_f1_score: 0.8195 - val_loss: 1.9301\n"
          ]
        }
      ]
    },
    {
      "cell_type": "code",
      "source": [
        "X_test_vectorized = X_test_vectorized.astype(np.float32)  # If X_test_vectorized is not float32\n",
        "X_test_vectorized = X_test_vectorized.reshape(-1, X_train_vectorized.shape[1])\n",
        "\n",
        "# Ensure y_test_binary has the correct shape\n",
        "y_test_binary = y_test_binary.astype(np.float32) # If y_test_binary is not float32\n",
        "y_test_binary = y_test_binary.reshape(-1, 1)"
      ],
      "metadata": {
        "id": "97WWXlWN_flg"
      },
      "execution_count": null,
      "outputs": []
    },
    {
      "cell_type": "code",
      "source": [
        "y_preds_binary = best_binary_model.predict(X_test_vectorized)\n",
        "y_preds_binary = (y_preds_binary > 0.5).astype(int)\n",
        "print(classification_report(y_test_binary, y_preds_binary, target_names=['Normal', 'Abnormal'], zero_division=0))\n"
      ],
      "metadata": {
        "colab": {
          "base_uri": "https://localhost:8080/"
        },
        "id": "5tUNvlwdVOAI",
        "outputId": "9f90c3a7-a6f3-4240-fa8e-819dd045831d"
      },
      "execution_count": null,
      "outputs": [
        {
          "output_type": "stream",
          "name": "stdout",
          "text": [
            "\u001b[1m330/330\u001b[0m \u001b[32m━━━━━━━━━━━━━━━━━━━━\u001b[0m\u001b[37m\u001b[0m \u001b[1m4s\u001b[0m 9ms/step\n",
            "              precision    recall  f1-score   support\n",
            "\n",
            "      Normal       0.65      0.82      0.72      3349\n",
            "    Abnormal       0.90      0.79      0.84      7188\n",
            "\n",
            "    accuracy                           0.80     10537\n",
            "   macro avg       0.78      0.81      0.78     10537\n",
            "weighted avg       0.82      0.80      0.81     10537\n",
            "\n"
          ]
        }
      ]
    },
    {
      "cell_type": "code",
      "source": [
        "best_binary_model.summary()\n",
        "history = pd.DataFrame(history.history)\n",
        "plot_history(history)"
      ],
      "metadata": {
        "colab": {
          "base_uri": "https://localhost:8080/",
          "height": 713
        },
        "id": "Koxs1bnr7xkQ",
        "outputId": "93e7e600-5695-41bc-9119-ee9cf180381d"
      },
      "execution_count": null,
      "outputs": [
        {
          "output_type": "display_data",
          "data": {
            "text/plain": [
              "\u001b[1mModel: \"sequential\"\u001b[0m\n"
            ],
            "text/html": [
              "<pre style=\"white-space:pre;overflow-x:auto;line-height:normal;font-family:Menlo,'DejaVu Sans Mono',consolas,'Courier New',monospace\"><span style=\"font-weight: bold\">Model: \"sequential\"</span>\n",
              "</pre>\n"
            ]
          },
          "metadata": {}
        },
        {
          "output_type": "display_data",
          "data": {
            "text/plain": [
              "┏━━━━━━━━━━━━━━━━━━━━━━━━━━━━━━━━━━━━━━┳━━━━━━━━━━━━━━━━━━━━━━━━━━━━━┳━━━━━━━━━━━━━━━━━┓\n",
              "┃\u001b[1m \u001b[0m\u001b[1mLayer (type)                        \u001b[0m\u001b[1m \u001b[0m┃\u001b[1m \u001b[0m\u001b[1mOutput Shape               \u001b[0m\u001b[1m \u001b[0m┃\u001b[1m \u001b[0m\u001b[1m        Param #\u001b[0m\u001b[1m \u001b[0m┃\n",
              "┡━━━━━━━━━━━━━━━━━━━━━━━━━━━━━━━━━━━━━━╇━━━━━━━━━━━━━━━━━━━━━━━━━━━━━╇━━━━━━━━━━━━━━━━━┩\n",
              "│ dense (\u001b[38;5;33mDense\u001b[0m)                        │ (\u001b[38;5;45mNone\u001b[0m, \u001b[38;5;34m512\u001b[0m)                 │         \u001b[38;5;34m256,512\u001b[0m │\n",
              "├──────────────────────────────────────┼─────────────────────────────┼─────────────────┤\n",
              "│ dense_1 (\u001b[38;5;33mDense\u001b[0m)                      │ (\u001b[38;5;45mNone\u001b[0m, \u001b[38;5;34m320\u001b[0m)                 │         \u001b[38;5;34m164,160\u001b[0m │\n",
              "├──────────────────────────────────────┼─────────────────────────────┼─────────────────┤\n",
              "│ dense_2 (\u001b[38;5;33mDense\u001b[0m)                      │ (\u001b[38;5;45mNone\u001b[0m, \u001b[38;5;34m416\u001b[0m)                 │         \u001b[38;5;34m133,536\u001b[0m │\n",
              "├──────────────────────────────────────┼─────────────────────────────┼─────────────────┤\n",
              "│ dense_3 (\u001b[38;5;33mDense\u001b[0m)                      │ (\u001b[38;5;45mNone\u001b[0m, \u001b[38;5;34m1\u001b[0m)                   │             \u001b[38;5;34m417\u001b[0m │\n",
              "└──────────────────────────────────────┴─────────────────────────────┴─────────────────┘\n"
            ],
            "text/html": [
              "<pre style=\"white-space:pre;overflow-x:auto;line-height:normal;font-family:Menlo,'DejaVu Sans Mono',consolas,'Courier New',monospace\">┏━━━━━━━━━━━━━━━━━━━━━━━━━━━━━━━━━━━━━━┳━━━━━━━━━━━━━━━━━━━━━━━━━━━━━┳━━━━━━━━━━━━━━━━━┓\n",
              "┃<span style=\"font-weight: bold\"> Layer (type)                         </span>┃<span style=\"font-weight: bold\"> Output Shape                </span>┃<span style=\"font-weight: bold\">         Param # </span>┃\n",
              "┡━━━━━━━━━━━━━━━━━━━━━━━━━━━━━━━━━━━━━━╇━━━━━━━━━━━━━━━━━━━━━━━━━━━━━╇━━━━━━━━━━━━━━━━━┩\n",
              "│ dense (<span style=\"color: #0087ff; text-decoration-color: #0087ff\">Dense</span>)                        │ (<span style=\"color: #00d7ff; text-decoration-color: #00d7ff\">None</span>, <span style=\"color: #00af00; text-decoration-color: #00af00\">512</span>)                 │         <span style=\"color: #00af00; text-decoration-color: #00af00\">256,512</span> │\n",
              "├──────────────────────────────────────┼─────────────────────────────┼─────────────────┤\n",
              "│ dense_1 (<span style=\"color: #0087ff; text-decoration-color: #0087ff\">Dense</span>)                      │ (<span style=\"color: #00d7ff; text-decoration-color: #00d7ff\">None</span>, <span style=\"color: #00af00; text-decoration-color: #00af00\">320</span>)                 │         <span style=\"color: #00af00; text-decoration-color: #00af00\">164,160</span> │\n",
              "├──────────────────────────────────────┼─────────────────────────────┼─────────────────┤\n",
              "│ dense_2 (<span style=\"color: #0087ff; text-decoration-color: #0087ff\">Dense</span>)                      │ (<span style=\"color: #00d7ff; text-decoration-color: #00d7ff\">None</span>, <span style=\"color: #00af00; text-decoration-color: #00af00\">416</span>)                 │         <span style=\"color: #00af00; text-decoration-color: #00af00\">133,536</span> │\n",
              "├──────────────────────────────────────┼─────────────────────────────┼─────────────────┤\n",
              "│ dense_3 (<span style=\"color: #0087ff; text-decoration-color: #0087ff\">Dense</span>)                      │ (<span style=\"color: #00d7ff; text-decoration-color: #00d7ff\">None</span>, <span style=\"color: #00af00; text-decoration-color: #00af00\">1</span>)                   │             <span style=\"color: #00af00; text-decoration-color: #00af00\">417</span> │\n",
              "└──────────────────────────────────────┴─────────────────────────────┴─────────────────┘\n",
              "</pre>\n"
            ]
          },
          "metadata": {}
        },
        {
          "output_type": "display_data",
          "data": {
            "text/plain": [
              "\u001b[1m Total params: \u001b[0m\u001b[38;5;34m1,663,877\u001b[0m (6.35 MB)\n"
            ],
            "text/html": [
              "<pre style=\"white-space:pre;overflow-x:auto;line-height:normal;font-family:Menlo,'DejaVu Sans Mono',consolas,'Courier New',monospace\"><span style=\"font-weight: bold\"> Total params: </span><span style=\"color: #00af00; text-decoration-color: #00af00\">1,663,877</span> (6.35 MB)\n",
              "</pre>\n"
            ]
          },
          "metadata": {}
        },
        {
          "output_type": "display_data",
          "data": {
            "text/plain": [
              "\u001b[1m Trainable params: \u001b[0m\u001b[38;5;34m554,625\u001b[0m (2.12 MB)\n"
            ],
            "text/html": [
              "<pre style=\"white-space:pre;overflow-x:auto;line-height:normal;font-family:Menlo,'DejaVu Sans Mono',consolas,'Courier New',monospace\"><span style=\"font-weight: bold\"> Trainable params: </span><span style=\"color: #00af00; text-decoration-color: #00af00\">554,625</span> (2.12 MB)\n",
              "</pre>\n"
            ]
          },
          "metadata": {}
        },
        {
          "output_type": "display_data",
          "data": {
            "text/plain": [
              "\u001b[1m Non-trainable params: \u001b[0m\u001b[38;5;34m0\u001b[0m (0.00 B)\n"
            ],
            "text/html": [
              "<pre style=\"white-space:pre;overflow-x:auto;line-height:normal;font-family:Menlo,'DejaVu Sans Mono',consolas,'Courier New',monospace\"><span style=\"font-weight: bold\"> Non-trainable params: </span><span style=\"color: #00af00; text-decoration-color: #00af00\">0</span> (0.00 B)\n",
              "</pre>\n"
            ]
          },
          "metadata": {}
        },
        {
          "output_type": "display_data",
          "data": {
            "text/plain": [
              "\u001b[1m Optimizer params: \u001b[0m\u001b[38;5;34m1,109,252\u001b[0m (4.23 MB)\n"
            ],
            "text/html": [
              "<pre style=\"white-space:pre;overflow-x:auto;line-height:normal;font-family:Menlo,'DejaVu Sans Mono',consolas,'Courier New',monospace\"><span style=\"font-weight: bold\"> Optimizer params: </span><span style=\"color: #00af00; text-decoration-color: #00af00\">1,109,252</span> (4.23 MB)\n",
              "</pre>\n"
            ]
          },
          "metadata": {}
        },
        {
          "output_type": "display_data",
          "data": {
            "text/plain": [
              "<Figure size 640x480 with 1 Axes>"
            ],
            "image/png": "[encoded data removed]"
          },
          "metadata": {}
        }
      ]
    },
    {
      "cell_type": "code",
      "source": [
        "#tf.keras.utils.plot_model(best_binary_model, show_shapes=True)\n"
      ],
      "metadata": {
        "id": "PFgQnJrsCODr"
      },
      "execution_count": null,
      "outputs": []
    },
    {
      "cell_type": "markdown",
      "source": [
        "# Binary Classification LSTM Model with Embeddings"
      ],
      "metadata": {
        "id": "FY7OPU_LdA-p"
      }
    },
    {
      "cell_type": "markdown",
      "source": [
        "LSTM Model with Embeddings"
      ],
      "metadata": {
        "id": "eD6k_Bpv_he3"
      }
    },
    {
      "cell_type": "code",
      "source": [
        "#Let's build an LSTM model with embeddings next\n",
        "def build_lstm_model_with_embeddings(vocab_size, embedding_dim, optimizer,input_length):\n",
        "   tf.keras.backend.clear_session()\n",
        "   tf.random.set_seed(42)\n",
        "   np.random.seed(42)\n",
        "   model = tf.keras.Sequential([\n",
        "       tf.keras.layers.Embedding(input_dim = vocab_size, output_dim=embedding_dim, input_length=input_length),\n",
        "       tf.keras.layers.LSTM(128, return_sequences=True),\n",
        "       tf.keras.layers.Dropout(0.2),\n",
        "       tf.keras.layers.LSTM(64),\n",
        "       tf.keras.layers.Dropout(0.2),\n",
        "       tf.keras.layers.Dense(1, activation='sigmoid')\n",
        "   ])\n",
        "\n",
        "   model.compile(loss='binary_crossentropy',\n",
        "                 optimizer=optimizer,\n",
        "                 metrics=['f1_score'])\n",
        "   return model\n",
        "\n",
        "vocab_size = 10000\n",
        "embedding_dim = 128\n",
        "optimizer = 'adam'\n",
        "input_length = X_train_vectorized.shape[1]\n",
        "lstm_model_with_embeddings = build_lstm_model_with_embeddings(vocab_size, embedding_dim, optimizer,input_length)\n",
        "history_1 = lstm_model_with_embeddings.fit(X_train_vectorized, y_train_binary, epochs=2, validation_data=(X_val_vectorized, y_val_binary))\n",
        "history_1 = pd.DataFrame(history_1.history)\n",
        "lstm_model = build_lstm_model_with_embeddings(vocab_size, embedding_dim,optimizer, input_length)\n",
        "plot_history(history)"
      ],
      "metadata": {
        "colab": {
          "base_uri": "https://localhost:8080/",
          "height": 559
        },
        "id": "ZtjfxSAkDB8n",
        "outputId": "75d9c373-0f86-4f38-f200-9eeae6c3b0c6"
      },
      "execution_count": null,
      "outputs": [
        {
          "output_type": "stream",
          "name": "stdout",
          "text": [
            "Epoch 1/2\n"
          ]
        },
        {
          "output_type": "stream",
          "name": "stderr",
          "text": [
            "/usr/local/lib/python3.10/dist-packages/keras/src/layers/core/embedding.py:90: UserWarning: Argument `input_length` is deprecated. Just remove it.\n",
            "  warnings.warn(\n"
          ]
        },
        {
          "output_type": "stream",
          "name": "stdout",
          "text": [
            "\u001b[1m988/988\u001b[0m \u001b[32m━━━━━━━━━━━━━━━━━━━━\u001b[0m\u001b[37m\u001b[0m \u001b[1m46s\u001b[0m 41ms/step - f1_score: 0.8188 - loss: 0.6224 - val_f1_score: 0.8145 - val_loss: 0.6218\n",
            "Epoch 2/2\n",
            "\u001b[1m988/988\u001b[0m \u001b[32m━━━━━━━━━━━━━━━━━━━━\u001b[0m\u001b[37m\u001b[0m \u001b[1m40s\u001b[0m 41ms/step - f1_score: 0.8188 - loss: 0.6181 - val_f1_score: 0.8145 - val_loss: 0.6217\n"
          ]
        },
        {
          "output_type": "display_data",
          "data": {
            "text/plain": [
              "<Figure size 640x480 with 1 Axes>"
            ],
            "image/png": "[encoded data removed]"
          },
          "metadata": {}
        }
      ]
    },
    {
      "cell_type": "code",
      "source": [
        "y_preds_binary = lstm_model_with_embeddings.predict(X_test_vectorized)\n",
        "y_preds_binary = (y_preds_binary > 0.5).astype(int)\n",
        "print(classification_report(y_test_binary, y_preds_binary, target_names=['Normal', 'Abnormal'], zero_division=0))\n"
      ],
      "metadata": {
        "id": "TWsXk1loVXQd",
        "colab": {
          "base_uri": "https://localhost:8080/"
        },
        "outputId": "981b91cd-500e-4fe6-f746-9bbafec13a70"
      },
      "execution_count": null,
      "outputs": [
        {
          "output_type": "stream",
          "name": "stdout",
          "text": [
            "\u001b[1m330/330\u001b[0m \u001b[32m━━━━━━━━━━━━━━━━━━━━\u001b[0m\u001b[37m\u001b[0m \u001b[1m5s\u001b[0m 16ms/step\n",
            "              precision    recall  f1-score   support\n",
            "\n",
            "      Normal       0.00      0.00      0.00      3349\n",
            "    Abnormal       0.68      1.00      0.81      7188\n",
            "\n",
            "    accuracy                           0.68     10537\n",
            "   macro avg       0.34      0.50      0.41     10537\n",
            "weighted avg       0.47      0.68      0.55     10537\n",
            "\n"
          ]
        }
      ]
    },
    {
      "cell_type": "markdown",
      "source": [
        "# Tuning LSTM Binary Model"
      ],
      "metadata": {
        "id": "pODx_067dLzA"
      }
    },
    {
      "cell_type": "code",
      "source": [
        "#!pip install scikeras\n",
        "#!pip install scikit-learn"
      ],
      "metadata": {
        "id": "7ogeaukgLfWr"
      },
      "execution_count": null,
      "outputs": []
    },
    {
      "cell_type": "code",
      "source": [
        "def lstm_model_builder(hp):\n",
        "    tf.keras.backend.clear_session()\n",
        "    tf.random.set_seed(42)\n",
        "    np.random.seed(42)\n",
        "\n",
        "    # Tune the vocabulary size\n",
        "    vocab_size = hp.Int('vocab_size', min_value=500, max_value=20000, step=500)\n",
        "\n",
        "    # Tune the embedding dimension\n",
        "    embedding_dim = hp.Int('embedding_dim', min_value=64, max_value=256, step=64)\n",
        "\n",
        "    # Tune the number of LSTM units\n",
        "    lstm_units_1 = hp.Int('lstm_units_1', min_value=64, max_value=256, step=64)\n",
        "    lstm_units_2 = hp.Int('lstm_units_2', min_value=32, max_value=128, step=32)\n",
        "\n",
        "    # Tune the dropout rate\n",
        "    dropout_rate = hp.Float('dropout_rate', min_value=0.1, max_value=0.5, step=0.1)\n",
        "\n",
        "    # Tune the learning rate\n",
        "    hp_learning_rate = hp.Choice('learning_rate', values=[1e-2, 1e-3, 1e-4])\n",
        "\n",
        "    model = tf.keras.Sequential([\n",
        "        tf.keras.layers.Embedding(input_dim=vocab_size, output_dim=embedding_dim, input_length=X_train_vectorized.shape[1]),\n",
        "        tf.keras.layers.LSTM(lstm_units_1, return_sequences=True),\n",
        "        tf.keras.layers.Dropout(dropout_rate),\n",
        "        tf.keras.layers.LSTM(lstm_units_2),\n",
        "        tf.keras.layers.Dropout(dropout_rate),\n",
        "        tf.keras.layers.Dense(1, activation='sigmoid')\n",
        "    ])\n",
        "\n",
        "    model.compile(loss='binary_crossentropy',\n",
        "                  optimizer=tf.keras.optimizers.Adam(learning_rate=hp_learning_rate),\n",
        "                  metrics=['f1_score'])\n",
        "\n",
        "    return model\n",
        "\n",
        "# Create a Keras Tuner instance (e.g., RandomSearch)\n",
        "tuner = kt.RandomSearch(\n",
        "    lstm_model_builder,\n",
        "    objective='val_f1_score', # Objective to optimize\n",
        "    max_trials=3, # Number of different model configurations to try\n",
        "    executions_per_trial=3, # Number of times to train each model\n",
        "    directory='my_dir', # Directory to save results\n",
        "    project_name='lstm_binary_classification')\n",
        "\n",
        "# Search for the best hyperparameters\n",
        "tuner.search(X_train_vectorized, y_train_binary, epochs=3, validation_data=(X_val_vectorized, y_val_binary))\n",
        "\n",
        "# Get the best model\n",
        "best_lstm_model = tuner.get_best_models(num_models=1)[0]"
      ],
      "metadata": {
        "colab": {
          "base_uri": "https://localhost:8080/"
        },
        "id": "VuzwsKIqKnNe",
        "outputId": "ee37f0f2-4ec9-470f-8615-f35480e4fb3b"
      },
      "execution_count": null,
      "outputs": [
        {
          "output_type": "stream",
          "name": "stdout",
          "text": [
            "Trial 5 Complete [00h 06m 42s]\n",
            "val_f1_score: 0.814514696598053\n",
            "\n",
            "Best val_f1_score So Far: 0.814514696598053\n",
            "Total elapsed time: 00h 31m 23s\n"
          ]
        },
        {
          "output_type": "stream",
          "name": "stderr",
          "text": [
            "/usr/local/lib/python3.10/dist-packages/keras/src/saving/saving_lib.py:713: UserWarning: Skipping variable loading for optimizer 'adam', because it has 2 variables whereas the saved optimizer has 20 variables. \n",
            "  saveable.load_own_variables(weights_store.get(inner_path))\n"
          ]
        }
      ]
    },
    {
      "cell_type": "code",
      "source": [
        "y_preds_binary = best_lstm_model.predict(X_test_vectorized)\n",
        "y_preds_binary = (y_preds_binary > 0.5).astype(int)\n",
        "print(classification_report(y_test_binary, y_preds_binary, target_names=['Normal', 'Abnormal'], zero_division=0))\n"
      ],
      "metadata": {
        "colab": {
          "base_uri": "https://localhost:8080/"
        },
        "id": "TUky2RC5SAsf",
        "outputId": "dcf5078a-639b-4080-ada4-f533698616ce"
      },
      "execution_count": null,
      "outputs": [
        {
          "output_type": "stream",
          "name": "stdout",
          "text": [
            "\u001b[1m330/330\u001b[0m \u001b[32m━━━━━━━━━━━━━━━━━━━━\u001b[0m\u001b[37m\u001b[0m \u001b[1m5s\u001b[0m 16ms/step\n",
            "              precision    recall  f1-score   support\n",
            "\n",
            "      Normal       0.00      0.00      0.00      3349\n",
            "    Abnormal       0.68      1.00      0.81      7188\n",
            "\n",
            "    accuracy                           0.68     10537\n",
            "   macro avg       0.34      0.50      0.41     10537\n",
            "weighted avg       0.47      0.68      0.55     10537\n",
            "\n"
          ]
        }
      ]
    },
    {
      "cell_type": "markdown",
      "source": [
        "# Baseline Multi-Class Logistic Model"
      ],
      "metadata": {
        "id": "glOnMheAdUJL"
      }
    },
    {
      "cell_type": "markdown",
      "source": [
        "Next: Baseline Multi-class Classification\n",
        "Let's use a simple logistic regression with a couple densely connected layers.\n"
      ],
      "metadata": {
        "id": "ljvR13o4_buG"
      }
    },
    {
      "cell_type": "code",
      "source": [
        "y_train_multi = np.load(path_dir+'y_train_multi.npy')\n",
        "y_val_multi = np.load(path_dir+'y_val_multi.npy')\n",
        "y_test_multi = np.load(path_dir+'y_test_multi.npy')"
      ],
      "metadata": {
        "id": "7raO9DKN_a0Z"
      },
      "execution_count": null,
      "outputs": []
    },
    {
      "cell_type": "code",
      "source": [
        "#one-hot encode y_train_multi, y_val_multi and y_test_multi\n",
        "#should have 7 classes\n",
        "from sklearn.preprocessing import OneHotEncoder\n",
        "y_train_multi_one_hot = tf.keras.utils.to_categorical(y_train_multi, num_classes=7)\n",
        "y_val_multi_one_hot = tf.keras.utils.to_categorical(y_val_multi, num_classes=7)\n",
        "y_test_multi_one_hot = tf.keras.utils.to_categorical(y_test_multi, num_classes=7)"
      ],
      "metadata": {
        "id": "cXSQl7JhFIlR"
      },
      "execution_count": null,
      "outputs": []
    },
    {
      "cell_type": "code",
      "source": [
        "y_train_multi_one_hot.shape, y_val_multi_one_hot.shape, y_test_multi_one_hot.shape\n"
      ],
      "metadata": {
        "colab": {
          "base_uri": "https://localhost:8080/"
        },
        "id": "_0erTeZiFiKG",
        "outputId": "375b1ce1-427c-4fd4-ae7d-ad23dd0a1bf3"
      },
      "execution_count": null,
      "outputs": [
        {
          "output_type": "execute_result",
          "data": {
            "text/plain": [
              "((31608, 7), (10536, 7), (10537, 7))"
            ]
          },
          "metadata": {},
          "execution_count": 26
        }
      ]
    },
    {
      "cell_type": "code",
      "source": [
        "y_train_multi_one_hot[0] #confirm it's one-hot encoded"
      ],
      "metadata": {
        "colab": {
          "base_uri": "https://localhost:8080/"
        },
        "id": "pH-Qr38QFj_q",
        "outputId": "72e4ecbb-2c31-4bb1-d792-440e0abd090e"
      },
      "execution_count": null,
      "outputs": [
        {
          "output_type": "execute_result",
          "data": {
            "text/plain": [
              "array([0., 0., 0., 1., 0., 0., 0.])"
            ]
          },
          "metadata": {},
          "execution_count": 27
        }
      ]
    },
    {
      "cell_type": "code",
      "source": [
        "\n",
        "def build_multi_class_logistic_model(input_shape):\n",
        "  tf.keras.backend.clear_session()\n",
        "  tf.random.set_seed(42)\n",
        "  np.random.seed(42)\n",
        "  model = tf.keras.Sequential([\n",
        "    tf.keras.layers.Dense(128, activation='relu', input_shape=input_shape),\n",
        "    tf.keras.layers.Dense(64, activation='relu'),\n",
        "    tf.keras.layers.Dense(32, activation='relu'),\n",
        "    tf.keras.layers.Dense(7, activation='softmax')\n",
        "  ])\n",
        "  model.compile(loss='categorical_crossentropy',\n",
        "                optimizer='adam',\n",
        "                metrics=['f1_score'])\n",
        "  return model\n",
        "\n",
        "multi_class_baseline_model = build_multi_class_logistic_model(input_shape=(X_train_vectorized.shape[1],))\n",
        "history_2 = multi_class_baseline_model.fit(X_train_vectorized, y_train_multi_one_hot, epochs=5, validation_data=(X_val_vectorized, y_val_multi_one_hot), verbose = 1)\n"
      ],
      "metadata": {
        "colab": {
          "base_uri": "https://localhost:8080/"
        },
        "id": "ksFDkod7KiHz",
        "outputId": "4df2091a-e487-4b1b-fc33-24845fbb4bf3"
      },
      "execution_count": null,
      "outputs": [
        {
          "output_type": "stream",
          "name": "stderr",
          "text": [
            "/usr/local/lib/python3.10/dist-packages/keras/src/layers/core/dense.py:87: UserWarning: Do not pass an `input_shape`/`input_dim` argument to a layer. When using Sequential models, prefer using an `Input(shape)` object as the first layer in the model instead.\n",
            "  super().__init__(activity_regularizer=activity_regularizer, **kwargs)\n"
          ]
        },
        {
          "output_type": "stream",
          "name": "stdout",
          "text": [
            "Epoch 1/5\n",
            "\u001b[1m988/988\u001b[0m \u001b[32m━━━━━━━━━━━━━━━━━━━━\u001b[0m\u001b[37m\u001b[0m \u001b[1m9s\u001b[0m 6ms/step - f1_score: 0.1420 - loss: 26.0366 - val_f1_score: 0.1137 - val_loss: 1.6401\n",
            "Epoch 2/5\n",
            "\u001b[1m988/988\u001b[0m \u001b[32m━━━━━━━━━━━━━━━━━━━━\u001b[0m\u001b[37m\u001b[0m \u001b[1m2s\u001b[0m 2ms/step - f1_score: 0.1289 - loss: 1.6139 - val_f1_score: 0.1461 - val_loss: 1.5662\n",
            "Epoch 3/5\n",
            "\u001b[1m988/988\u001b[0m \u001b[32m━━━━━━━━━━━━━━━━━━━━\u001b[0m\u001b[37m\u001b[0m \u001b[1m2s\u001b[0m 2ms/step - f1_score: 0.1382 - loss: 1.5797 - val_f1_score: 0.1446 - val_loss: 1.5671\n",
            "Epoch 4/5\n",
            "\u001b[1m988/988\u001b[0m \u001b[32m━━━━━━━━━━━━━━━━━━━━\u001b[0m\u001b[37m\u001b[0m \u001b[1m2s\u001b[0m 2ms/step - f1_score: 0.1421 - loss: 1.5592 - val_f1_score: 0.1340 - val_loss: 1.5601\n",
            "Epoch 5/5\n",
            "\u001b[1m988/988\u001b[0m \u001b[32m━━━━━━━━━━━━━━━━━━━━\u001b[0m\u001b[37m\u001b[0m \u001b[1m2s\u001b[0m 2ms/step - f1_score: 0.1647 - loss: 1.5095 - val_f1_score: 0.1799 - val_loss: 1.4634\n"
          ]
        }
      ]
    },
    {
      "cell_type": "code",
      "source": [
        "from sklearn.metrics import f1_score\n",
        "y_val_pred = multi_class_baseline_model.predict(X_val_vectorized)\n",
        "y_val_multi_true = np.argmax(y_val_multi_one_hot, axis=1)\n",
        "y_val_pred_multi = np.argmax(y_val_pred, axis=1)\n",
        "\n",
        "print(classification_report(y_val_multi_true,y_val_pred_multi)),\n"
      ],
      "metadata": {
        "colab": {
          "base_uri": "https://localhost:8080/"
        },
        "id": "7NTmZ7K5P3IS",
        "outputId": "d6fe51d0-8ab6-43bc-d051-389bad159a0f"
      },
      "execution_count": null,
      "outputs": [
        {
          "output_type": "stream",
          "name": "stdout",
          "text": [
            "\u001b[1m330/330\u001b[0m \u001b[32m━━━━━━━━━━━━━━━━━━━━\u001b[0m\u001b[37m\u001b[0m \u001b[1m1s\u001b[0m 2ms/step\n",
            "              precision    recall  f1-score   support\n",
            "\n",
            "           0       1.00      0.00      0.00       726\n",
            "           1       0.00      0.00      0.00       554\n",
            "           2       0.37      0.94      0.53      3098\n",
            "           3       0.83      0.65      0.73      3297\n",
            "           4       0.00      0.00      0.00       228\n",
            "           5       0.00      0.00      0.00       544\n",
            "           6       0.00      0.00      0.00      2089\n",
            "\n",
            "    accuracy                           0.48     10536\n",
            "   macro avg       0.31      0.23      0.18     10536\n",
            "weighted avg       0.44      0.48      0.38     10536\n",
            "\n"
          ]
        },
        {
          "output_type": "stream",
          "name": "stderr",
          "text": [
            "/usr/local/lib/python3.10/dist-packages/sklearn/metrics/_classification.py:1531: UndefinedMetricWarning: Precision is ill-defined and being set to 0.0 in labels with no predicted samples. Use `zero_division` parameter to control this behavior.\n",
            "  _warn_prf(average, modifier, f\"{metric.capitalize()} is\", len(result))\n",
            "/usr/local/lib/python3.10/dist-packages/sklearn/metrics/_classification.py:1531: UndefinedMetricWarning: Precision is ill-defined and being set to 0.0 in labels with no predicted samples. Use `zero_division` parameter to control this behavior.\n",
            "  _warn_prf(average, modifier, f\"{metric.capitalize()} is\", len(result))\n",
            "/usr/local/lib/python3.10/dist-packages/sklearn/metrics/_classification.py:1531: UndefinedMetricWarning: Precision is ill-defined and being set to 0.0 in labels with no predicted samples. Use `zero_division` parameter to control this behavior.\n",
            "  _warn_prf(average, modifier, f\"{metric.capitalize()} is\", len(result))\n"
          ]
        },
        {
          "output_type": "execute_result",
          "data": {
            "text/plain": [
              "(None,)"
            ]
          },
          "metadata": {},
          "execution_count": 29
        }
      ]
    },
    {
      "cell_type": "code",
      "source": [
        "print(f1_score(y_val_multi_true, y_val_pred_multi, average='weighted'))"
      ],
      "metadata": {
        "colab": {
          "base_uri": "https://localhost:8080/"
        },
        "id": "KZVC0XLpQ1c1",
        "outputId": "65f91c35-9933-4024-e7e9-e1752c5f6d69"
      },
      "execution_count": null,
      "outputs": [
        {
          "output_type": "stream",
          "name": "stdout",
          "text": [
            "0.38345375794824144\n"
          ]
        }
      ]
    },
    {
      "cell_type": "markdown",
      "source": [
        "# Tuning Multi-class Logistic Model"
      ],
      "metadata": {
        "id": "LDoRCos9dYL9"
      }
    },
    {
      "cell_type": "markdown",
      "source": [
        "Tuning multi-class model"
      ],
      "metadata": {
        "id": "5hx6etbsRPZD"
      }
    },
    {
      "cell_type": "code",
      "source": [
        "import keras_tuner as kt\n",
        "\n",
        "def model_builder(hp):\n",
        "    tf.keras.backend.clear_session()\n",
        "    tf.random.set_seed(42)\n",
        "    np.random.seed(42)\n",
        "\n",
        "    model = tf.keras.Sequential()\n",
        "    model.add(tf.keras.layers.Dense(\n",
        "        units=hp.Int('units_1', min_value=32, max_value=512, step=32),\n",
        "        activation='relu', input_shape=(X_train_vectorized.shape[1],)))\n",
        "\n",
        "    # Add a variable number of hidden layers\n",
        "    for i in range(hp.Int('num_layers', 1, 5)):  # 1 to 5 hidden layers\n",
        "        model.add(tf.keras.layers.Dense(\n",
        "            units=hp.Int(f'units_{i+2}', min_value=32, max_value=512, step=32),\n",
        "            activation='relu'))\n",
        "\n",
        "    model.add(tf.keras.layers.Dense(7, activation='softmax'))  # Output layer for 7 classes\n",
        "\n",
        "    # Tune the learning rate for the optimizer\n",
        "    hp_learning_rate = hp.Choice('learning_rate', values=[1e-2, 1e-3, 1e-4])\n",
        "    model.compile(loss='categorical_crossentropy',\n",
        "                  optimizer=tf.keras.optimizers.Adam(learning_rate=hp_learning_rate),\n",
        "                  metrics=[tf.keras.metrics.F1Score(name='f1_score', average='weighted')])  # Use weighted F1-score\n",
        "    return model\n",
        "\n",
        "tuner = kt.RandomSearch(\n",
        "    model_builder,\n",
        "    objective=kt.Objective('val_f1_score', direction = 'max'),  # Objective to optimize (weighted F1-score)\n",
        "    max_trials=5,  # Number of different model configurations to try\n",
        "    executions_per_trial=3,  # Number of times to train each model\n",
        "    directory='my_dir',  # Directory to save results\n",
        "    project_name='multi_class_classification')\n",
        "\n",
        "\n",
        "tuner.search(X_train_vectorized, y_train_multi_one_hot, epochs=5, validation_data=(X_val_vectorized, y_val_multi_one_hot))\n",
        "\n",
        "# Get the best model\n",
        "best_multi_class_logistic_model = tuner.get_best_models(num_models=1)[0]"
      ],
      "metadata": {
        "colab": {
          "base_uri": "https://localhost:8080/"
        },
        "id": "tmiihmCzQ-UH",
        "outputId": "3eef87b8-2731-4225-d12e-8499fa0f3ec1"
      },
      "execution_count": null,
      "outputs": [
        {
          "output_type": "stream",
          "name": "stdout",
          "text": [
            "Trial 10 Complete [00h 01m 27s]\n",
            "val_accuracy: 0.513762354850769\n",
            "\n",
            "Best val_accuracy So Far: 0.513762354850769\n",
            "Total elapsed time: 00h 12m 02s\n"
          ]
        },
        {
          "output_type": "stream",
          "name": "stderr",
          "text": [
            "/usr/local/lib/python3.10/dist-packages/keras/src/saving/saving_lib.py:713: UserWarning: Skipping variable loading for optimizer 'adam', because it has 2 variables whereas the saved optimizer has 26 variables. \n",
            "  saveable.load_own_variables(weights_store.get(inner_path))\n"
          ]
        }
      ]
    },
    {
      "cell_type": "code",
      "source": [
        "from sklearn.metrics import f1_score\n",
        "y_val_pred = best_multi_class_logistic_model.predict(X_val_vectorized)\n",
        "y_val_pred_multi = np.argmax(y_val_pred, axis=1)\n",
        "y_val_multi_true = np.argmax(y_val_multi_one_hot, axis=1)\n",
        "print(classification_report(y_val_multi_true,y_val_pred_multi))\n",
        "print(f1_score(y_val_multi_true, y_val_pred_multi, average='weighted'))"
      ],
      "metadata": {
        "colab": {
          "base_uri": "https://localhost:8080/"
        },
        "id": "w60Lqn_dVBt9",
        "outputId": "e37599de-c61d-4344-ee8f-b3869f2b433a"
      },
      "execution_count": null,
      "outputs": [
        {
          "output_type": "stream",
          "name": "stdout",
          "text": [
            "\u001b[1m330/330\u001b[0m \u001b[32m━━━━━━━━━━━━━━━━━━━━\u001b[0m\u001b[37m\u001b[0m \u001b[1m3s\u001b[0m 5ms/step\n",
            "              precision    recall  f1-score   support\n",
            "\n",
            "           0       0.14      0.01      0.03       726\n",
            "           1       0.09      0.01      0.01       554\n",
            "           2       0.41      0.80      0.54      3098\n",
            "           3       0.69      0.89      0.77      3297\n",
            "           4       0.67      0.01      0.02       228\n",
            "           5       0.33      0.01      0.01       544\n",
            "           6       0.33      0.03      0.05      2089\n",
            "\n",
            "    accuracy                           0.52     10536\n",
            "   macro avg       0.38      0.25      0.20     10536\n",
            "weighted avg       0.45      0.52      0.41     10536\n",
            "\n",
            "0.41494973045167666\n"
          ]
        }
      ]
    },
    {
      "cell_type": "code",
      "source": [
        "X_train_bow = np.load(path_dir+'X_train_bow.npz')['data']\n",
        "X_val_bow = np.load(path_dir+'X_val_bow.npz')['data']\n",
        "X_test_bow = np.load(path_dir+'X_test_bow.npz')['data']"
      ],
      "metadata": {
        "id": "29hFdv7SVO0i"
      },
      "execution_count": null,
      "outputs": []
    },
    {
      "cell_type": "markdown",
      "source": [
        "\n",
        "\n",
        "\n",
        "# Simple Logistic Baseline Multi-class Model"
      ],
      "metadata": {
        "id": "Sqm92pQ-df6B"
      }
    },
    {
      "cell_type": "code",
      "source": [
        "from sklearn.linear_model import LogisticRegression\n",
        "from sklearn.metrics import f1_score\n",
        "\n",
        "# Initialize the model\n",
        "baseline_multi_model = LogisticRegression(max_iter=1000, multi_class='multinomial')\n",
        "\n",
        "# Fit the model\n",
        "baseline_multi_model.fit(X_train_vectorized, y_train_multi)\n",
        "\n",
        "# Make predictions on validation data\n",
        "y_val_pred = baseline_multi_model.predict(X_val_vectorized)\n",
        "\n",
        "# Calculate the weighted F1 score\n",
        "val_f1 = f1_score(y_val_multi, y_val_pred, average='weighted')\n",
        "print(f\"Validation F1 Score: {val_f1}\")"
      ],
      "metadata": {
        "colab": {
          "base_uri": "https://localhost:8080/"
        },
        "id": "OzWxBW09XTyZ",
        "outputId": "9e5514be-1ca7-4c8a-e5f7-edcfe6f2ff0d"
      },
      "execution_count": null,
      "outputs": [
        {
          "output_type": "stream",
          "name": "stderr",
          "text": [
            "/usr/local/lib/python3.10/dist-packages/sklearn/linear_model/_logistic.py:1247: FutureWarning: 'multi_class' was deprecated in version 1.5 and will be removed in 1.7. From then on, it will always use 'multinomial'. Leave it to its default value to avoid this warning.\n",
            "  warnings.warn(\n"
          ]
        },
        {
          "output_type": "stream",
          "name": "stdout",
          "text": [
            "Validation F1 Score: 0.38264309055779505\n"
          ]
        },
        {
          "output_type": "stream",
          "name": "stderr",
          "text": [
            "/usr/local/lib/python3.10/dist-packages/sklearn/linear_model/_logistic.py:469: ConvergenceWarning: lbfgs failed to converge (status=1):\n",
            "STOP: TOTAL NO. of ITERATIONS REACHED LIMIT.\n",
            "\n",
            "Increase the number of iterations (max_iter) or scale the data as shown in:\n",
            "    https://scikit-learn.org/stable/modules/preprocessing.html\n",
            "Please also refer to the documentation for alternative solver options:\n",
            "    https://scikit-learn.org/stable/modules/linear_model.html#logistic-regression\n",
            "  n_iter_i = _check_optimize_result(\n"
          ]
        }
      ]
    },
    {
      "cell_type": "markdown",
      "source": [
        "# Tune Simple Logistic Regression Baseline Multi-Class Model"
      ],
      "metadata": {
        "id": "aL6MRMnpdmUv"
      }
    },
    {
      "cell_type": "markdown",
      "source": [],
      "metadata": {
        "id": "3rZtFf1WV4TA"
      }
    },
    {
      "cell_type": "code",
      "source": [
        "import keras_tuner as kt\n",
        "from scikeras.wrappers import KerasClassifier\n",
        "from sklearn.linear_model import LogisticRegression\n",
        "import tensorflow as tf\n",
        "from sklearn.metrics import f1_score\n",
        "from tensorflow import keras\n",
        "from tensorflow.keras import layers\n",
        "\n",
        "# Define the model-building function for Keras Tuner\n",
        "def build_logistic_regression_model(hp):\n",
        "    \"\"\"\n",
        "    Builds a Keras model for logistic regression with hyperparameter tuning.\n",
        "\n",
        "    Args:\n",
        "        hp: HyperParameters object.\n",
        "\n",
        "    Returns:\n",
        "        A compiled Keras model.\n",
        "    \"\"\"\n",
        "    model = keras.Sequential([\n",
        "        layers.Dense(\n",
        "            units=hp.Int('units', min_value=32, max_value=512, step=32),\n",
        "            activation='relu',\n",
        "            input_shape=(X_train_vectorized.shape[1],)  # Input shape\n",
        "        ),\n",
        "        layers.Dense(7, activation='softmax')  # Output layer with 7 units (for 7 classes)\n",
        "    ])\n",
        "\n",
        "    model.compile(\n",
        "        optimizer=keras.optimizers.Adam(\n",
        "            hp.Choice('learning_rate', values=[1e-2, 1e-3, 1e-4])\n",
        "        ),\n",
        "        loss='categorical_crossentropy',\n",
        "        metrics=[tf.keras.metrics.F1Score(name='f1_score', average='weighted')]\n",
        "    )\n",
        "    return model\n",
        "\n",
        "# Create a Keras Tuner instance (e.g., RandomSearch)\n",
        "tuner = kt.RandomSearch(\n",
        "    build_logistic_regression_model,\n",
        "    objective=kt.Objective(\"val_f1_score\", direction=\"max\"),  # Optimize weighted F1-score\n",
        "    max_trials=5,  # Number of different model configurations to try\n",
        "    executions_per_trial=3,  # Number of times to train each model\n",
        "    directory='my_dir',  # Directory to save results\n",
        "    project_name='logistic_regression_tuning'\n",
        ")\n",
        "\n",
        "# Search for the best hyperparameters\n",
        "tuner.search(X_train_vectorized, y_train_multi_one_hot, epochs=5, validation_data=(X_val_vectorized, y_val_multi_one_hot))\n",
        "\n",
        "# Get the best model\n",
        "best_model = tuner.get_best_models(num_models=1)[0]\n",
        "\n",
        "# Evaluate the best model on the validation data\n",
        "y_val_pred = best_model.predict(X_val_vectorized)\n",
        "y_val_pred_multi = np.argmax(y_val_pred, axis=1)\n",
        "y_val_multi_true = np.argmax(y_val_multi_one_hot, axis=1)\n",
        "val_f1 = f1_score(y_val_multi_true, y_val_pred_multi, average='weighted')\n",
        "print(f\"Validation F1 Score (Best Model): {val_f1}\")"
      ],
      "metadata": {
        "colab": {
          "base_uri": "https://localhost:8080/"
        },
        "id": "vb5S7HNwV3XZ",
        "outputId": "3bf09663-27b4-4a0d-b5f1-b9dad3eb7dc3"
      },
      "execution_count": null,
      "outputs": [
        {
          "output_type": "stream",
          "name": "stdout",
          "text": [
            "Trial 5 Complete [00h 00m 46s]\n",
            "val_f1_score: 0.3708687524000804\n",
            "\n",
            "Best val_f1_score So Far: 0.3708687524000804\n",
            "Total elapsed time: 00h 06m 32s\n"
          ]
        },
        {
          "output_type": "stream",
          "name": "stderr",
          "text": [
            "/usr/local/lib/python3.10/dist-packages/keras/src/saving/saving_lib.py:713: UserWarning: Skipping variable loading for optimizer 'adam', because it has 2 variables whereas the saved optimizer has 10 variables. \n",
            "  saveable.load_own_variables(weights_store.get(inner_path))\n"
          ]
        },
        {
          "output_type": "stream",
          "name": "stdout",
          "text": [
            "\u001b[1m330/330\u001b[0m \u001b[32m━━━━━━━━━━━━━━━━━━━━\u001b[0m\u001b[37m\u001b[0m \u001b[1m1s\u001b[0m 2ms/step\n",
            "Validation F1 Score (Best Model): 0.3823648354486972\n"
          ]
        }
      ]
    },
    {
      "cell_type": "markdown",
      "source": [
        "# LSTM Model for multi-class with embeddings"
      ],
      "metadata": {
        "id": "_3wqqVFEdrW3"
      }
    },
    {
      "cell_type": "code",
      "source": [
        "#build LSTM model for multi-class classification\n",
        "\n",
        "def build_lstm_multi_class_model(vocab_size, embedding_dim, optimizer,input_length):\n",
        "  tf.keras.backend.clear_session()\n",
        "  tf.random.set_seed(42)\n",
        "  np.random.seed(42)\n",
        "  model = tf.keras.Sequential([\n",
        "        tf.keras.layers.Embedding(input_dim=vocab_size, output_dim=embedding_dim, input_length=input_length),\n",
        "        tf.keras.layers.LSTM(128, return_sequences=True),  # Return sequences for next LSTM layer\n",
        "        tf.keras.layers.Dropout(0.2),\n",
        "        tf.keras.layers.LSTM(64),  # Another LSTM layer\n",
        "        tf.keras.layers.Dropout(0.2),\n",
        "        tf.keras.layers.Dense(7, activation='softmax')  # Output layer for 7 classes\n",
        "    ])\n",
        "\n",
        "  model.compile(loss='categorical_crossentropy',  # Loss for multi-class\n",
        "                  optimizer=optimizer,\n",
        "                  metrics=['f1_score'])  # You can add F1 score here if needed\n",
        "  return model\n",
        "\n",
        "vocab_size = 10000  # Adjust based on your vocabulary size\n",
        "embedding_dim = 128  # Adjust as needed\n",
        "optimizer = 'adam'  # You can try other optimizers\n",
        "input_length = X_train_vectorized.shape[1]\n",
        "\n",
        "# Create the model\n",
        "lstm_multi_class_model = build_lstm_multi_class_model(vocab_size, embedding_dim, optimizer, input_length)\n",
        "\n",
        "# Train the model\n",
        "history = lstm_multi_class_model.fit(\n",
        "    X_train_vectorized, y_train_multi_one_hot,\n",
        "    epochs=10,  # Adjust as needed\n",
        "    validation_data=(X_val_vectorized, y_val_multi_one_hot),\n",
        "    verbose=1  # Set to 1 for progress updates\n",
        ")"
      ],
      "metadata": {
        "colab": {
          "base_uri": "https://localhost:8080/"
        },
        "id": "7X8ZwBPV7TbF",
        "outputId": "c46df238-73c9-4cb7-f38f-34daad1f43ae"
      },
      "execution_count": null,
      "outputs": [
        {
          "output_type": "stream",
          "name": "stdout",
          "text": [
            "Epoch 1/10\n"
          ]
        },
        {
          "output_type": "stream",
          "name": "stderr",
          "text": [
            "/usr/local/lib/python3.10/dist-packages/keras/src/layers/core/embedding.py:90: UserWarning: Argument `input_length` is deprecated. Just remove it.\n",
            "  warnings.warn(\n"
          ]
        },
        {
          "output_type": "stream",
          "name": "stdout",
          "text": [
            "\u001b[1m988/988\u001b[0m \u001b[32m━━━━━━━━━━━━━━━━━━━━\u001b[0m\u001b[37m\u001b[0m \u001b[1m42s\u001b[0m 40ms/step - f1_score: 0.1155 - loss: 1.6477 - val_f1_score: 0.0685 - val_loss: 1.6245\n",
            "Epoch 2/10\n",
            "\u001b[1m988/988\u001b[0m \u001b[32m━━━━━━━━━━━━━━━━━━━━\u001b[0m\u001b[37m\u001b[0m \u001b[1m40s\u001b[0m 40ms/step - f1_score: 0.1043 - loss: 1.6266 - val_f1_score: 0.0699 - val_loss: 1.6243\n",
            "Epoch 3/10\n",
            "\u001b[1m988/988\u001b[0m \u001b[32m━━━━━━━━━━━━━━━━━━━━\u001b[0m\u001b[37m\u001b[0m \u001b[1m40s\u001b[0m 40ms/step - f1_score: 0.1028 - loss: 1.6255 - val_f1_score: 0.0699 - val_loss: 1.6244\n",
            "Epoch 4/10\n",
            "\u001b[1m988/988\u001b[0m \u001b[32m━━━━━━━━━━━━━━━━━━━━\u001b[0m\u001b[37m\u001b[0m \u001b[1m40s\u001b[0m 40ms/step - f1_score: 0.1008 - loss: 1.6256 - val_f1_score: 0.0700 - val_loss: 1.6233\n",
            "Epoch 5/10\n",
            "\u001b[1m988/988\u001b[0m \u001b[32m━━━━━━━━━━━━━━━━━━━━\u001b[0m\u001b[37m\u001b[0m \u001b[1m40s\u001b[0m 40ms/step - f1_score: 0.0998 - loss: 1.6243 - val_f1_score: 0.0700 - val_loss: 1.6225\n",
            "Epoch 6/10\n",
            "\u001b[1m988/988\u001b[0m \u001b[32m━━━━━━━━━━━━━━━━━━━━\u001b[0m\u001b[37m\u001b[0m \u001b[1m40s\u001b[0m 40ms/step - f1_score: 0.0978 - loss: 1.6244 - val_f1_score: 0.0702 - val_loss: 1.6221\n",
            "Epoch 7/10\n",
            "\u001b[1m988/988\u001b[0m \u001b[32m━━━━━━━━━━━━━━━━━━━━\u001b[0m\u001b[37m\u001b[0m \u001b[1m40s\u001b[0m 40ms/step - f1_score: 0.1077 - loss: 1.6234 - val_f1_score: 0.0699 - val_loss: 1.6240\n",
            "Epoch 8/10\n",
            "\u001b[1m988/988\u001b[0m \u001b[32m━━━━━━━━━━━━━━━━━━━━\u001b[0m\u001b[37m\u001b[0m \u001b[1m40s\u001b[0m 41ms/step - f1_score: 0.1022 - loss: 1.6267 - val_f1_score: 0.0699 - val_loss: 1.6243\n",
            "Epoch 9/10\n",
            "\u001b[1m988/988\u001b[0m \u001b[32m━━━━━━━━━━━━━━━━━━━━\u001b[0m\u001b[37m\u001b[0m \u001b[1m40s\u001b[0m 41ms/step - f1_score: 0.0936 - loss: 1.6253 - val_f1_score: 0.0700 - val_loss: 1.6236\n",
            "Epoch 10/10\n",
            "\u001b[1m988/988\u001b[0m \u001b[32m━━━━━━━━━━━━━━━━━━━━\u001b[0m\u001b[37m\u001b[0m \u001b[1m40s\u001b[0m 40ms/step - f1_score: 0.0935 - loss: 1.6240 - val_f1_score: 0.0700 - val_loss: 1.6223\n"
          ]
        }
      ]
    },
    {
      "cell_type": "code",
      "source": [
        "y_pred_probs = lstm_multi_class_model.predict(X_test_vectorized)\n",
        "y_pred_classes = np.argmax(y_pred_probs, axis=1)  # Get predicted class labels\n",
        "y_val_pred_classes = np.argmax(y_val_pred, axis=1)  # Get predicted class labels for validation data\n",
        "y_val_multi_true = np.argmax(y_val_multi_one_hot, axis=1)\n",
        "# Evaluate using classification report\n",
        "print(f1_score(y_val_multi_true, y_val_pred_classes, average='weighted'))\n",
        "print(classification_report(np.argmax(y_test_multi_one_hot, axis=1), y_pred_classes))\n",
        "print(f1_score(np.argmax(y_test_multi_one_hot, axis=1), y_pred_classes, average='weighted'))\n",
        "print(classification_report(np.argmax(y_test_multi_one_hot, axis=1), y_pred_classes))\n"
      ],
      "metadata": {
        "colab": {
          "base_uri": "https://localhost:8080/"
        },
        "id": "OB0rnyKD7yDz",
        "outputId": "d2b8a6dc-7864-4688-8071-ccb4f6c8d8ab"
      },
      "execution_count": null,
      "outputs": [
        {
          "output_type": "stream",
          "name": "stdout",
          "text": [
            "\u001b[1m330/330\u001b[0m \u001b[32m━━━━━━━━━━━━━━━━━━━━\u001b[0m\u001b[37m\u001b[0m \u001b[1m5s\u001b[0m 15ms/step\n",
            "0.3823648354486972\n",
            "              precision    recall  f1-score   support\n",
            "\n",
            "           0       0.00      0.00      0.00       776\n",
            "           1       0.00      0.00      0.00       537\n",
            "           2       0.67      0.01      0.01      3043\n",
            "           3       0.32      1.00      0.48      3349\n",
            "           4       0.00      0.00      0.00       200\n",
            "           5       0.00      0.00      0.00       464\n",
            "           6       0.00      0.00      0.00      2168\n",
            "\n",
            "    accuracy                           0.32     10537\n",
            "   macro avg       0.14      0.14      0.07     10537\n",
            "weighted avg       0.29      0.32      0.16     10537\n",
            "\n",
            "0.15739948964966521\n",
            "              precision    recall  f1-score   support\n",
            "\n",
            "           0       0.00      0.00      0.00       776\n",
            "           1       0.00      0.00      0.00       537\n",
            "           2       0.67      0.01      0.01      3043\n",
            "           3       0.32      1.00      0.48      3349\n",
            "           4       0.00      0.00      0.00       200\n",
            "           5       0.00      0.00      0.00       464\n",
            "           6       0.00      0.00      0.00      2168\n",
            "\n",
            "    accuracy                           0.32     10537\n",
            "   macro avg       0.14      0.14      0.07     10537\n",
            "weighted avg       0.29      0.32      0.16     10537\n",
            "\n"
          ]
        },
        {
          "output_type": "stream",
          "name": "stderr",
          "text": [
            "/usr/local/lib/python3.10/dist-packages/sklearn/metrics/_classification.py:1531: UndefinedMetricWarning: Precision is ill-defined and being set to 0.0 in labels with no predicted samples. Use `zero_division` parameter to control this behavior.\n",
            "  _warn_prf(average, modifier, f\"{metric.capitalize()} is\", len(result))\n",
            "/usr/local/lib/python3.10/dist-packages/sklearn/metrics/_classification.py:1531: UndefinedMetricWarning: Precision is ill-defined and being set to 0.0 in labels with no predicted samples. Use `zero_division` parameter to control this behavior.\n",
            "  _warn_prf(average, modifier, f\"{metric.capitalize()} is\", len(result))\n",
            "/usr/local/lib/python3.10/dist-packages/sklearn/metrics/_classification.py:1531: UndefinedMetricWarning: Precision is ill-defined and being set to 0.0 in labels with no predicted samples. Use `zero_division` parameter to control this behavior.\n",
            "  _warn_prf(average, modifier, f\"{metric.capitalize()} is\", len(result))\n",
            "/usr/local/lib/python3.10/dist-packages/sklearn/metrics/_classification.py:1531: UndefinedMetricWarning: Precision is ill-defined and being set to 0.0 in labels with no predicted samples. Use `zero_division` parameter to control this behavior.\n",
            "  _warn_prf(average, modifier, f\"{metric.capitalize()} is\", len(result))\n",
            "/usr/local/lib/python3.10/dist-packages/sklearn/metrics/_classification.py:1531: UndefinedMetricWarning: Precision is ill-defined and being set to 0.0 in labels with no predicted samples. Use `zero_division` parameter to control this behavior.\n",
            "  _warn_prf(average, modifier, f\"{metric.capitalize()} is\", len(result))\n",
            "/usr/local/lib/python3.10/dist-packages/sklearn/metrics/_classification.py:1531: UndefinedMetricWarning: Precision is ill-defined and being set to 0.0 in labels with no predicted samples. Use `zero_division` parameter to control this behavior.\n",
            "  _warn_prf(average, modifier, f\"{metric.capitalize()} is\", len(result))\n"
          ]
        }
      ]
    },
    {
      "cell_type": "markdown",
      "source": [
        "# Tuning LSTM Model for Multi-class with embeddings"
      ],
      "metadata": {
        "id": "qZh8qoNldv0O"
      }
    },
    {
      "cell_type": "code",
      "source": [
        "import keras_tuner as kt\n",
        "\n",
        "def lstm_model_builder(hp):\n",
        "    tf.keras.backend.clear_session()\n",
        "    tf.random.set_seed(42)\n",
        "    np.random.seed(42)\n",
        "\n",
        "    # Tune the vocabulary size\n",
        "    vocab_size = hp.Int('vocab_size', min_value=5000, max_value=20000, step=5000)\n",
        "\n",
        "    # Tune the embedding dimension\n",
        "    embedding_dim = hp.Int('embedding_dim', min_value=64, max_value=256, step=64)\n",
        "\n",
        "    # Tune the number of LSTM units\n",
        "    lstm_units_1 = hp.Int('lstm_units_1', min_value=64, max_value=256, step=64)\n",
        "    lstm_units_2 = hp.Int('lstm_units_2', min_value=32, max_value=128, step=32)\n",
        "\n",
        "    # Tune the dropout rate\n",
        "    dropout_rate = hp.Float('dropout_rate', min_value=0.1, max_value=0.5, step=0.1)\n",
        "\n",
        "    # Tune the learning rate\n",
        "    hp_learning_rate = hp.Choice('learning_rate', values=[1e-2, 1e-3, 1e-4])\n",
        "\n",
        "    model = tf.keras.Sequential([\n",
        "        tf.keras.layers.Embedding(input_dim=vocab_size, output_dim=embedding_dim, input_length=X_train_vectorized.shape[1]),\n",
        "        tf.keras.layers.LSTM(lstm_units_1, return_sequences=True),\n",
        "        tf.keras.layers.Dropout(dropout_rate),\n",
        "        tf.keras.layers.LSTM(lstm_units_2),\n",
        "        tf.keras.layers.Dropout(dropout_rate),\n",
        "        tf.keras.layers.Dense(7, activation='softmax')  # Output layer for 7 classes\n",
        "    ])\n",
        "\n",
        "    model.compile(loss='categorical_crossentropy',\n",
        "                  optimizer=tf.keras.optimizers.Adam(learning_rate=hp_learning_rate),\n",
        "                  metrics=[tf.keras.metrics.F1Score(name='f1_score', average='weighted')])\n",
        "\n",
        "    return model\n",
        "\n",
        "tuner = kt.RandomSearch(\n",
        "    lstm_model_builder,\n",
        "    objective='val_f1_score',  # Objective to optimize\n",
        "    max_trials=3,  # Number of different model configurations to try\n",
        "    executions_per_trial=3,  # Number of times to train each model\n",
        "    directory='my_dir',  # Directory to save results\n",
        "    project_name='lstm_multi_class_tuning'\n",
        ")\n",
        "\n",
        "tuner.search(X_train_vectorized, y_train_multi_one_hot, epochs=10, validation_data=(X_val_vectorized, y_val_multi_one_hot))\n",
        "best_lstm_model = tuner.get_best_models(num_models=1)[0]\n"
      ],
      "metadata": {
        "colab": {
          "base_uri": "https://localhost:8080/"
        },
        "id": "cQ_CSS6O8T8q",
        "outputId": "e9ea4793-5f4f-489c-ad66-0d190cc869d0"
      },
      "execution_count": null,
      "outputs": [
        {
          "output_type": "stream",
          "name": "stdout",
          "text": [
            "Trial 5 Complete [00h 20m 31s]\n",
            "val_f1_score: 0.14599908888339996\n",
            "\n",
            "Best val_f1_score So Far: 0.14599908888339996\n",
            "Total elapsed time: 01h 13m 02s\n"
          ]
        },
        {
          "output_type": "stream",
          "name": "stderr",
          "text": [
            "/usr/local/lib/python3.10/dist-packages/keras/src/saving/saving_lib.py:713: UserWarning: Skipping variable loading for optimizer 'adam', because it has 2 variables whereas the saved optimizer has 20 variables. \n",
            "  saveable.load_own_variables(weights_store.get(inner_path))\n"
          ]
        }
      ]
    },
    {
      "cell_type": "code",
      "source": [
        "y_pred_probs = best_lstm_model.predict(X_test_vectorized)\n",
        "y_pred_classes = np.argmax(y_pred_probs, axis=1)\n",
        "y_true_classes = np.argmax(y_test_multi_one_hot, axis=1)\n",
        "print(f1_score(y_true_classes, y_pred_classes, average='weighted'))\n",
        "print(classification_report(y_true_classes, y_pred_classes))"
      ],
      "metadata": {
        "colab": {
          "base_uri": "https://localhost:8080/"
        },
        "id": "3xPW3Ndj8hBC",
        "outputId": "206e2972-9832-4922-ba7e-16b16f83dc7f"
      },
      "execution_count": null,
      "outputs": [
        {
          "output_type": "stream",
          "name": "stdout",
          "text": [
            "\u001b[1m330/330\u001b[0m \u001b[32m━━━━━━━━━━━━━━━━━━━━\u001b[0m\u001b[37m\u001b[0m \u001b[1m5s\u001b[0m 15ms/step\n",
            "0.1289766668542344\n",
            "              precision    recall  f1-score   support\n",
            "\n",
            "           0       0.00      0.00      0.00       776\n",
            "           1       0.00      0.00      0.00       537\n",
            "           2       0.29      1.00      0.45      3043\n",
            "           3       0.00      0.00      0.00      3349\n",
            "           4       0.00      0.00      0.00       200\n",
            "           5       0.00      0.00      0.00       464\n",
            "           6       0.00      0.00      0.00      2168\n",
            "\n",
            "    accuracy                           0.29     10537\n",
            "   macro avg       0.04      0.14      0.06     10537\n",
            "weighted avg       0.08      0.29      0.13     10537\n",
            "\n"
          ]
        },
        {
          "output_type": "stream",
          "name": "stderr",
          "text": [
            "/usr/local/lib/python3.10/dist-packages/sklearn/metrics/_classification.py:1531: UndefinedMetricWarning: Precision is ill-defined and being set to 0.0 in labels with no predicted samples. Use `zero_division` parameter to control this behavior.\n",
            "  _warn_prf(average, modifier, f\"{metric.capitalize()} is\", len(result))\n",
            "/usr/local/lib/python3.10/dist-packages/sklearn/metrics/_classification.py:1531: UndefinedMetricWarning: Precision is ill-defined and being set to 0.0 in labels with no predicted samples. Use `zero_division` parameter to control this behavior.\n",
            "  _warn_prf(average, modifier, f\"{metric.capitalize()} is\", len(result))\n",
            "/usr/local/lib/python3.10/dist-packages/sklearn/metrics/_classification.py:1531: UndefinedMetricWarning: Precision is ill-defined and being set to 0.0 in labels with no predicted samples. Use `zero_division` parameter to control this behavior.\n",
            "  _warn_prf(average, modifier, f\"{metric.capitalize()} is\", len(result))\n"
          ]
        }
      ]
    }
  ]
}