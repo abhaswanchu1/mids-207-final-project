{
  "nbformat": 4,
  "nbformat_minor": 0,
  "metadata": {
    "colab": {
      "provenance": []
    },
    "kernelspec": {
      "name": "python3",
      "display_name": "Python 3"
    },
    "language_info": {
      "name": "python"
    }
  },
  "cells": [
    {
      "cell_type": "code",
      "execution_count": 38,
      "metadata": {
        "colab": {
          "base_uri": "https://localhost:8080/"
        },
        "id": "9htr4Mb8M_IF",
        "outputId": "ca4b46ac-4786-4923-a867-130357f1c222"
      },
      "outputs": [
        {
          "output_type": "stream",
          "name": "stdout",
          "text": [
            "Warning: Looks like you're using an outdated `kagglehub` version, please consider updating (latest version: 0.3.4)\n",
            "Path to dataset files: /root/.cache/kagglehub/datasets/suchintikasarkar/sentiment-analysis-for-mental-health/versions/1\n"
          ]
        }
      ],
      "source": [
        "import kagglehub\n",
        "# Download latest version\n",
        "path = kagglehub.dataset_download(\"suchintikasarkar/sentiment-analysis-for-mental-health\")\n",
        "\n",
        "print(\"Path to dataset files:\", path)"
      ]
    },
    {
      "cell_type": "code",
      "source": [
        "import os\n",
        "\n",
        "data_directory = \"/root/.cache/kagglehub/datasets/suchintikasarkar/sentiment-analysis-for-mental-health/versions/1\"\n",
        "files = os.listdir(data_directory)\n",
        "print(files)"
      ],
      "metadata": {
        "colab": {
          "base_uri": "https://localhost:8080/"
        },
        "id": "hKSKZsufONEO",
        "outputId": "0c9f9632-f59e-4c18-fe50-d9cf1a7db700"
      },
      "execution_count": 39,
      "outputs": [
        {
          "output_type": "stream",
          "name": "stdout",
          "text": [
            "['Combined Data.csv']\n"
          ]
        }
      ]
    },
    {
      "cell_type": "code",
      "source": [
        "import pandas as pd\n",
        "\n",
        "# Path to the dataset file\n",
        "data_path = \"/root/.cache/kagglehub/datasets/suchintikasarkar/sentiment-analysis-for-mental-health/versions/1/Combined Data.csv\"\n",
        "\n",
        "# Load the dataset\n",
        "df = pd.read_csv(data_path)\n",
        "\n",
        "# Display the first few rows\n",
        "print(df.head())\n"
      ],
      "metadata": {
        "colab": {
          "base_uri": "https://localhost:8080/"
        },
        "id": "vQjQ5auVN60V",
        "outputId": "d2ae7287-774f-4ae2-d5c5-d45ccca3730c"
      },
      "execution_count": 40,
      "outputs": [
        {
          "output_type": "stream",
          "name": "stdout",
          "text": [
            "   Unnamed: 0                                          statement   status\n",
            "0           0                                         oh my gosh  Anxiety\n",
            "1           1  trouble sleeping, confused mind, restless hear...  Anxiety\n",
            "2           2  All wrong, back off dear, forward doubt. Stay ...  Anxiety\n",
            "3           3  I've shifted my focus to something else but I'...  Anxiety\n",
            "4           4  I'm restless and restless, it's been a month n...  Anxiety\n"
          ]
        }
      ]
    },
    {
      "cell_type": "code",
      "source": [
        "#Specify column names\n",
        "print(df.columns)\n",
        "#Drop ID column, since it's superflous\n",
        "# Drop a column (e.g., 'column_name') and create a new DataFrame without that column\n",
        "df_new = df.drop('Unnamed: 0', axis=1)\n"
      ],
      "metadata": {
        "colab": {
          "base_uri": "https://localhost:8080/"
        },
        "id": "GcQ8pdOKPHQd",
        "outputId": "4d2633a6-59b5-4a1c-b676-96f106b677af"
      },
      "execution_count": 41,
      "outputs": [
        {
          "output_type": "stream",
          "name": "stdout",
          "text": [
            "Index(['Unnamed: 0', 'statement', 'status'], dtype='object')\n"
          ]
        }
      ]
    },
    {
      "cell_type": "code",
      "source": [
        "#Sanity check\n",
        "print(df_new.head())"
      ],
      "metadata": {
        "colab": {
          "base_uri": "https://localhost:8080/"
        },
        "id": "eycceijmQCvx",
        "outputId": "20881698-4ffd-4f6a-85e7-8f8968741e6a"
      },
      "execution_count": 42,
      "outputs": [
        {
          "output_type": "stream",
          "name": "stdout",
          "text": [
            "                                           statement   status\n",
            "0                                         oh my gosh  Anxiety\n",
            "1  trouble sleeping, confused mind, restless hear...  Anxiety\n",
            "2  All wrong, back off dear, forward doubt. Stay ...  Anxiety\n",
            "3  I've shifted my focus to something else but I'...  Anxiety\n",
            "4  I'm restless and restless, it's been a month n...  Anxiety\n"
          ]
        }
      ]
    },
    {
      "cell_type": "code",
      "source": [
        "# Calculate frequency of each label in the 'label' column\n",
        "label_counts = df_new['status'].value_counts()\n",
        "print(label_counts)"
      ],
      "metadata": {
        "colab": {
          "base_uri": "https://localhost:8080/"
        },
        "id": "Ijd9JxZwedIN",
        "outputId": "9290287d-70f7-4d4f-ad3b-135edab54070"
      },
      "execution_count": 43,
      "outputs": [
        {
          "output_type": "stream",
          "name": "stdout",
          "text": [
            "status\n",
            "Normal                  16351\n",
            "Depression              15404\n",
            "Suicidal                10653\n",
            "Anxiety                  3888\n",
            "Bipolar                  2877\n",
            "Stress                   2669\n",
            "Personality disorder     1201\n",
            "Name: count, dtype: int64\n"
          ]
        }
      ]
    },
    {
      "cell_type": "code",
      "source": [
        "import matplotlib.pyplot as plt\n",
        "\n",
        "df['status'].value_counts().plot(kind='bar')\n",
        "plt.xlabel('Mental Health Status')\n",
        "plt.ylabel('Frequency')\n",
        "plt.title('Frequency of Each Mental Health Status')\n",
        "plt.show()"
      ],
      "metadata": {
        "colab": {
          "base_uri": "https://localhost:8080/",
          "height": 596
        },
        "id": "zkD4gv18eobE",
        "outputId": "9f03261a-37e1-44bb-c6e4-f29a1e6640f5"
      },
      "execution_count": 44,
      "outputs": [
        {
          "output_type": "display_data",
          "data": {
            "text/plain": [
              "<Figure size 640x480 with 1 Axes>"
            ],
            "image/png": "[encoded data removed]"
          },
          "metadata": {}
        }
      ]
    },
    {
      "cell_type": "markdown",
      "source": [
        "A note that we are dealing with imbalanced data!"
      ],
      "metadata": {
        "id": "yzPnqVUmewO0"
      }
    },
    {
      "cell_type": "code",
      "source": [
        "#Clean data, making sure not to remove emoticons\n",
        "#This includes converting to lower case, removing certain punctuation and numbers, and removing stop words (words that don't contain\n",
        "#meaningful information)\n",
        "\n",
        "import nltk\n",
        "nltk.download('stopwords')\n",
        "\n",
        "import re\n",
        "import string\n",
        "from nltk.corpus import stopwords\n",
        "\n",
        "# Set of English stop words\n",
        "stop_words = set(stopwords.words('english'))\n",
        "\n",
        "# Define a set of common emoticons to preserve, removing word boundaries\n",
        "emoticons = [\n",
        "    r':\\)', r':-\\)',    # Happy face\n",
        "    r':\\(', r':-\\(',    # Sad face\n",
        "    r':D', r':-D',      # Big smile\n",
        "    r';\\)', r';-\\)',    # Wink\n",
        "    r':P', r':-P',      # Tongue out\n",
        "    r':O', r':-O',      # Surprised\n",
        "    r'XD',              # Laughing face (no nose variation)\n",
        "    r\":'\\)\", r\":-'\\)\",  # Crying face\n",
        "]\n",
        "\n",
        "def clean_text_preserve_emoticons(text):\n",
        "    if isinstance(text, str):\n",
        "        # Convert to lowercase\n",
        "        text = text.lower()\n",
        "\n",
        "        # Preserve emoticons\n",
        "        preserved_emoticons = []\n",
        "        for emoticon in emoticons:\n",
        "            matches = re.findall(emoticon, text)\n",
        "            preserved_emoticons.extend(matches)\n",
        "\n",
        "        # Remove punctuation and numbers, except for emoticons, colons, and semicolons\n",
        "        text = re.sub(r\"[^\\w\\s:;)(dpoo]\", '', text)  # Remove apostrophes, keep emoticons and colons/semicolons\n",
        "        text = re.sub(r'\\d+', '', text)  # Remove numbers\n",
        "\n",
        "        # Remove stop words\n",
        "        words = text.split()\n",
        "        words = [word for word in words if word not in stop_words]\n",
        "\n",
        "        # Join the cleaned words back into a string and add back the preserved emoticons\n",
        "        text = ' '.join(words + preserved_emoticons)\n",
        "        return text\n",
        "    return \"\"\n",
        "\n",
        "# Apply this to your DataFrame column\n",
        "df_new['cleaned_statement'] = df_new['statement'].apply(clean_text_preserve_emoticons)\n",
        "\n",
        "# Display the cleaned text\n",
        "print(df_new[['cleaned_statement']].head())\n",
        "\n",
        "\n",
        "\n",
        "\n"
      ],
      "metadata": {
        "colab": {
          "base_uri": "https://localhost:8080/"
        },
        "id": "oyM46C6Yl0Sy",
        "outputId": "9d9da48f-6cc4-4f80-8b67-5af16761bd85"
      },
      "execution_count": 45,
      "outputs": [
        {
          "output_type": "stream",
          "name": "stderr",
          "text": [
            "[nltk_data] Downloading package stopwords to /root/nltk_data...\n",
            "[nltk_data]   Package stopwords is already up-to-date!\n"
          ]
        },
        {
          "output_type": "stream",
          "name": "stdout",
          "text": [
            "                                   cleaned_statement\n",
            "0                                            oh gosh\n",
            "1  trouble sleeping confused mind restless heart ...\n",
            "2  wrong back dear forward doubt stay restless re...\n",
            "3  ive shifted focus something else im still worried\n",
            "4                im restless restless month boy mean\n"
          ]
        }
      ]
    },
    {
      "cell_type": "code",
      "source": [
        "#Sanity checks\n",
        "# 1. View original and cleaned text side-by-side\n",
        "print(df_new[['statement', 'cleaned_statement']].head(10))\n",
        "\n",
        "\n"
      ],
      "metadata": {
        "colab": {
          "base_uri": "https://localhost:8080/"
        },
        "id": "elZMNrMPnIrw",
        "outputId": "e45d40db-1ae4-41a2-a357-10fdb2a564a2"
      },
      "execution_count": 46,
      "outputs": [
        {
          "output_type": "stream",
          "name": "stdout",
          "text": [
            "                                           statement  \\\n",
            "0                                         oh my gosh   \n",
            "1  trouble sleeping, confused mind, restless hear...   \n",
            "2  All wrong, back off dear, forward doubt. Stay ...   \n",
            "3  I've shifted my focus to something else but I'...   \n",
            "4  I'm restless and restless, it's been a month n...   \n",
            "5  every break, you must be nervous, like somethi...   \n",
            "6  I feel scared, anxious, what can I do? And may...   \n",
            "7    Have you ever felt nervous but didn't know why?   \n",
            "8  I haven't slept well for 2 days, it's like I'm...   \n",
            "9                 I'm really worried, I want to cry.   \n",
            "\n",
            "                                   cleaned_statement  \n",
            "0                                            oh gosh  \n",
            "1  trouble sleeping confused mind restless heart ...  \n",
            "2  wrong back dear forward doubt stay restless re...  \n",
            "3  ive shifted focus something else im still worried  \n",
            "4                im restless restless month boy mean  \n",
            "5  every break must nervous like something wrong ...  \n",
            "6  feel scared anxious may family us protected :) :)  \n",
            "7                       ever felt nervous didnt know  \n",
            "8  havent slept well days like im restless huh :( :(  \n",
            "9                         im really worried want cry  \n"
          ]
        }
      ]
    },
    {
      "cell_type": "code",
      "source": [
        "#Check for null values\n",
        "\n",
        "empty_entries = df_new[df_new['cleaned_statement'] == \"\"]\n",
        "print(\"Number of empty entries:\", len(empty_entries))\n",
        "print(empty_entries[['statement', 'cleaned_statement']])\n"
      ],
      "metadata": {
        "colab": {
          "base_uri": "https://localhost:8080/"
        },
        "id": "TXtCLQY4nvxU",
        "outputId": "d5295456-611b-4605-b4dc-58a440e4033c"
      },
      "execution_count": 47,
      "outputs": [
        {
          "output_type": "stream",
          "name": "stdout",
          "text": [
            "Number of empty entries: 492\n",
            "           statement cleaned_statement\n",
            "293              NaN                  \n",
            "572              NaN                  \n",
            "595              NaN                  \n",
            "1224   Just on again                  \n",
            "1539             NaN                  \n",
            "...              ...               ...\n",
            "52838            NaN                  \n",
            "52870            NaN                  \n",
            "52936            NaN                  \n",
            "53010            NaN                  \n",
            "53031            NaN                  \n",
            "\n",
            "[492 rows x 2 columns]\n"
          ]
        }
      ]
    },
    {
      "cell_type": "code",
      "source": [
        "# Remove rows where 'cleaned_statement' is either NaN or an empty string\n",
        "df_new = df_new[df_new['cleaned_statement'].notna() & (df_new['cleaned_statement'] != \"\")]\n"
      ],
      "metadata": {
        "id": "uz19y8AnoKgU"
      },
      "execution_count": 48,
      "outputs": []
    },
    {
      "cell_type": "code",
      "source": [
        "#Sanity check--make sure NaN and empty values are removed\n",
        "\n",
        "print(\"Any NaN values:\", df_new['cleaned_statement'].isna().any())\n",
        "print(\"Any empty strings:\", (df_new['cleaned_statement'] == \"\").any())\n"
      ],
      "metadata": {
        "colab": {
          "base_uri": "https://localhost:8080/"
        },
        "id": "8b1RmbqKoMNr",
        "outputId": "6c975724-8085-4d5d-f5fc-a46e6a1a1cd4"
      },
      "execution_count": 49,
      "outputs": [
        {
          "output_type": "stream",
          "name": "stdout",
          "text": [
            "Any NaN values: False\n",
            "Any empty strings: False\n"
          ]
        }
      ]
    },
    {
      "cell_type": "code",
      "source": [
        "#Check distribution of data after NaNs and empty values removed\n",
        "\n",
        "label_distribution = df_new['status'].value_counts()\n",
        "print(\"Label Distribution After Cleaning:\")\n",
        "print(label_distribution)\n",
        "\n",
        "\n",
        "# Plot label distribution\n",
        "plt.figure(figsize=(10, 6))\n",
        "label_distribution.plot(kind='bar', color='skyblue')\n",
        "plt.xlabel('Status')\n",
        "plt.ylabel('Frequency')\n",
        "plt.title('Distribution of Labels After Removing NaN and Empty Values')\n",
        "plt.show()\n"
      ],
      "metadata": {
        "colab": {
          "base_uri": "https://localhost:8080/",
          "height": 862
        },
        "id": "WJWH7qCQokri",
        "outputId": "e41c36b6-bb26-4a90-eb7d-07cf526021d0"
      },
      "execution_count": 50,
      "outputs": [
        {
          "output_type": "stream",
          "name": "stdout",
          "text": [
            "Label Distribution After Cleaning:\n",
            "status\n",
            "Normal                  16217\n",
            "Depression              15403\n",
            "Suicidal                10649\n",
            "Anxiety                  3841\n",
            "Bipolar                  2777\n",
            "Stress                   2587\n",
            "Personality disorder     1077\n",
            "Name: count, dtype: int64\n"
          ]
        },
        {
          "output_type": "display_data",
          "data": {
            "text/plain": [
              "<Figure size 1000x600 with 1 Axes>"
            ],
            "image/png": "[encoded data removed]"
          },
          "metadata": {}
        }
      ]
    },
    {
      "cell_type": "markdown",
      "source": [
        "Distribution looks relatively similar to original distribution after removing NaNs and empty values. This alleviates the concern that one column had a disproportionately high number of missing values."
      ],
      "metadata": {
        "id": "KOcZI1giqUfS"
      }
    },
    {
      "cell_type": "code",
      "source": [
        "#Check to make sure emoticons weren't removed\n",
        "\n",
        "import re\n",
        "\n",
        "# Define a list of common emoticons without word boundaries\n",
        "emoticons = [\n",
        "    r':\\)', r':-\\)',    # Happy face\n",
        "    r':\\(', r':-\\(',    # Sad face\n",
        "    r':D', r':-D',      # Big smile\n",
        "    r';\\)', r';-\\)',    # Wink\n",
        "    r':P', r':-P',      # Tongue out\n",
        "    r':O', r':-O',      # Surprised\n",
        "    r'XD',              # Laughing face (no nose variation)\n",
        "    r\":'\\)\", r\":-'\\)\",  # Crying face\n",
        "]\n",
        "\n",
        "# Combine emoticons into a single regex pattern\n",
        "emoticon_pattern = '|'.join(emoticons)\n",
        "\n",
        "# Create a Boolean column in the original DataFrame that indicates the presence of emoticons\n",
        "df['contains_emoticons_original'] = df['statement'].fillna('').str.contains(emoticon_pattern, regex=True)\n",
        "\n",
        "# Create a Boolean column in the cleaned DataFrame that indicates the presence of emoticons\n",
        "df_new['contains_emoticons_cleaned'] = df_new['cleaned_statement'].fillna('').str.contains(emoticon_pattern, regex=True)\n",
        "\n",
        "# Filter rows with emoticons in both datasets\n",
        "emoticon_rows_original = df[df['contains_emoticons_original']]\n",
        "emoticon_rows_cleaned = df_new[df_new['contains_emoticons_cleaned']]\n",
        "\n",
        "# Display rows with emoticons in the original dataset\n",
        "print(\"Rows with emoticons in the original dataset:\")\n",
        "print(emoticon_rows_original[['statement', 'contains_emoticons_original']])\n",
        "\n",
        "# Display rows with emoticons in the cleaned dataset\n",
        "print(\"\\nRows with emoticons in the cleaned dataset:\")\n",
        "print(emoticon_rows_cleaned[['cleaned_statement', 'contains_emoticons_cleaned']])\n",
        "\n",
        "\n",
        "#A minimal number of characters classified as emoticons in the original dataset were removed--I'm ok with this\n",
        "\n"
      ],
      "metadata": {
        "colab": {
          "base_uri": "https://localhost:8080/"
        },
        "id": "EB-PutkQlXGe",
        "outputId": "a9ed7cb8-80a0-4a0d-c15f-d9f652e38e43"
      },
      "execution_count": 51,
      "outputs": [
        {
          "output_type": "stream",
          "name": "stdout",
          "text": [
            "Rows with emoticons in the original dataset:\n",
            "                                               statement  \\\n",
            "6      I feel scared, anxious, what can I do? And may...   \n",
            "8      I haven't slept well for 2 days, it's like I'm...   \n",
            "19     If the guy is sick, the girl actually feels si...   \n",
            "49     I don't know if my mind breaks down, but I don...   \n",
            "116    And again suddenly feeling nervous and anxious...   \n",
            "...                                                  ...   \n",
            "52983  I can’t even vent to my friends and family any...   \n",
            "52985  Feeling so overwhelmed. can’t cope. Work is ca...   \n",
            "52998  Going to the cinema This is probably a very pa...   \n",
            "53012  Does anyone feel anxiety because of some peopl...   \n",
            "53030  A heart attack would be very obvious right? He...   \n",
            "\n",
            "       contains_emoticons_original  \n",
            "6                             True  \n",
            "8                             True  \n",
            "19                            True  \n",
            "49                            True  \n",
            "116                           True  \n",
            "...                            ...  \n",
            "52983                         True  \n",
            "52985                         True  \n",
            "52998                         True  \n",
            "53012                         True  \n",
            "53030                         True  \n",
            "\n",
            "[994 rows x 2 columns]\n",
            "\n",
            "Rows with emoticons in the cleaned dataset:\n",
            "                                       cleaned_statement  \\\n",
            "6      feel scared anxious may family us protected :) :)   \n",
            "8      havent slept well days like im restless huh :( :(   \n",
            "19     guy sick girl actually feels sick indirectly m...   \n",
            "49     dont know mind breaks dont want think :( feel ...   \n",
            "116    suddenly feeling nervous anxious without knowi...   \n",
            "...                                                  ...   \n",
            "52983  cant even vent friends family anymore theyll d...   \n",
            "52985  feeling overwhelmed cant cope work causing muc...   \n",
            "52998  going cinema probably particular issue ive nev...   \n",
            "53012  anyone feel anxiety people (sorry bad english ...   \n",
            "53030  heart attack would obvious right hey guys pain...   \n",
            "\n",
            "       contains_emoticons_cleaned  \n",
            "6                            True  \n",
            "8                            True  \n",
            "19                           True  \n",
            "49                           True  \n",
            "116                          True  \n",
            "...                           ...  \n",
            "52983                        True  \n",
            "52985                        True  \n",
            "52998                        True  \n",
            "53012                        True  \n",
            "53030                        True  \n",
            "\n",
            "[960 rows x 2 columns]\n"
          ]
        }
      ]
    },
    {
      "cell_type": "code",
      "source": [
        "#Just curious: Why are there fewer emoticons in the cleaned dataset?\n",
        "\n",
        "import re\n",
        "import pandas as pd\n",
        "\n",
        "# Define a list of common emoticons without word boundaries\n",
        "emoticons = [\n",
        "    r':\\)', r':-\\)',    # Happy face\n",
        "    r':\\(', r':-\\(',    # Sad face\n",
        "    r':D', r':-D',      # Big smile\n",
        "    r';\\)', r';-\\)',    # Wink\n",
        "    r':P', r':-P',      # Tongue out\n",
        "    r':O', r':-O',      # Surprised\n",
        "    r'XD',              # Laughing face (no nose variation)\n",
        "    r\":'\\)\", r\":-'\\)\",  # Crying face\n",
        "]\n",
        "\n",
        "# Combine emoticons into a single regex pattern\n",
        "emoticon_pattern = '|'.join(emoticons)\n",
        "\n",
        "# Create a Boolean column in the original DataFrame indicating the presence of emoticons\n",
        "df['contains_emoticons_original'] = df['statement'].fillna('').str.contains(emoticon_pattern, regex=True)\n",
        "\n",
        "# Create a Boolean column in the cleaned DataFrame indicating the presence of emoticons\n",
        "df_new['contains_emoticons_cleaned'] = df_new['cleaned_statement'].fillna('').str.contains(emoticon_pattern, regex=True)\n",
        "\n",
        "# Identify rows where emoticons are present in the original dataset but not in the cleaned dataset\n",
        "emoticon_discrepancy_rows = df[(df['contains_emoticons_original']) & (~df_new['contains_emoticons_cleaned'])]\n",
        "\n",
        "# Set max column width to None to display the full content of each cell\n",
        "pd.set_option('display.max_colwidth', None)\n",
        "\n",
        "# Display the rows with discrepancies, showing the full content\n",
        "print(\"Rows with emoticons in the original dataset but not in the cleaned dataset:\")\n",
        "print(emoticon_discrepancy_rows[['statement']])\n",
        "\n",
        "# Reset display option to default after printing\n",
        "pd.reset_option('display.max_colwidth')\n",
        "\n",
        "\n"
      ],
      "metadata": {
        "colab": {
          "base_uri": "https://localhost:8080/"
        },
        "id": "w1DvKFAasNuW",
        "outputId": "be4ef7b1-86f0-4ed7-9d18-873a75f47d73"
      },
      "execution_count": 52,
      "outputs": [
        {
          "output_type": "stream",
          "name": "stdout",
          "text": [
            "Rows with emoticons in the original dataset but not in the cleaned dataset:\n",
            "                                                                                                                                                                                                                                                                                                                                                                                                                                                                                                                                                                                                                                                                                                                                                                                                                                                                                                                                                                                                                                                                                                                                                                                                                                                                                                                                                                                                                                                                                                                                                                                                                                                                                                                                                                                                                                                                                                                                                                                                                                                                                                                                                                                                                                                                                                                                                                                                                                                                                                                                                                                                                                                                                                                                                                                                                                                                                                                                                                                                                                                                                                                                                                                                                                                                                                                                                                                                                                                                                                                                                                                                                                                                                                                                                                 statement\n",
            "1426                                                                                                                                                                                                                                                                                                                                                                                                                                                                                                                                                                                                                                                                                                                                                                                                                                                                                                                                                                                                                                                                                                                                                                                                                                                                                                                                                                                                                                                                                                                                                                                                                                                                                                                                                                                                                                                                                                                                                                                                                                                                                                                                                                                                                                                                                                                                                                                                                                                                                                                                                                                                                                                                                                                                                                                                                                                                                                                                                                                                                                                                                                                                                                                                                                                                                                                                                                                                                                                                                                                                                                                                                                                                                                                                     Is tl alive for dsmp sona art? :D\n",
            "2065                                                                                                                                                                                                                                                                                                                                                                                                                                                                                                                                                                                                                                                                                                                                                                                                                                                                                                                                                                                                                                                                                                                                                                                                                                                                                                                                                                                                                                                                                                                                                                                                                                                                                                                                                                                                                                                                                                                                                                                                                                                                                                                                                                                                                                                                                                                                                                                                                                                                                                                                                                                                                                                                                                                                                                                                                                                                                                                                                                                                                                                                                                                                                                                                                                                                                                                                                                                                                                                                                                                                                                                                                                                                                                          What color is the theme for your raya clothes?..Me: brown :D\n",
            "3586                                                                                                                                                                                                                                                                                                                                                                                                                                                                                                                                                                                                                                                                                                                                                                                                                                                                                                                                                                                                                                                                                                                                                                                                                                                                                                                                                                                                                                                                                                                                                                                                                                                                                                                                                                                                                                                                                                                                                                                                                                                                                                                                                                                                                                                                                                                                                                                                                                                                                                                                                                                                                                                                                                                                                                                                                                                                                                                                                                                                                                                                                                                                                                                                                                                                                                                                                                                                                                                                                                                                                                                                                                                                                                                                  che de donde sacan q jyp murio ?? XD\n",
            "3731                                                                                                                                                                                                                                                                                                                                                                                                                                                                                                                                                                                                                                                                                                                                                                                                                                                                                                                                                                                                                                                                                                                                                                                                                                                                                                                                                                                                                                                                                                                                                                                                                                                                                                                                                                                                                                                                                                                                                                                                                                                                                                                                                                                                                                                                                                                                                                                                                                                                                                                                                                                                                                                                                                                                                                                                                                                                                                                                                                                                                                                                                                                                                                                                                                                                                                                                                                                                                                                                                                                                                                                                                                                                                                  company name : mirae hoshiho aka future Hoshi and mashiho :D avvvvvv\n",
            "5042                                                                                                                                                                                                                                                                                                                                                                                                                                                                                                                                                                                                                                                                                                                                                                                                                                                                                                                                                                                                                                                                                                                                                                                                                                                                                                                                                                                                                                                                                                                                                                                                                                                                                                                                                                                                                                                                                                                                                                                                                                                                                                                                                                                                                                                                                                                                                                                                                                                                                                                                                                                                                                                                                                                                                                                                                                                                                                                                                                                                                                                                                                                                                                                                                                                                                                                                                                                                                                                                                                                                                                                                                                              Those who haven't bought the 2nd album chibi, hurry up and buy it :D If you live outside the city, just buy it online :D\n",
            "...                                                                                                                                                                                                                                                                                                                                                                                                                                                                                                                                                                                                                                                                                                                                                                                                                                                                                                                                                                                                                                                                                                                                                                                                                                                                                                                                                                                                                                                                                                                                                                                                                                                                                                                                                                                                                                                                                                                                                                                                                                                                                                                                                                                                                                                                                                                                                                                                                                                                                                                                                                                                                                                                                                                                                                                                                                                                                                                                                                                                                                                                                                                                                                                                                                                                                                                                                                                                                                                                                                                                                                                                                                                                                                                                                                    ...\n",
            "51184                                                                                                                                                                                                                                                                                                                                                                                                                                                                                                                                                                                                                                                                                                                                                                                                                                                                                                                                                                                                                                                                                                                                                                                                                                                                                                                                                                                                                                                                                                                                                                                                                                                                                                                                                                                                                                                                                                                                                                                                                                                                                                                                                                                                                                                                                                                                                                                                                                                                                                                                                                                                                                                                                                                                                     Does anyone else do insane mental gymnastics to get out of going places? I swear, some of the reasons I've come up with in order to avoid meeting people... it's so crazy, like why can't this creative energy be harnessed anywhere else?\\n\\nFor example I've literally riden a 30 minute bus to a place, walked right up to the door, then heard the dreadful sound of people inside.. and that's all it took for me to make a 180 and ride that same bus back home. The reason in my head was like \"hmm, they're meeting next week so I can just wait until then, surely I will do it next time :D\" It's just, Ahhhhhhhhh I hate myself man. Why Why Why Why Why Why Why Why Why am I like this\\n\\nand the thing is, I really need the socialization too, like I'm so freaking lonely... the instant I arrive back home I'm like \"shit I really should've just gone in, now I have nothing to do again, why did I listen to myself\" and it just makes me even more depressed thinking about how pathetic I am\n",
            "51351                                                                                                                                                                                                                                                                                                                                                                                                                                                                                                                                                                                                                                                                                                                                                                                                                                                                                                                                                                                                                                                                                                                                                                                                                                                                                                                                                                                                                                                                                                                                                                                                                                                                                                                                                                                                                                                                                                                                                                                                                                                                                                                                                                                                                                                                                                                                                                                                                                                                                                                                                                                                                                                                                                                                                                                                                                                                                                                                                                                                                                                                                                                                                                                                                                                                                                                                                                                                                                                                                                                                                                                                                                                                              Hope u have a great weekend😊Left a link to a treat enjoy❤️ https://youtu.be/6Wk7XDrsWyY\n",
            "51843  I despise my mom ( 22m ) Pretty much the title - I just can't stand her, I never liked her ever since I was a little kid but for me that hate went much higher beyond it.\\n\\n\\nJust to clarify, I don't think she is the abusive type - more like the overcontrolling and overbearing type of mom - the type that when you make a mistake or fail to do as she asks ( even if it's just the order of the way I put things in their place ) she will scold and do it herself - even if those are MY things ( she isn't satisfied with the way I put my clothes in my wardrobe or when I don't do it immediately) and barely have any respect to my privacy - In the past she wouldn't even let me close my own door so my room was always open, even this days she complain when I don't leave a gap ( but on that case I don't give a fuck anymore and barely leaves any - not a door you can close easily ) and she would always complain about im not normal or like 'the other kids/people' because I don't act or do things they do, and I cant forget her  'what you gonna do with your life, play on the computer all day? ' speech which she does when she remembers she needs to get mad or moody for no reason.\\n\\nIm afraid of embarrassing myself in public, im afraid of even doing some of the basic stuff because I don't think I can do it or I'll make a clown out of myself - and it always comes back to how I was never really taught how to control my own life and be independent - even in the few times she did taught me anything she would still eventually take control and it doesn't make me motivated to even try. one of the reasons I eat in my room is because I just don't want to be around her because I will always get criticized for something - my beard ( which no one taught me how to do it, and my dad lives abroad ) , my ears, my hair, my clothes - everything. She always tries to pick things for me to wear and while today i do wear whatever I want regardless of her opinion/picks I still remember that when I was younger she would be upset and mad if I didn't wear what she wanted me to wear ( and she still kinda give the bitch look but as I said - I still wear what I wear ) and the judgement doesn't stop at that. Her favorite habit is that on events and gatherings she would always whisper in my ear what's wrong me in the moment - could be anything from noticing something dirty or not to her eyes that no gives a fuck about, the way I behave ( WhY YoU ARe NoT SmiLing ) and all other type of shit to make me lose confidence or be overly aware of my problems. She would always try to buy me stuff I don't want or asked to get and would always expect me to thank her even if sometimes she was the one that was pressuring me to get something.\\n\\nWhen I think about all of this ( and other stuff ) I understand why im so incompetent, afraid of making mistakes or embarrassing myself and stuck in that avoident and depressive mind set. It's not all her - there are things I probably could've done myself ( and still can do ) and even without her the competitive and soulless society most of us are part of just adds a lot to the way we end up - and still - she has a part in why my life fucking sucks - and now I need to find a way to get back on track somehow.\\n\\nAlso, today I pretty much snapped at her in an unrelated case which eventually also happened because of all those feelings I stored inside. I don't talk to her and tbh it's such a good feeling.\\n\\nP.S : if there was another post made by me that's titled the same blame my stupid phone for this XD. Im also sorry for possible grammar mistakes - don't mind someone fixin them.\n",
            "52702                                                                                                                                                                                                                                                                                                                                                                                                                                                                                                                                                                                                                                                                                                                                                                                                                                                                                                                                                                                                                                                                                                                                                                                                                                                    I’m (29M) having bad anxiety in new relationship I (29M) started dating my girlfriend (24F) around 3 months ago. Almost a month ago we became officially boyfriend/girlfriend, and since then my anxiety has sky-rocketed. \\n\\nAt the start I used to be pretty confident, always trusted her etc, but now I’m struggling. She has given me 0 reason not to trust her, but I’m always thinking worst case scenario. She is on her phone? Probably talking to another guy. She goes out with her friends? Probably cheating on me. Yesterday we were together in bed and I saw she was looking at some photos on her phone, and could see on the photo reel some pictures I didn’t recognize. The background was red, and that was everything I could actually see (I was without glasses). I immediately started thinking that those pictures are probably with a random guy, and that she is cheating on me. I mean, even if they were photos with someone else (which I don’t even know if they were photos of her/screenshots/ a random thing etc), she can have photos with friends without me thinking this. \\n\\nI know this is not healthy, and while I haven’t showed her my anxiety, I’m sure at some point I will mess up and she will probably start distancing herself. I mean, this reeks controlling behavior, right? I even had some issues with my bank that I thought she caused (not at all). This is my second relationship, my first was not great but my ex never cheated or anything, so I’m not sure what is causing this. Could it he that Im insecure? Or just don’t want to lose her? My gf is awesome and I really enjoy our relationship so far. She is attentive, shows interest, always makes time for us, cooks for me etc. I feel loved.\\n\\nIt is worth noting that I almost screw everything up at the beginning, as I broke up with her before we were oficial for another girl. I realized my mistake shortly after and she accepted me back (after apologizing and having a deep conversation with her). I’m constantly thinking that I don’t deserver her after that, and that if I were her, who knows if I would have taken me back. Could this be part of it?\\n\\nTL:DR: I (29M) started dating my gf (24F) over 3 months ago. She has given me 0 reason to not trust her, but I’m constantly anxious thinking the worst (that she is talking with other people, cheating on me etc). This makes me fear I will eventually become very controlling. How can I address this?\n",
            "52738                                                                                                                                                                                                                                                                                                                                                                                                                                                                                                                                                                                                                                                                                                                                                                                                                                                                                                                                                                                                                                                                                                                                                                                                                                                                                                                                                                                                                                                                                                                                                                                                                                                                                                                                                                                                                                        Questions for new anxiety sufferer... Does anybody's anxiety present with just the following symptoms:\\n\\nChest Tightness\\n\\nTightness in the front of the neck and under the chin\\n\\nLight-headedness/Dizziness\\n\\nFeeling Faint/Like I may pass out\\n\\nNausea\\n\\nThese are the symptoms I've been feeling. I don't really seem to have an impending sense of fear or doom when these things happen, but I will say they are triggered by talking about my condition, or just general stress, but sometimes they happen for no reason at all. I have just been sitting watching TV, playing a video game, or scrolling through Reddit and they've happened.\\n\\nI've been to the ER three times at two different hospitals in the past week with these symptoms (in addition to high blood pressure) and all three times, my blood work and ECG have been normal.\\n\\nI need to add, a lot of these symptoms got worse when lying down, and got better when sitting up or walking.\\n\\nIn light of that last detail, the ER doctors said \"it's just GERD\" and sent me home with orders for a PPI medication and a Blood Pressure medication.\\n\\nWell, the GERD has improved, and all the symptoms I've listed above have improved as well but haven't gone away.\\n\\nI'm seeing an anxiety doctor later this week, and out of an abundance of caution, a cardiologist later next month (soonest they could get me in)\\n\\n*Another detail: I received a call from the doctor earlier telling me my cholesterol was high and my potassium was a little high from the Lisinopril (BP med) so they started me on a diuretic and a cholesterol medication. As soon as I got off the phone with that news, I instantly started feeling the pressure in my neck and chest... This is what leads me to believe my symptoms are anxiety related.\\n\\nTL:DR - Asking about all of your symptoms to see if mine line up with anxiety or not.\n",
            "\n",
            "[76 rows x 1 columns]\n"
          ]
        }
      ]
    },
    {
      "cell_type": "code",
      "source": [
        "#Sanity check to make sure capital letters were removed\n",
        "\n",
        "contains_capital_letters = df_new['cleaned_statement'].str.contains(r\"[A-Z]\").any()\n",
        "print(\"Contains capital letters:\", contains_capital_letters)\n"
      ],
      "metadata": {
        "colab": {
          "base_uri": "https://localhost:8080/"
        },
        "id": "7wwRzMJWsO10",
        "outputId": "ee527379-7c35-477b-a816-52e4f8e14379"
      },
      "execution_count": 53,
      "outputs": [
        {
          "output_type": "stream",
          "name": "stdout",
          "text": [
            "Contains capital letters: False\n"
          ]
        }
      ]
    },
    {
      "cell_type": "code",
      "source": [
        "#Remove contractions\n",
        "!pip install contractions\n",
        "\n",
        "from contractions import fix\n",
        "\n",
        "df_new['cleaned_statement'] = df_new['cleaned_statement'].apply(fix)\n"
      ],
      "metadata": {
        "colab": {
          "base_uri": "https://localhost:8080/"
        },
        "id": "CK_JkPXqs1-B",
        "outputId": "a157ad11-f0f9-43dd-a1b7-e5229e1fb957"
      },
      "execution_count": 54,
      "outputs": [
        {
          "output_type": "stream",
          "name": "stdout",
          "text": [
            "Requirement already satisfied: contractions in /usr/local/lib/python3.10/dist-packages (0.1.73)\n",
            "Requirement already satisfied: textsearch>=0.0.21 in /usr/local/lib/python3.10/dist-packages (from contractions) (0.0.24)\n",
            "Requirement already satisfied: anyascii in /usr/local/lib/python3.10/dist-packages (from textsearch>=0.0.21->contractions) (0.3.2)\n",
            "Requirement already satisfied: pyahocorasick in /usr/local/lib/python3.10/dist-packages (from textsearch>=0.0.21->contractions) (2.1.0)\n"
          ]
        }
      ]
    },
    {
      "cell_type": "code",
      "source": [
        "#Sanity check: check if common contractions separated into two words\n",
        "\n",
        "# Define common contractions and their expanded forms\n",
        "contractions_expansions = {\n",
        "    \"don't\": \"do not\",\n",
        "    \"can't\": \"cannot\",\n",
        "    \"I'm\": \"I am\",\n",
        "    \"you're\": \"you are\",\n",
        "    \"they've\": \"they have\",\n",
        "    \"it's\": \"it is\",\n",
        "    \"isn't\": \"is not\",\n",
        "    \"won't\": \"will not\",\n",
        "    \"didn't\": \"did not\",\n",
        "    \"couldn't\": \"could not\"\n",
        "}\n",
        "\n",
        "# Check if any contractions remain and if expanded versions exist\n",
        "for contraction, expanded in contractions_expansions.items():\n",
        "    # Check if any remaining contractions are present\n",
        "    has_contraction = df_new['cleaned_statement'].str.contains(contraction, case=False).any()\n",
        "\n",
        "    # Check if expanded form is present\n",
        "    has_expansion = df_new['cleaned_statement'].str.contains(expanded, case=False).any()\n",
        "\n",
        "    # Print results for each contraction\n",
        "    print(f\"Contraction '{contraction}':\")\n",
        "    print(f\"  Exists in cleaned text? {has_contraction}\")\n",
        "    print(f\"  Expanded form '{expanded}' found? {has_expansion}\")\n",
        "    print()\n",
        "\n"
      ],
      "metadata": {
        "colab": {
          "base_uri": "https://localhost:8080/"
        },
        "id": "mr-ENH0p3NH4",
        "outputId": "84894f58-2f6b-4012-81ad-44d6830ab4a9"
      },
      "execution_count": 56,
      "outputs": [
        {
          "output_type": "stream",
          "name": "stdout",
          "text": [
            "Contraction 'don't':\n",
            "  Exists in cleaned text? False\n",
            "  Expanded form 'do not' found? True\n",
            "\n",
            "Contraction 'can't':\n",
            "  Exists in cleaned text? False\n",
            "  Expanded form 'cannot' found? True\n",
            "\n",
            "Contraction 'I'm':\n",
            "  Exists in cleaned text? False\n",
            "  Expanded form 'I am' found? True\n",
            "\n",
            "Contraction 'you're':\n",
            "  Exists in cleaned text? False\n",
            "  Expanded form 'you are' found? True\n",
            "\n",
            "Contraction 'they've':\n",
            "  Exists in cleaned text? False\n",
            "  Expanded form 'they have' found? True\n",
            "\n",
            "Contraction 'it's':\n",
            "  Exists in cleaned text? False\n",
            "  Expanded form 'it is' found? True\n",
            "\n",
            "Contraction 'isn't':\n",
            "  Exists in cleaned text? False\n",
            "  Expanded form 'is not' found? True\n",
            "\n",
            "Contraction 'won't':\n",
            "  Exists in cleaned text? False\n",
            "  Expanded form 'will not' found? True\n",
            "\n",
            "Contraction 'didn't':\n",
            "  Exists in cleaned text? False\n",
            "  Expanded form 'did not' found? True\n",
            "\n",
            "Contraction 'couldn't':\n",
            "  Exists in cleaned text? False\n",
            "  Expanded form 'could not' found? True\n",
            "\n"
          ]
        }
      ]
    },
    {
      "cell_type": "code",
      "source": [
        "#Remove words containing non-ASCII and other odd characters but preserving emoticons\n",
        "\n",
        "import re\n",
        "\n",
        "# Define a list of common emoticons to preserve\n",
        "emoticons = [\n",
        "    r':\\)', r':-\\)',    # Happy face\n",
        "    r':\\(', r':-\\(',    # Sad face\n",
        "    r':D', r':-D',      # Big smile\n",
        "    r';\\)', r';-\\)',    # Wink\n",
        "    r':P', r':-P',      # Tongue out\n",
        "    r':O', r':-O',      # Surprised\n",
        "    r'XD',              # Laughing face (no nose variation)\n",
        "    r\":'\\)\", r\":-'\\)\",  # Crying face\n",
        "]\n",
        "\n",
        "def remove_odd_words_preserve_emoticons(text):\n",
        "    # Split the text into words\n",
        "    words = text.split()\n",
        "\n",
        "    # Filter words: keep ASCII-only words, emoticons, or words containing allowed special characters\n",
        "    filtered_words = []\n",
        "    for word in words:\n",
        "        # Keep the word if it matches emoticon pattern\n",
        "        if any(re.match(emoticon, word) for emoticon in emoticons):\n",
        "            filtered_words.append(word)\n",
        "        # Keep ASCII-only words with allowed characters (apostrophe, semicolon, slash, dash)\n",
        "        elif re.match(r\"^[a-zA-Z';/\\-]+$\", word):\n",
        "            filtered_words.append(word)\n",
        "\n",
        "    # Join the filtered words back into a string\n",
        "    return ' '.join(filtered_words)\n",
        "\n",
        "# Apply to DataFrame column\n",
        "df_new['cleaned_statement'] = df_new['cleaned_statement'].apply(remove_odd_words_preserve_emoticons)\n",
        "\n",
        "# Display the cleaned text\n",
        "print(df_new[['cleaned_statement']].head())\n",
        "\n",
        "\n",
        "\n"
      ],
      "metadata": {
        "colab": {
          "base_uri": "https://localhost:8080/"
        },
        "id": "q6ysK-1oeHB8",
        "outputId": "89309bbb-95e9-42d8-a708-3b1794abbfa0"
      },
      "execution_count": 57,
      "outputs": [
        {
          "output_type": "stream",
          "name": "stdout",
          "text": [
            "                                   cleaned_statement\n",
            "0                                            oh gosh\n",
            "1  trouble sleeping confused mind restless heart ...\n",
            "2  wrong back dear forward doubt stay restless re...\n",
            "3  i have shifted focus something else i am still...\n",
            "4              i am restless restless month boy mean\n"
          ]
        }
      ]
    },
    {
      "cell_type": "code",
      "source": [
        "#Check to make sure emoticons weren't removed\n",
        "\n",
        "import re\n",
        "\n",
        "# Define a list of common emoticons\n",
        "emoticons = [\n",
        "    r':\\)', r':-\\)',    # Happy face\n",
        "    r':\\(', r':-\\(',    # Sad face\n",
        "    r':D', r':-D',      # Big smile\n",
        "    r';\\)', r';-\\)',    # Wink\n",
        "    r':P', r':-P',      # Tongue out\n",
        "    r':O', r':-O',      # Surprised\n",
        "    r'XD',              # Laughing face (no nose variation)\n",
        "    r\":'\\)\", r\":-'\\)\",  # Crying face\n",
        "]\n",
        "\n",
        "# Combine emoticons into a single regex pattern\n",
        "emoticon_pattern = '|'.join(emoticons)\n",
        "\n",
        "# Check if any cleaned statements contain emoticons\n",
        "contains_emoticons = df_new['cleaned_statement'].str.contains(emoticon_pattern, regex=True)\n",
        "\n",
        "# Display rows that still contain emoticons\n",
        "emoticon_rows = df_new[contains_emoticons]\n",
        "\n",
        "print(\"Rows in cleaned dataset with emoticons:\")\n",
        "print(emoticon_rows[['cleaned_statement']])\n",
        "\n",
        "#This code kept most emoticons, although it did delete some."
      ],
      "metadata": {
        "colab": {
          "base_uri": "https://localhost:8080/"
        },
        "id": "8mCU-pxZqAvu",
        "outputId": "71662a32-9476-4c4d-cf9c-021fc2cd6c9b"
      },
      "execution_count": 58,
      "outputs": [
        {
          "output_type": "stream",
          "name": "stdout",
          "text": [
            "Rows in cleaned dataset with emoticons:\n",
            "                                       cleaned_statement\n",
            "6      feel scared anxious may family us protected :) :)\n",
            "8      have not slept well days like i am restless hu...\n",
            "19     guy sick girl actually feels sick indirectly m...\n",
            "49     do not know mind breaks do not want think :( f...\n",
            "116    suddenly feeling nervous anxious without knowi...\n",
            "...                                                  ...\n",
            "52983  cannot even vent friends family anymore they w...\n",
            "52985  feeling overwhelmed cannot cope work causing m...\n",
            "52998  going cinema probably particular issue i have ...\n",
            "53012  anyone feel anxiety people bad english grammar...\n",
            "53030  heart attack would obvious right hey guys pain...\n",
            "\n",
            "[947 rows x 1 columns]\n"
          ]
        }
      ]
    },
    {
      "cell_type": "code",
      "source": [
        "#Convert words into their base form\n",
        "import nltk\n",
        "nltk.download('wordnet')\n",
        "\n",
        "from nltk.stem import WordNetLemmatizer\n",
        "\n",
        "lemmatizer = WordNetLemmatizer()\n",
        "df_new['cleaned_statement'] = df_new['cleaned_statement'].apply(lambda x: \" \".join([lemmatizer.lemmatize(word) for word in x.split()]))\n"
      ],
      "metadata": {
        "colab": {
          "base_uri": "https://localhost:8080/"
        },
        "id": "BPg5-zcS4Fkr",
        "outputId": "b60790a4-9e12-446b-b6c0-10a5e045024c"
      },
      "execution_count": 59,
      "outputs": [
        {
          "output_type": "stream",
          "name": "stderr",
          "text": [
            "[nltk_data] Downloading package wordnet to /root/nltk_data...\n"
          ]
        }
      ]
    },
    {
      "cell_type": "code",
      "source": [
        "#Sanity check lemmatization\n",
        "\n",
        "# Create a new DataFrame with the original and cleaned text columns\n",
        "combined_df = pd.DataFrame({\n",
        "    'statement': df['statement'],\n",
        "    'cleaned_statement': df_new['cleaned_statement']\n",
        "})\n",
        "\n",
        "# Display the first few rows\n",
        "print(combined_df.head(10))\n",
        "\n"
      ],
      "metadata": {
        "colab": {
          "base_uri": "https://localhost:8080/"
        },
        "id": "f5AvAc5n_W1V",
        "outputId": "6c8e6cde-d80a-417a-b8f4-aad1e986d0f4"
      },
      "execution_count": 60,
      "outputs": [
        {
          "output_type": "stream",
          "name": "stdout",
          "text": [
            "                                           statement  \\\n",
            "0                                         oh my gosh   \n",
            "1  trouble sleeping, confused mind, restless hear...   \n",
            "2  All wrong, back off dear, forward doubt. Stay ...   \n",
            "3  I've shifted my focus to something else but I'...   \n",
            "4  I'm restless and restless, it's been a month n...   \n",
            "5  every break, you must be nervous, like somethi...   \n",
            "6  I feel scared, anxious, what can I do? And may...   \n",
            "7    Have you ever felt nervous but didn't know why?   \n",
            "8  I haven't slept well for 2 days, it's like I'm...   \n",
            "9                 I'm really worried, I want to cry.   \n",
            "\n",
            "                                   cleaned_statement  \n",
            "0                                            oh gosh  \n",
            "1  trouble sleeping confused mind restless heart ...  \n",
            "2  wrong back dear forward doubt stay restless re...  \n",
            "3  i have shifted focus something else i am still...  \n",
            "4              i am restless restless month boy mean  \n",
            "5  every break must nervous like something wrong ...  \n",
            "6   feel scared anxious may family u protected :) :)  \n",
            "7                     ever felt nervous did not know  \n",
            "8  have not slept well day like i am restless huh...  \n",
            "9                       i am really worried want cry  \n"
          ]
        }
      ]
    },
    {
      "cell_type": "code",
      "source": [
        "#Trying the Porter stemmer\n",
        "\n",
        "from nltk.stem import PorterStemmer\n",
        "import re\n",
        "\n",
        "# Initialize the Porter Stemmer\n",
        "porter = PorterStemmer()\n",
        "\n",
        "def simple_tokenizer(text):\n",
        "    # Use regex to split words\n",
        "    return re.findall(r'\\b\\w+\\b', text)\n",
        "\n",
        "def stem_text(text):\n",
        "    words = simple_tokenizer(text)  # Tokenize with custom tokenizer\n",
        "    # Stem each word and join them back into a single string\n",
        "    stemmed_text = ' '.join(porter.stem(word) for word in words)\n",
        "    return stemmed_text\n",
        "\n",
        "# Apply stemming to a DataFrame column\n",
        "df_new['stemmed_statement'] = df_new['cleaned_statement'].apply(stem_text)\n",
        "\n",
        "# Display the stemmed text\n",
        "print(df_new[['cleaned_statement', 'stemmed_statement']].head())\n",
        "\n",
        "\n"
      ],
      "metadata": {
        "colab": {
          "base_uri": "https://localhost:8080/"
        },
        "id": "fmJAHLQdTSn9",
        "outputId": "88ad10f0-2768-4ffd-f9cc-45e27bc70861"
      },
      "execution_count": 64,
      "outputs": [
        {
          "output_type": "stream",
          "name": "stdout",
          "text": [
            "                                   cleaned_statement  \\\n",
            "0                                            oh gosh   \n",
            "1  trouble sleeping confused mind restless heart ...   \n",
            "2  wrong back dear forward doubt stay restless re...   \n",
            "3  i have shifted focus something else i am still...   \n",
            "4              i am restless restless month boy mean   \n",
            "\n",
            "                                   stemmed_statement  \n",
            "0                                            oh gosh  \n",
            "1       troubl sleep confus mind restless heart tune  \n",
            "2  wrong back dear forward doubt stay restless re...  \n",
            "3      i have shift focu someth els i am still worri  \n",
            "4              i am restless restless month boy mean  \n"
          ]
        }
      ]
    },
    {
      "cell_type": "code",
      "source": [
        "#Experiment with tf-idf transformation after making a copy of the dataset\n",
        "\n",
        "from sklearn.feature_extraction.text import TfidfVectorizer\n",
        "\n",
        "\n",
        "# Make a copy of the dataset to avoid modifying the original\n",
        "df_tfidf = df_new.copy()\n",
        "\n",
        "# Initialize TfidfVectorizer with smooth_idf=True\n",
        "tfidf_vectorizer = TfidfVectorizer(max_features=10000, smooth_idf=True)\n",
        "\n",
        "# Fit and transform the 'cleaned_statement' column in the copied dataset\n",
        "tfidf_matrix = tfidf_vectorizer.fit_transform(df_tfidf['stemmed_statement'])\n",
        "\n",
        "# Convert the TF-IDF matrix to a DataFrame for better readability\n",
        "tfidf_df = pd.DataFrame(tfidf_matrix.toarray(), columns=tfidf_vectorizer.get_feature_names_out())\n",
        "\n",
        "# Display the first few rows of the TF-IDF DataFrame\n",
        "print(tfidf_df.head())\n",
        "\n"
      ],
      "metadata": {
        "colab": {
          "base_uri": "https://localhost:8080/"
        },
        "id": "zHPjcTG5Z1X0",
        "outputId": "abd72785-adea-4a4f-b50e-edb69a9fe486"
      },
      "execution_count": 65,
      "outputs": [
        {
          "output_type": "stream",
          "name": "stdout",
          "text": [
            "    aa  aaa  aamp  aand   ab  aback  abandon  abd  abdomen  abdomin  ...  \\\n",
            "0  0.0  0.0   0.0   0.0  0.0    0.0      0.0  0.0      0.0      0.0  ...   \n",
            "1  0.0  0.0   0.0   0.0  0.0    0.0      0.0  0.0      0.0      0.0  ...   \n",
            "2  0.0  0.0   0.0   0.0  0.0    0.0      0.0  0.0      0.0      0.0  ...   \n",
            "3  0.0  0.0   0.0   0.0  0.0    0.0      0.0  0.0      0.0      0.0  ...   \n",
            "4  0.0  0.0   0.0   0.0  0.0    0.0      0.0  0.0      0.0      0.0  ...   \n",
            "\n",
            "   zombi  zombifi  zonaba  zonauang  zone  zoo  zoom  zopiclon   zu  zyprexa  \n",
            "0    0.0      0.0     0.0       0.0   0.0  0.0   0.0       0.0  0.0      0.0  \n",
            "1    0.0      0.0     0.0       0.0   0.0  0.0   0.0       0.0  0.0      0.0  \n",
            "2    0.0      0.0     0.0       0.0   0.0  0.0   0.0       0.0  0.0      0.0  \n",
            "3    0.0      0.0     0.0       0.0   0.0  0.0   0.0       0.0  0.0      0.0  \n",
            "4    0.0      0.0     0.0       0.0   0.0  0.0   0.0       0.0  0.0      0.0  \n",
            "\n",
            "[5 rows x 10000 columns]\n"
          ]
        }
      ]
    },
    {
      "cell_type": "markdown",
      "source": [
        "Some questions:\n",
        "-Should we do out of core learning since we have a relatively large dataset?\n",
        "\n",
        "-Still don't get why emoticons were removed. Do we have to get to the bottom of it? Does it matter since not many were removed?\n",
        "\n",
        "-Should we use GridSearch CV to find the best parameters before tokenization? Not sure if it will take too long since we have a large dataset\n",
        "\n",
        "-Maybe tf-idf with weighting isn't the best approach since we don't necessarily want to downplay words that commonly appear?\n",
        "\n",
        "-From Chollet: It turns out that when approaching a new text-classification task, you should pay close attention to the ratio between the number of samples in your training data and the mean number of words per sample (see figure 11.11). If that ratio is small—less than 1,500—then the bag-of-bigrams model will perform better (and as a bonus, it will be much faster to train and to iterate on too). If that ratio is higher than 1,500, then you should go with a sequence model. In other words, sequence models work best when lots of training data is available and when each sample is relatively short.\n"
      ],
      "metadata": {
        "id": "vtvj2kYbXvLj"
      }
    }
  ]
}